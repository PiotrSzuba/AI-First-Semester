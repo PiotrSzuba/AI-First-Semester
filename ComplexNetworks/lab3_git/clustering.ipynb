{
 "cells": [
  {
   "cell_type": "code",
   "execution_count": 3,
   "metadata": {
    "collapsed": true
   },
   "outputs": [],
   "source": [
    "import igraph as ig\n",
    "import matplotlib.pyplot as plt\n",
    "import pandas as pd"
   ]
  },
  {
   "cell_type": "code",
   "execution_count": 4,
   "outputs": [
    {
     "data": {
      "text/plain": "     source  target          source_label          target_label    weight\n0         0       1          Piotr Bródka    Tomasz Kajdanowicz  0.136364\n1         0       3          Piotr Bródka   Przemysław Kazienko  0.500000\n2         0       7          Piotr Bródka    Radosław Michalski  0.227273\n3         0       9          Piotr Bródka  Stanisław Saganowski  0.136364\n4         1       0    Tomasz Kajdanowicz          Piotr Bródka  0.076923\n..      ...     ...                   ...                   ...       ...\n163       9       4  Stanisław Saganowski             Jan Kocoń  0.019231\n164       9       8  Stanisław Saganowski       Maciej Piasecki  0.019231\n165       9      20  Stanisław Saganowski          Bartosz Perz  0.096154\n166       9      26  Stanisław Saganowski         Dominika Kunc  0.134615\n167       9      29  Stanisław Saganowski   Katarzyna Jabłońska  0.019231\n\n[168 rows x 5 columns]",
      "text/html": "<div>\n<style scoped>\n    .dataframe tbody tr th:only-of-type {\n        vertical-align: middle;\n    }\n\n    .dataframe tbody tr th {\n        vertical-align: top;\n    }\n\n    .dataframe thead th {\n        text-align: right;\n    }\n</style>\n<table border=\"1\" class=\"dataframe\">\n  <thead>\n    <tr style=\"text-align: right;\">\n      <th></th>\n      <th>source</th>\n      <th>target</th>\n      <th>source_label</th>\n      <th>target_label</th>\n      <th>weight</th>\n    </tr>\n  </thead>\n  <tbody>\n    <tr>\n      <th>0</th>\n      <td>0</td>\n      <td>1</td>\n      <td>Piotr Bródka</td>\n      <td>Tomasz Kajdanowicz</td>\n      <td>0.136364</td>\n    </tr>\n    <tr>\n      <th>1</th>\n      <td>0</td>\n      <td>3</td>\n      <td>Piotr Bródka</td>\n      <td>Przemysław Kazienko</td>\n      <td>0.500000</td>\n    </tr>\n    <tr>\n      <th>2</th>\n      <td>0</td>\n      <td>7</td>\n      <td>Piotr Bródka</td>\n      <td>Radosław Michalski</td>\n      <td>0.227273</td>\n    </tr>\n    <tr>\n      <th>3</th>\n      <td>0</td>\n      <td>9</td>\n      <td>Piotr Bródka</td>\n      <td>Stanisław Saganowski</td>\n      <td>0.136364</td>\n    </tr>\n    <tr>\n      <th>4</th>\n      <td>1</td>\n      <td>0</td>\n      <td>Tomasz Kajdanowicz</td>\n      <td>Piotr Bródka</td>\n      <td>0.076923</td>\n    </tr>\n    <tr>\n      <th>...</th>\n      <td>...</td>\n      <td>...</td>\n      <td>...</td>\n      <td>...</td>\n      <td>...</td>\n    </tr>\n    <tr>\n      <th>163</th>\n      <td>9</td>\n      <td>4</td>\n      <td>Stanisław Saganowski</td>\n      <td>Jan Kocoń</td>\n      <td>0.019231</td>\n    </tr>\n    <tr>\n      <th>164</th>\n      <td>9</td>\n      <td>8</td>\n      <td>Stanisław Saganowski</td>\n      <td>Maciej Piasecki</td>\n      <td>0.019231</td>\n    </tr>\n    <tr>\n      <th>165</th>\n      <td>9</td>\n      <td>20</td>\n      <td>Stanisław Saganowski</td>\n      <td>Bartosz Perz</td>\n      <td>0.096154</td>\n    </tr>\n    <tr>\n      <th>166</th>\n      <td>9</td>\n      <td>26</td>\n      <td>Stanisław Saganowski</td>\n      <td>Dominika Kunc</td>\n      <td>0.134615</td>\n    </tr>\n    <tr>\n      <th>167</th>\n      <td>9</td>\n      <td>29</td>\n      <td>Stanisław Saganowski</td>\n      <td>Katarzyna Jabłońska</td>\n      <td>0.019231</td>\n    </tr>\n  </tbody>\n</table>\n<p>168 rows × 5 columns</p>\n</div>"
     },
     "execution_count": 4,
     "metadata": {},
     "output_type": "execute_result"
    }
   ],
   "source": [
    "df = pd.read_csv(\"scholar_weighted.csv\")\n",
    "df"
   ],
   "metadata": {
    "collapsed": false
   }
  },
  {
   "cell_type": "code",
   "execution_count": 5,
   "outputs": [
    {
     "ename": "TypeError",
     "evalue": "argument 1 must be igraph._igraph.GraphBase, not list",
     "output_type": "error",
     "traceback": [
      "\u001b[0;31m---------------------------------------------------------------------------\u001b[0m",
      "\u001b[0;31mTypeError\u001b[0m                                 Traceback (most recent call last)",
      "Cell \u001b[0;32mIn[5], line 4\u001b[0m\n\u001b[1;32m      1\u001b[0m \u001b[38;5;28;01mfrom\u001b[39;00m \u001b[38;5;21;01migraph\u001b[39;00m \u001b[38;5;28;01mimport\u001b[39;00m Graph, EdgeSeq\n\u001b[1;32m      3\u001b[0m G \u001b[38;5;241m=\u001b[39m Graph\u001b[38;5;241m.\u001b[39mTupleList(\n\u001b[0;32m----> 4\u001b[0m     \u001b[43mEdgeSeq\u001b[49m\u001b[43m(\u001b[49m\u001b[43m[\u001b[49m\u001b[43m(\u001b[49m\u001b[43mrow\u001b[49m\u001b[43m[\u001b[49m\u001b[38;5;124;43m'\u001b[39;49m\u001b[38;5;124;43msource\u001b[39;49m\u001b[38;5;124;43m'\u001b[39;49m\u001b[43m]\u001b[49m\u001b[43m,\u001b[49m\u001b[43m \u001b[49m\u001b[43mrow\u001b[49m\u001b[43m[\u001b[49m\u001b[38;5;124;43m'\u001b[39;49m\u001b[38;5;124;43mtarget\u001b[39;49m\u001b[38;5;124;43m'\u001b[39;49m\u001b[43m]\u001b[49m\u001b[43m,\u001b[49m\u001b[43m \u001b[49m\u001b[43mrow\u001b[49m\u001b[43m[\u001b[49m\u001b[38;5;124;43m'\u001b[39;49m\u001b[38;5;124;43mweight\u001b[39;49m\u001b[38;5;124;43m'\u001b[39;49m\u001b[43m]\u001b[49m\u001b[43m)\u001b[49m\u001b[43m \u001b[49m\u001b[38;5;28;43;01mfor\u001b[39;49;00m\u001b[43m \u001b[49m\u001b[43m_\u001b[49m\u001b[43m,\u001b[49m\u001b[43m \u001b[49m\u001b[43mrow\u001b[49m\u001b[43m \u001b[49m\u001b[38;5;129;43;01min\u001b[39;49;00m\u001b[43m \u001b[49m\u001b[43mdf\u001b[49m\u001b[38;5;241;43m.\u001b[39;49m\u001b[43miterrows\u001b[49m\u001b[43m(\u001b[49m\u001b[43m)\u001b[49m\u001b[43m]\u001b[49m\u001b[43m)\u001b[49m,\n\u001b[1;32m      5\u001b[0m     directed\u001b[38;5;241m=\u001b[39m\u001b[38;5;28;01mTrue\u001b[39;00m\n\u001b[1;32m      6\u001b[0m )\n\u001b[1;32m      8\u001b[0m \u001b[38;5;66;03m# Set the vertex labels\u001b[39;00m\n\u001b[1;32m      9\u001b[0m G\u001b[38;5;241m.\u001b[39mvs[\u001b[38;5;124m'\u001b[39m\u001b[38;5;124mlabel\u001b[39m\u001b[38;5;124m'\u001b[39m] \u001b[38;5;241m=\u001b[39m df[\u001b[38;5;124m'\u001b[39m\u001b[38;5;124msource_label\u001b[39m\u001b[38;5;124m'\u001b[39m]\u001b[38;5;241m.\u001b[39mappend(df[\u001b[38;5;124m'\u001b[39m\u001b[38;5;124mtarget_label\u001b[39m\u001b[38;5;124m'\u001b[39m])\u001b[38;5;241m.\u001b[39munique()\u001b[38;5;241m.\u001b[39mtolist()\n",
      "\u001b[0;31mTypeError\u001b[0m: argument 1 must be igraph._igraph.GraphBase, not list"
     ]
    }
   ],
   "source": [
    "from igraph import Graph, EdgeSeq\n",
    "\n",
    "G = Graph.TupleList(\n",
    "    EdgeSeq(\n",
    "        [(row[\"source\"], row[\"target\"], row[\"weight\"]) for _, row in df.iterrows()]\n",
    "    ),\n",
    "    directed=True,\n",
    ")\n",
    "\n",
    "# Set the vertex labels\n",
    "G.vs[\"label\"] = df[\"source_label\"].append(df[\"target_label\"]).unique().tolist()"
   ],
   "metadata": {
    "collapsed": false
   }
  },
  {
   "cell_type": "code",
   "execution_count": null,
   "outputs": [],
   "source": [],
   "metadata": {
    "collapsed": false
   }
  }
 ],
 "metadata": {
  "kernelspec": {
   "display_name": "Python 3",
   "language": "python",
   "name": "python3"
  },
  "language_info": {
   "codemirror_mode": {
    "name": "ipython",
    "version": 2
   },
   "file_extension": ".py",
   "mimetype": "text/x-python",
   "name": "python",
   "nbconvert_exporter": "python",
   "pygments_lexer": "ipython2",
   "version": "2.7.6"
  }
 },
 "nbformat": 4,
 "nbformat_minor": 0
}
