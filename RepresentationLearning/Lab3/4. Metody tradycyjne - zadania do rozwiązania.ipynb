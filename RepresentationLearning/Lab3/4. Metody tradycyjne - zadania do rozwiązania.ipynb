{
 "cells": [
  {
   "attachments": {},
   "cell_type": "markdown",
   "id": "aa460fe9",
   "metadata": {},
   "source": [
    "Przed oddaniem zadania upewnij się, że wszystko działa poprawnie.\n",
    "**Uruchom ponownie kernel** (z paska menu: Kernel$\\rightarrow$Restart) a następnie\n",
    "**wykonaj wszystkie komórki** (z paska menu: Cell$\\rightarrow$Run All).\n",
    "\n",
    "Upewnij się, że wypełniłeś wszystkie pola `TU WPISZ KOD` lub `TU WPISZ ODPOWIEDŹ`, oraz\n",
    "że podałeś swoje imię i nazwisko poniżej:"
   ]
  },
  {
   "cell_type": "code",
   "execution_count": 1,
   "id": "61e15a2c",
   "metadata": {},
   "outputs": [],
   "source": [
    "NAME = \"Piotr Szuba\""
   ]
  },
  {
   "attachments": {},
   "cell_type": "markdown",
   "id": "6d47b5b5",
   "metadata": {},
   "source": [
    "---"
   ]
  },
  {
   "attachments": {},
   "cell_type": "markdown",
   "id": "d39eb517",
   "metadata": {},
   "source": [
    "# 4. Metody tradycyjne - zadania do rozwiązania"
   ]
  },
  {
   "cell_type": "code",
   "execution_count": 2,
   "id": "3b570a6a",
   "metadata": {},
   "outputs": [
    {
     "name": "stdout",
     "output_type": "stream",
     "text": [
      "{'train_auc': 0.7495235209113007, 'test_auc': 0.5090635837879438}\n",
      "{'train_auc': 0.5997868720259006, 'test_auc': 0.5723935526888403}\n",
      "{'train_auc': 0.9404451884019617, 'test_auc': 0.5264130636614107}\n"
     ]
    }
   ],
   "source": [
    "%run \"2. Zadania w przetwarzaniu grafów.ipynb\""
   ]
  },
  {
   "cell_type": "code",
   "execution_count": 3,
   "id": "b48f0cd7",
   "metadata": {},
   "outputs": [],
   "source": [
    "import numpy as np\n",
    "from torch_geometric.datasets import Planetoid\n",
    "from random_walk_model import get_representations, train_random_walk_model\n",
    "\n",
    "data = Planetoid(root=\"./data/\", name=\"Cora\")[0]"
   ]
  },
  {
   "attachments": {},
   "cell_type": "markdown",
   "id": "88ceca18",
   "metadata": {},
   "source": [
    "### Zadanie 4.1. (2.5 pkt)\n",
    "W poprzednim zeszycie zbadaliśmy jakość reprezentacji otrzymywanych za pomocą metody DeepWalk. W tym zadaniu zbadaj wpływ parametrów `p` i `q` na jakość działania metody Node2vec ($p \\neq 1$ oraz $q \\neq 1$):\n",
    "- wybierz kilka (min. 4) wartości dla każdego parametru\n",
    "- podsumuj w tabelce jakość wyznaczonych reprezentacji w zadaniu klasyfikacji wierzchołków na zbiorze Cora\n",
    "- pamiętaj, aby eksperyment dla każdego pojedynczego zestawu parametrów powtórzyć kilkukrotnie (np. 5 razy)\n",
    "- wyniki podaj w postaci: \"średnie testowe AUC $\\pm$ odchylenie standardowe\".\n",
    "\n",
    "Który zestaw parametrów zadziałał najlepiej?"
   ]
  },
  {
   "cell_type": "code",
   "execution_count": 11,
   "id": "8acffeb9",
   "metadata": {
    "deletable": false,
    "nbgrader": {
     "cell_type": "code",
     "checksum": "89fbffb2a4eed4230ba3c51224aa6b0e",
     "grade": true,
     "grade_id": "explore_node2vec_hyperparams",
     "locked": false,
     "points": 2.5,
     "schema_version": 3,
     "solution": true,
     "task": false
    }
   },
   "outputs": [
    {
     "name": "stdout",
     "output_type": "stream",
     "text": [
      "Liczba parametrów modelu: 346,624\n"
     ]
    },
    {
     "data": {
      "application/vnd.jupyter.widget-view+json": {
       "model_id": "414237933e5f4760ba5a8cdbd5c1632b",
       "version_major": 2,
       "version_minor": 0
      },
      "text/plain": [
       "Epochs:   0%|          | 0/50 [00:00<?, ?it/s]"
      ]
     },
     "metadata": {},
     "output_type": "display_data"
    },
    {
     "name": "stdout",
     "output_type": "stream",
     "text": [
      "Liczba parametrów modelu: 346,624\n"
     ]
    },
    {
     "data": {
      "application/vnd.jupyter.widget-view+json": {
       "model_id": "4df94ba992b541999207fec9791687b2",
       "version_major": 2,
       "version_minor": 0
      },
      "text/plain": [
       "Epochs:   0%|          | 0/50 [00:00<?, ?it/s]"
      ]
     },
     "metadata": {},
     "output_type": "display_data"
    },
    {
     "name": "stdout",
     "output_type": "stream",
     "text": [
      "Liczba parametrów modelu: 346,624\n"
     ]
    },
    {
     "data": {
      "application/vnd.jupyter.widget-view+json": {
       "model_id": "97047badb0a0458da3d367ba3c163cc8",
       "version_major": 2,
       "version_minor": 0
      },
      "text/plain": [
       "Epochs:   0%|          | 0/50 [00:00<?, ?it/s]"
      ]
     },
     "metadata": {},
     "output_type": "display_data"
    },
    {
     "name": "stdout",
     "output_type": "stream",
     "text": [
      "Liczba parametrów modelu: 346,624\n"
     ]
    },
    {
     "data": {
      "application/vnd.jupyter.widget-view+json": {
       "model_id": "1f4e664d08fc4739b3af628cdc236111",
       "version_major": 2,
       "version_minor": 0
      },
      "text/plain": [
       "Epochs:   0%|          | 0/50 [00:00<?, ?it/s]"
      ]
     },
     "metadata": {},
     "output_type": "display_data"
    },
    {
     "name": "stdout",
     "output_type": "stream",
     "text": [
      "Liczba parametrów modelu: 346,624\n"
     ]
    },
    {
     "data": {
      "application/vnd.jupyter.widget-view+json": {
       "model_id": "4ddc58a2e6fd4f69ab775ccaad9e5087",
       "version_major": 2,
       "version_minor": 0
      },
      "text/plain": [
       "Epochs:   0%|          | 0/50 [00:00<?, ?it/s]"
      ]
     },
     "metadata": {},
     "output_type": "display_data"
    },
    {
     "name": "stdout",
     "output_type": "stream",
     "text": [
      "Liczba parametrów modelu: 346,624\n"
     ]
    },
    {
     "data": {
      "application/vnd.jupyter.widget-view+json": {
       "model_id": "6902baf575e24b39a87ce6eb1eaf6d80",
       "version_major": 2,
       "version_minor": 0
      },
      "text/plain": [
       "Epochs:   0%|          | 0/50 [00:00<?, ?it/s]"
      ]
     },
     "metadata": {},
     "output_type": "display_data"
    },
    {
     "name": "stdout",
     "output_type": "stream",
     "text": [
      "Liczba parametrów modelu: 346,624\n"
     ]
    },
    {
     "data": {
      "application/vnd.jupyter.widget-view+json": {
       "model_id": "4ff9bc94d9b5440a9144b3077ca2f53d",
       "version_major": 2,
       "version_minor": 0
      },
      "text/plain": [
       "Epochs:   0%|          | 0/50 [00:00<?, ?it/s]"
      ]
     },
     "metadata": {},
     "output_type": "display_data"
    },
    {
     "name": "stdout",
     "output_type": "stream",
     "text": [
      "Liczba parametrów modelu: 346,624\n"
     ]
    },
    {
     "data": {
      "application/vnd.jupyter.widget-view+json": {
       "model_id": "44fbfb1863f94312a4931ba263f1c2dd",
       "version_major": 2,
       "version_minor": 0
      },
      "text/plain": [
       "Epochs:   0%|          | 0/50 [00:00<?, ?it/s]"
      ]
     },
     "metadata": {},
     "output_type": "display_data"
    },
    {
     "name": "stdout",
     "output_type": "stream",
     "text": [
      "Liczba parametrów modelu: 346,624\n"
     ]
    },
    {
     "data": {
      "application/vnd.jupyter.widget-view+json": {
       "model_id": "d4e5246e30aa4d7e8fe4741f0fed0271",
       "version_major": 2,
       "version_minor": 0
      },
      "text/plain": [
       "Epochs:   0%|          | 0/50 [00:00<?, ?it/s]"
      ]
     },
     "metadata": {},
     "output_type": "display_data"
    },
    {
     "name": "stdout",
     "output_type": "stream",
     "text": [
      "Liczba parametrów modelu: 346,624\n"
     ]
    },
    {
     "data": {
      "application/vnd.jupyter.widget-view+json": {
       "model_id": "2b3842511de342eb8e71d1ea565596ee",
       "version_major": 2,
       "version_minor": 0
      },
      "text/plain": [
       "Epochs:   0%|          | 0/50 [00:00<?, ?it/s]"
      ]
     },
     "metadata": {},
     "output_type": "display_data"
    },
    {
     "name": "stdout",
     "output_type": "stream",
     "text": [
      "Liczba parametrów modelu: 346,624\n"
     ]
    },
    {
     "data": {
      "application/vnd.jupyter.widget-view+json": {
       "model_id": "5080b4d9dac04004a205a753d367e2b5",
       "version_major": 2,
       "version_minor": 0
      },
      "text/plain": [
       "Epochs:   0%|          | 0/50 [00:00<?, ?it/s]"
      ]
     },
     "metadata": {},
     "output_type": "display_data"
    },
    {
     "name": "stdout",
     "output_type": "stream",
     "text": [
      "Liczba parametrów modelu: 346,624\n"
     ]
    },
    {
     "data": {
      "application/vnd.jupyter.widget-view+json": {
       "model_id": "b9fb7787b61a480c818ec5dfd91dd6dc",
       "version_major": 2,
       "version_minor": 0
      },
      "text/plain": [
       "Epochs:   0%|          | 0/50 [00:00<?, ?it/s]"
      ]
     },
     "metadata": {},
     "output_type": "display_data"
    },
    {
     "name": "stdout",
     "output_type": "stream",
     "text": [
      "Liczba parametrów modelu: 346,624\n"
     ]
    },
    {
     "data": {
      "application/vnd.jupyter.widget-view+json": {
       "model_id": "51d06f2724234e5fb8f350db254d5edd",
       "version_major": 2,
       "version_minor": 0
      },
      "text/plain": [
       "Epochs:   0%|          | 0/50 [00:00<?, ?it/s]"
      ]
     },
     "metadata": {},
     "output_type": "display_data"
    },
    {
     "name": "stdout",
     "output_type": "stream",
     "text": [
      "Liczba parametrów modelu: 346,624\n"
     ]
    },
    {
     "data": {
      "application/vnd.jupyter.widget-view+json": {
       "model_id": "ff0f5b43191e438184cb4f02dd972f3e",
       "version_major": 2,
       "version_minor": 0
      },
      "text/plain": [
       "Epochs:   0%|          | 0/50 [00:00<?, ?it/s]"
      ]
     },
     "metadata": {},
     "output_type": "display_data"
    },
    {
     "name": "stdout",
     "output_type": "stream",
     "text": [
      "Liczba parametrów modelu: 346,624\n"
     ]
    },
    {
     "data": {
      "application/vnd.jupyter.widget-view+json": {
       "model_id": "5a58262d57f14aaeb59b94b40a21bc2d",
       "version_major": 2,
       "version_minor": 0
      },
      "text/plain": [
       "Epochs:   0%|          | 0/50 [00:00<?, ?it/s]"
      ]
     },
     "metadata": {},
     "output_type": "display_data"
    },
    {
     "name": "stdout",
     "output_type": "stream",
     "text": [
      "Liczba parametrów modelu: 346,624\n"
     ]
    },
    {
     "data": {
      "application/vnd.jupyter.widget-view+json": {
       "model_id": "02aed4446d634a748627a0aa9fe86833",
       "version_major": 2,
       "version_minor": 0
      },
      "text/plain": [
       "Epochs:   0%|          | 0/50 [00:00<?, ?it/s]"
      ]
     },
     "metadata": {},
     "output_type": "display_data"
    },
    {
     "name": "stdout",
     "output_type": "stream",
     "text": [
      "Liczba parametrów modelu: 346,624\n"
     ]
    },
    {
     "data": {
      "application/vnd.jupyter.widget-view+json": {
       "model_id": "192015a385cd452dbd9f4541d5d625fe",
       "version_major": 2,
       "version_minor": 0
      },
      "text/plain": [
       "Epochs:   0%|          | 0/50 [00:00<?, ?it/s]"
      ]
     },
     "metadata": {},
     "output_type": "display_data"
    },
    {
     "name": "stdout",
     "output_type": "stream",
     "text": [
      "Liczba parametrów modelu: 346,624\n"
     ]
    },
    {
     "data": {
      "application/vnd.jupyter.widget-view+json": {
       "model_id": "6f0055e1b59343deb37a9da8383dff89",
       "version_major": 2,
       "version_minor": 0
      },
      "text/plain": [
       "Epochs:   0%|          | 0/50 [00:00<?, ?it/s]"
      ]
     },
     "metadata": {},
     "output_type": "display_data"
    },
    {
     "name": "stdout",
     "output_type": "stream",
     "text": [
      "Liczba parametrów modelu: 346,624\n"
     ]
    },
    {
     "data": {
      "application/vnd.jupyter.widget-view+json": {
       "model_id": "80399ea57e6b4e11b60d2dc37cbff574",
       "version_major": 2,
       "version_minor": 0
      },
      "text/plain": [
       "Epochs:   0%|          | 0/50 [00:00<?, ?it/s]"
      ]
     },
     "metadata": {},
     "output_type": "display_data"
    },
    {
     "name": "stdout",
     "output_type": "stream",
     "text": [
      "Liczba parametrów modelu: 346,624\n"
     ]
    },
    {
     "data": {
      "application/vnd.jupyter.widget-view+json": {
       "model_id": "319d7b1c77c84500881b1ea1f956af1c",
       "version_major": 2,
       "version_minor": 0
      },
      "text/plain": [
       "Epochs:   0%|          | 0/50 [00:00<?, ?it/s]"
      ]
     },
     "metadata": {},
     "output_type": "display_data"
    },
    {
     "name": "stdout",
     "output_type": "stream",
     "text": [
      "Liczba parametrów modelu: 346,624\n"
     ]
    },
    {
     "data": {
      "application/vnd.jupyter.widget-view+json": {
       "model_id": "e6daed345d1848b6b1e64765fc9980b5",
       "version_major": 2,
       "version_minor": 0
      },
      "text/plain": [
       "Epochs:   0%|          | 0/50 [00:00<?, ?it/s]"
      ]
     },
     "metadata": {},
     "output_type": "display_data"
    },
    {
     "name": "stdout",
     "output_type": "stream",
     "text": [
      "Liczba parametrów modelu: 346,624\n"
     ]
    },
    {
     "data": {
      "application/vnd.jupyter.widget-view+json": {
       "model_id": "c4e3dd5c1a664e059b55bd0cc365716d",
       "version_major": 2,
       "version_minor": 0
      },
      "text/plain": [
       "Epochs:   0%|          | 0/50 [00:00<?, ?it/s]"
      ]
     },
     "metadata": {},
     "output_type": "display_data"
    },
    {
     "name": "stdout",
     "output_type": "stream",
     "text": [
      "Liczba parametrów modelu: 346,624\n"
     ]
    },
    {
     "data": {
      "application/vnd.jupyter.widget-view+json": {
       "model_id": "b277cf3e369a4714a1cd66683b05e89e",
       "version_major": 2,
       "version_minor": 0
      },
      "text/plain": [
       "Epochs:   0%|          | 0/50 [00:00<?, ?it/s]"
      ]
     },
     "metadata": {},
     "output_type": "display_data"
    },
    {
     "name": "stdout",
     "output_type": "stream",
     "text": [
      "Liczba parametrów modelu: 346,624\n"
     ]
    },
    {
     "data": {
      "application/vnd.jupyter.widget-view+json": {
       "model_id": "bd1acd9cc98c4890b7c0f6a80a00e151",
       "version_major": 2,
       "version_minor": 0
      },
      "text/plain": [
       "Epochs:   0%|          | 0/50 [00:00<?, ?it/s]"
      ]
     },
     "metadata": {},
     "output_type": "display_data"
    },
    {
     "name": "stdout",
     "output_type": "stream",
     "text": [
      "Liczba parametrów modelu: 346,624\n"
     ]
    },
    {
     "data": {
      "application/vnd.jupyter.widget-view+json": {
       "model_id": "fa3d527c9f414976922f30d9f31bf73f",
       "version_major": 2,
       "version_minor": 0
      },
      "text/plain": [
       "Epochs:   0%|          | 0/50 [00:00<?, ?it/s]"
      ]
     },
     "metadata": {},
     "output_type": "display_data"
    },
    {
     "name": "stdout",
     "output_type": "stream",
     "text": [
      "Liczba parametrów modelu: 346,624\n"
     ]
    },
    {
     "data": {
      "application/vnd.jupyter.widget-view+json": {
       "model_id": "99b5b05b0a384694bef5949ec217fb25",
       "version_major": 2,
       "version_minor": 0
      },
      "text/plain": [
       "Epochs:   0%|          | 0/50 [00:00<?, ?it/s]"
      ]
     },
     "metadata": {},
     "output_type": "display_data"
    },
    {
     "name": "stdout",
     "output_type": "stream",
     "text": [
      "Liczba parametrów modelu: 346,624\n"
     ]
    },
    {
     "data": {
      "application/vnd.jupyter.widget-view+json": {
       "model_id": "113cef9bfe7545528d1a725088b5d59a",
       "version_major": 2,
       "version_minor": 0
      },
      "text/plain": [
       "Epochs:   0%|          | 0/50 [00:00<?, ?it/s]"
      ]
     },
     "metadata": {},
     "output_type": "display_data"
    },
    {
     "name": "stdout",
     "output_type": "stream",
     "text": [
      "Liczba parametrów modelu: 346,624\n"
     ]
    },
    {
     "data": {
      "application/vnd.jupyter.widget-view+json": {
       "model_id": "e3f54bfb58bb4ba58523a3367fc89e38",
       "version_major": 2,
       "version_minor": 0
      },
      "text/plain": [
       "Epochs:   0%|          | 0/50 [00:00<?, ?it/s]"
      ]
     },
     "metadata": {},
     "output_type": "display_data"
    },
    {
     "name": "stdout",
     "output_type": "stream",
     "text": [
      "Liczba parametrów modelu: 346,624\n"
     ]
    },
    {
     "data": {
      "application/vnd.jupyter.widget-view+json": {
       "model_id": "459523f55e1046b7890e9ed5dc1df118",
       "version_major": 2,
       "version_minor": 0
      },
      "text/plain": [
       "Epochs:   0%|          | 0/50 [00:00<?, ?it/s]"
      ]
     },
     "metadata": {},
     "output_type": "display_data"
    },
    {
     "name": "stdout",
     "output_type": "stream",
     "text": [
      "Liczba parametrów modelu: 346,624\n"
     ]
    },
    {
     "data": {
      "application/vnd.jupyter.widget-view+json": {
       "model_id": "ae4dfb7c076549ba922b91ef3d6aed64",
       "version_major": 2,
       "version_minor": 0
      },
      "text/plain": [
       "Epochs:   0%|          | 0/50 [00:00<?, ?it/s]"
      ]
     },
     "metadata": {},
     "output_type": "display_data"
    },
    {
     "name": "stdout",
     "output_type": "stream",
     "text": [
      "Liczba parametrów modelu: 346,624\n"
     ]
    },
    {
     "data": {
      "application/vnd.jupyter.widget-view+json": {
       "model_id": "785a715b277c487cb089db28b5d0a0d8",
       "version_major": 2,
       "version_minor": 0
      },
      "text/plain": [
       "Epochs:   0%|          | 0/50 [00:00<?, ?it/s]"
      ]
     },
     "metadata": {},
     "output_type": "display_data"
    },
    {
     "name": "stdout",
     "output_type": "stream",
     "text": [
      "Liczba parametrów modelu: 346,624\n"
     ]
    },
    {
     "data": {
      "application/vnd.jupyter.widget-view+json": {
       "model_id": "5ae41c2ec676408f8537b876c463cce1",
       "version_major": 2,
       "version_minor": 0
      },
      "text/plain": [
       "Epochs:   0%|          | 0/50 [00:00<?, ?it/s]"
      ]
     },
     "metadata": {},
     "output_type": "display_data"
    },
    {
     "name": "stdout",
     "output_type": "stream",
     "text": [
      "Liczba parametrów modelu: 346,624\n"
     ]
    },
    {
     "data": {
      "application/vnd.jupyter.widget-view+json": {
       "model_id": "e315096e9253408ab6f9f910c3c6bf5d",
       "version_major": 2,
       "version_minor": 0
      },
      "text/plain": [
       "Epochs:   0%|          | 0/50 [00:00<?, ?it/s]"
      ]
     },
     "metadata": {},
     "output_type": "display_data"
    },
    {
     "name": "stdout",
     "output_type": "stream",
     "text": [
      "Liczba parametrów modelu: 346,624\n"
     ]
    },
    {
     "data": {
      "application/vnd.jupyter.widget-view+json": {
       "model_id": "9dc6bfbee71e4aadbc9ed34bdc10149c",
       "version_major": 2,
       "version_minor": 0
      },
      "text/plain": [
       "Epochs:   0%|          | 0/50 [00:00<?, ?it/s]"
      ]
     },
     "metadata": {},
     "output_type": "display_data"
    },
    {
     "name": "stdout",
     "output_type": "stream",
     "text": [
      "Liczba parametrów modelu: 346,624\n"
     ]
    },
    {
     "data": {
      "application/vnd.jupyter.widget-view+json": {
       "model_id": "1400f07c15e74600a3d6b2fa0e2798f5",
       "version_major": 2,
       "version_minor": 0
      },
      "text/plain": [
       "Epochs:   0%|          | 0/50 [00:00<?, ?it/s]"
      ]
     },
     "metadata": {},
     "output_type": "display_data"
    },
    {
     "name": "stdout",
     "output_type": "stream",
     "text": [
      "Liczba parametrów modelu: 346,624\n"
     ]
    },
    {
     "data": {
      "application/vnd.jupyter.widget-view+json": {
       "model_id": "f97e578d155340879d219dcf00bcabd3",
       "version_major": 2,
       "version_minor": 0
      },
      "text/plain": [
       "Epochs:   0%|          | 0/50 [00:00<?, ?it/s]"
      ]
     },
     "metadata": {},
     "output_type": "display_data"
    },
    {
     "name": "stdout",
     "output_type": "stream",
     "text": [
      "Liczba parametrów modelu: 346,624\n"
     ]
    },
    {
     "data": {
      "application/vnd.jupyter.widget-view+json": {
       "model_id": "4466f7f01d1f4704ba989820b29572f4",
       "version_major": 2,
       "version_minor": 0
      },
      "text/plain": [
       "Epochs:   0%|          | 0/50 [00:00<?, ?it/s]"
      ]
     },
     "metadata": {},
     "output_type": "display_data"
    },
    {
     "name": "stdout",
     "output_type": "stream",
     "text": [
      "Liczba parametrów modelu: 346,624\n"
     ]
    },
    {
     "data": {
      "application/vnd.jupyter.widget-view+json": {
       "model_id": "b1991a5d615a4ce4a21fcc1e335f1fb0",
       "version_major": 2,
       "version_minor": 0
      },
      "text/plain": [
       "Epochs:   0%|          | 0/50 [00:00<?, ?it/s]"
      ]
     },
     "metadata": {},
     "output_type": "display_data"
    },
    {
     "name": "stdout",
     "output_type": "stream",
     "text": [
      "Liczba parametrów modelu: 346,624\n"
     ]
    },
    {
     "data": {
      "application/vnd.jupyter.widget-view+json": {
       "model_id": "dc03cd5278c94aa69fbc847a4e870823",
       "version_major": 2,
       "version_minor": 0
      },
      "text/plain": [
       "Epochs:   0%|          | 0/50 [00:00<?, ?it/s]"
      ]
     },
     "metadata": {},
     "output_type": "display_data"
    },
    {
     "name": "stdout",
     "output_type": "stream",
     "text": [
      "Liczba parametrów modelu: 346,624\n"
     ]
    },
    {
     "data": {
      "application/vnd.jupyter.widget-view+json": {
       "model_id": "0f14835a81f24f0d8dba712cf02639bf",
       "version_major": 2,
       "version_minor": 0
      },
      "text/plain": [
       "Epochs:   0%|          | 0/50 [00:00<?, ?it/s]"
      ]
     },
     "metadata": {},
     "output_type": "display_data"
    },
    {
     "name": "stdout",
     "output_type": "stream",
     "text": [
      "Liczba parametrów modelu: 346,624\n"
     ]
    },
    {
     "data": {
      "application/vnd.jupyter.widget-view+json": {
       "model_id": "e63b51abe62747d1b5ac57e2e1622e0c",
       "version_major": 2,
       "version_minor": 0
      },
      "text/plain": [
       "Epochs:   0%|          | 0/50 [00:00<?, ?it/s]"
      ]
     },
     "metadata": {},
     "output_type": "display_data"
    },
    {
     "name": "stdout",
     "output_type": "stream",
     "text": [
      "Liczba parametrów modelu: 346,624\n"
     ]
    },
    {
     "data": {
      "application/vnd.jupyter.widget-view+json": {
       "model_id": "a1460e64c4cf4430a44611e15480b151",
       "version_major": 2,
       "version_minor": 0
      },
      "text/plain": [
       "Epochs:   0%|          | 0/50 [00:00<?, ?it/s]"
      ]
     },
     "metadata": {},
     "output_type": "display_data"
    },
    {
     "name": "stdout",
     "output_type": "stream",
     "text": [
      "Liczba parametrów modelu: 346,624\n"
     ]
    },
    {
     "data": {
      "application/vnd.jupyter.widget-view+json": {
       "model_id": "c7234843629e4d03b914ea53a020417b",
       "version_major": 2,
       "version_minor": 0
      },
      "text/plain": [
       "Epochs:   0%|          | 0/50 [00:00<?, ?it/s]"
      ]
     },
     "metadata": {},
     "output_type": "display_data"
    },
    {
     "name": "stdout",
     "output_type": "stream",
     "text": [
      "Liczba parametrów modelu: 346,624\n"
     ]
    },
    {
     "data": {
      "application/vnd.jupyter.widget-view+json": {
       "model_id": "b0ec10036e9e4b36abd050d53637ce1c",
       "version_major": 2,
       "version_minor": 0
      },
      "text/plain": [
       "Epochs:   0%|          | 0/50 [00:00<?, ?it/s]"
      ]
     },
     "metadata": {},
     "output_type": "display_data"
    },
    {
     "name": "stdout",
     "output_type": "stream",
     "text": [
      "Liczba parametrów modelu: 346,624\n"
     ]
    },
    {
     "data": {
      "application/vnd.jupyter.widget-view+json": {
       "model_id": "eafa874a5f194e408bc541f650c61976",
       "version_major": 2,
       "version_minor": 0
      },
      "text/plain": [
       "Epochs:   0%|          | 0/50 [00:00<?, ?it/s]"
      ]
     },
     "metadata": {},
     "output_type": "display_data"
    },
    {
     "name": "stdout",
     "output_type": "stream",
     "text": [
      "Liczba parametrów modelu: 346,624\n"
     ]
    },
    {
     "data": {
      "application/vnd.jupyter.widget-view+json": {
       "model_id": "cbd7b1f6aba44b0ca27fe9552cc654e9",
       "version_major": 2,
       "version_minor": 0
      },
      "text/plain": [
       "Epochs:   0%|          | 0/50 [00:00<?, ?it/s]"
      ]
     },
     "metadata": {},
     "output_type": "display_data"
    },
    {
     "name": "stdout",
     "output_type": "stream",
     "text": [
      "Liczba parametrów modelu: 346,624\n"
     ]
    },
    {
     "data": {
      "application/vnd.jupyter.widget-view+json": {
       "model_id": "1fdbb12e852648bda3362d24dac96f50",
       "version_major": 2,
       "version_minor": 0
      },
      "text/plain": [
       "Epochs:   0%|          | 0/50 [00:00<?, ?it/s]"
      ]
     },
     "metadata": {},
     "output_type": "display_data"
    },
    {
     "name": "stdout",
     "output_type": "stream",
     "text": [
      "Liczba parametrów modelu: 346,624\n"
     ]
    },
    {
     "data": {
      "application/vnd.jupyter.widget-view+json": {
       "model_id": "7d69141ba7394a72aac9a60767fcc4f6",
       "version_major": 2,
       "version_minor": 0
      },
      "text/plain": [
       "Epochs:   0%|          | 0/50 [00:00<?, ?it/s]"
      ]
     },
     "metadata": {},
     "output_type": "display_data"
    },
    {
     "ename": "KeyError",
     "evalue": "'mean_auc'",
     "output_type": "error",
     "traceback": [
      "\u001b[1;31m---------------------------------------------------------------------------\u001b[0m",
      "\u001b[1;31mKeyError\u001b[0m                                  Traceback (most recent call last)",
      "Cell \u001b[1;32mIn[11], line 35\u001b[0m\n\u001b[0;32m     24\u001b[0m         test_std_auc \u001b[39m=\u001b[39m np\u001b[39m.\u001b[39mstd(test_auc_scores)\n\u001b[0;32m     26\u001b[0m         results\u001b[39m.\u001b[39mappend({\n\u001b[0;32m     27\u001b[0m             \u001b[39m\"\u001b[39m\u001b[39mp\u001b[39m\u001b[39m\"\u001b[39m: p,\n\u001b[0;32m     28\u001b[0m             \u001b[39m\"\u001b[39m\u001b[39mq\u001b[39m\u001b[39m\"\u001b[39m: q,\n\u001b[1;32m   (...)\u001b[0m\n\u001b[0;32m     32\u001b[0m             \u001b[39m\"\u001b[39m\u001b[39mtest_std_auc\u001b[39m\u001b[39m\"\u001b[39m: test_std_auc,\n\u001b[0;32m     33\u001b[0m         })\n\u001b[1;32m---> 35\u001b[0m results \u001b[39m=\u001b[39m \u001b[39msorted\u001b[39;49m(results, key\u001b[39m=\u001b[39;49m\u001b[39mlambda\u001b[39;49;00m x: x[\u001b[39m'\u001b[39;49m\u001b[39mmean_auc\u001b[39;49m\u001b[39m'\u001b[39;49m], reverse\u001b[39m=\u001b[39;49m\u001b[39mTrue\u001b[39;49;00m)\n\u001b[0;32m     37\u001b[0m \u001b[39mfor\u001b[39;00m result \u001b[39min\u001b[39;00m results:\n\u001b[0;32m     38\u001b[0m     \u001b[39mprint\u001b[39m(\u001b[39mf\u001b[39m\u001b[39m\"\u001b[39m\u001b[39mFor p=\u001b[39m\u001b[39m{\u001b[39;00mresult[\u001b[39m'\u001b[39m\u001b[39mp\u001b[39m\u001b[39m'\u001b[39m]\u001b[39m}\u001b[39;00m\u001b[39m, q=\u001b[39m\u001b[39m{\u001b[39;00mresult[\u001b[39m'\u001b[39m\u001b[39mq\u001b[39m\u001b[39m'\u001b[39m]\u001b[39m}\u001b[39;00m\u001b[39m: Mean AUC = \u001b[39m\u001b[39m{\u001b[39;00mresult[\u001b[39m'\u001b[39m\u001b[39mtest_mean_auc\u001b[39m\u001b[39m'\u001b[39m]\u001b[39m:\u001b[39;00m\u001b[39m.3f\u001b[39m\u001b[39m}\u001b[39;00m\u001b[39m ± \u001b[39m\u001b[39m{\u001b[39;00mresult[\u001b[39m'\u001b[39m\u001b[39mtest_std_auc\u001b[39m\u001b[39m'\u001b[39m]\u001b[39m:\u001b[39;00m\u001b[39m.3f\u001b[39m\u001b[39m}\u001b[39;00m\u001b[39m\"\u001b[39m)\n",
      "Cell \u001b[1;32mIn[11], line 35\u001b[0m, in \u001b[0;36m<lambda>\u001b[1;34m(x)\u001b[0m\n\u001b[0;32m     24\u001b[0m         test_std_auc \u001b[39m=\u001b[39m np\u001b[39m.\u001b[39mstd(test_auc_scores)\n\u001b[0;32m     26\u001b[0m         results\u001b[39m.\u001b[39mappend({\n\u001b[0;32m     27\u001b[0m             \u001b[39m\"\u001b[39m\u001b[39mp\u001b[39m\u001b[39m\"\u001b[39m: p,\n\u001b[0;32m     28\u001b[0m             \u001b[39m\"\u001b[39m\u001b[39mq\u001b[39m\u001b[39m\"\u001b[39m: q,\n\u001b[1;32m   (...)\u001b[0m\n\u001b[0;32m     32\u001b[0m             \u001b[39m\"\u001b[39m\u001b[39mtest_std_auc\u001b[39m\u001b[39m\"\u001b[39m: test_std_auc,\n\u001b[0;32m     33\u001b[0m         })\n\u001b[1;32m---> 35\u001b[0m results \u001b[39m=\u001b[39m \u001b[39msorted\u001b[39m(results, key\u001b[39m=\u001b[39m\u001b[39mlambda\u001b[39;00m x: x[\u001b[39m'\u001b[39;49m\u001b[39mmean_auc\u001b[39;49m\u001b[39m'\u001b[39;49m], reverse\u001b[39m=\u001b[39m\u001b[39mTrue\u001b[39;00m)\n\u001b[0;32m     37\u001b[0m \u001b[39mfor\u001b[39;00m result \u001b[39min\u001b[39;00m results:\n\u001b[0;32m     38\u001b[0m     \u001b[39mprint\u001b[39m(\u001b[39mf\u001b[39m\u001b[39m\"\u001b[39m\u001b[39mFor p=\u001b[39m\u001b[39m{\u001b[39;00mresult[\u001b[39m'\u001b[39m\u001b[39mp\u001b[39m\u001b[39m'\u001b[39m]\u001b[39m}\u001b[39;00m\u001b[39m, q=\u001b[39m\u001b[39m{\u001b[39;00mresult[\u001b[39m'\u001b[39m\u001b[39mq\u001b[39m\u001b[39m'\u001b[39m]\u001b[39m}\u001b[39;00m\u001b[39m: Mean AUC = \u001b[39m\u001b[39m{\u001b[39;00mresult[\u001b[39m'\u001b[39m\u001b[39mtest_mean_auc\u001b[39m\u001b[39m'\u001b[39m]\u001b[39m:\u001b[39;00m\u001b[39m.3f\u001b[39m\u001b[39m}\u001b[39;00m\u001b[39m ± \u001b[39m\u001b[39m{\u001b[39;00mresult[\u001b[39m'\u001b[39m\u001b[39mtest_std_auc\u001b[39m\u001b[39m'\u001b[39m]\u001b[39m:\u001b[39;00m\u001b[39m.3f\u001b[39m\u001b[39m}\u001b[39;00m\u001b[39m\"\u001b[39m)\n",
      "\u001b[1;31mKeyError\u001b[0m: 'mean_auc'"
     ]
    }
   ],
   "source": [
    "p_values = [0.3, 0.5, 0.9, 1.5]\n",
    "q_values = [0.3, 0.5, 0.9, 1.5]\n",
    "num_repeats = 3\n",
    "\n",
    "results = []\n",
    "lp_dataset = prepare_train_test_sets(edge_index=data.edge_index)\n",
    "\n",
    "for p in p_values:\n",
    "    for q in q_values:\n",
    "        train_auc_scores = []\n",
    "        test_auc_scores = []\n",
    "        \n",
    "        for _ in range(num_repeats):\n",
    "            model, _ = train_random_walk_model(edge_index=lp_dataset[\"train_edges_pos\"], p=p, q=q, num_epochs=50)\n",
    "\n",
    "            z = get_representations(model)\n",
    "            nc_metrics = evaluate_node_classification(data=data, z=z)\n",
    "            train_auc_scores.append(nc_metrics['train_auc'])\n",
    "            test_auc_scores.append(nc_metrics['test_auc'])\n",
    "            \n",
    "        train_mean_auc = np.mean(train_auc_scores)\n",
    "        train_std_auc = np.std(train_auc_scores)\n",
    "        test_mean_auc = np.mean(test_auc_scores)\n",
    "        test_std_auc = np.std(test_auc_scores)\n",
    "        \n",
    "        results.append({\n",
    "            \"p\": p,\n",
    "            \"q\": q,\n",
    "            \"train_mean_auc\": train_mean_auc,\n",
    "            \"train_std_auc\": train_std_auc,\n",
    "            \"test_mean_auc\": test_mean_auc,\n",
    "            \"test_std_auc\": test_std_auc,\n",
    "        })\n",
    "        \n",
    "sorted_results = sorted(results, key=lambda x: x['test_mean_auc'], reverse=True)\n",
    "\n",
    "for result in sorted_results:\n",
    "    print(f\"For p={result['p']}, q={result['q']}: Mean AUC = {result['test_mean_auc']:.3f} ± {result['test_std_auc']:.3f}\")"
   ]
  },
  {
   "attachments": {},
   "cell_type": "markdown",
   "id": "d258c90b",
   "metadata": {},
   "source": [
    "trwało to 122 minuty ale na szczęście udało się to zapisać do JSON`a. Błąd głupi ale nie ma czasu żeby drugi raz puścić"
   ]
  },
  {
   "cell_type": "code",
   "execution_count": 29,
   "id": "4564337e",
   "metadata": {},
   "outputs": [
    {
     "name": "stdout",
     "output_type": "stream",
     "text": [
      "Best P:0.5 Q: 1.5\n"
     ]
    }
   ],
   "source": [
    "import json\n",
    "sorted_results = sorted(results, key=lambda x: x['test_mean_auc'], reverse=True)\n",
    "\n",
    "file_path = \"results1.json\"\n",
    "json_data = json.dumps(sorted_results)\n",
    "\n",
    "with open(file_path, \"w\") as json_file:\n",
    "    json_file.write(json_data)"
   ]
  },
  {
   "cell_type": "code",
   "execution_count": 31,
   "id": "d137d55f",
   "metadata": {},
   "outputs": [
    {
     "name": "stdout",
     "output_type": "stream",
     "text": [
      "średnie testowe 0.788 ± 0.004\n",
      "średnie testowe 0.784 ± 0.007\n",
      "średnie testowe 0.775 ± 0.007\n",
      "średnie testowe 0.773 ± 0.009\n",
      "średnie testowe 0.770 ± 0.003\n",
      "średnie testowe 0.768 ± 0.008\n",
      "średnie testowe 0.767 ± 0.006\n",
      "średnie testowe 0.767 ± 0.004\n",
      "średnie testowe 0.765 ± 0.012\n",
      "średnie testowe 0.764 ± 0.008\n",
      "średnie testowe 0.763 ± 0.004\n",
      "średnie testowe 0.761 ± 0.015\n",
      "średnie testowe 0.759 ± 0.007\n",
      "średnie testowe 0.743 ± 0.002\n",
      "średnie testowe 0.738 ± 0.014\n",
      "średnie testowe 0.727 ± 0.006\n",
      "Najlepsza kombinacja => P:0.5 Q: 1.5\n"
     ]
    }
   ],
   "source": [
    "if len(results) != len(q_values) * len(p_values) * num_repeats:\n",
    "    with open(file_path, \"r\") as json_file:\n",
    "        json_data = json_file.read()\n",
    "    results = json.loads(json_data)\n",
    "    sorted_results = sorted(results, key=lambda x: x['test_mean_auc'], reverse=True)\n",
    "\n",
    "for result in sorted_results:\n",
    "    print(f\"średnie testowe {result['test_mean_auc']:.3f} ± {result['test_std_auc']:.3f}\")\n",
    "print(f\"Najlepsza kombinacja => P:{sorted_results[0]['q']} Q: {sorted_results[0]['p']}\")"
   ]
  },
  {
   "attachments": {},
   "cell_type": "markdown",
   "id": "f7c06d06",
   "metadata": {},
   "source": [
    "### Zadanie 4.2. (2 pkt)\n",
    "Korzystając z wyznaczonych najlepszych parametrów dla Node2vec'a, porównaj jakość reprezentacji krawędzi otrzymywanych za pomocą różnych transformacji:\n",
    "- wykorzystaj zbiór Cora\n",
    "- zbadaj 4 transformacje: \"average\", \"hadamard\", \"L1\" oraz \"L2\"\n",
    "- każdy eksperyment powtórz kilkukrotnie (np. 5 razy)\n",
    "- podsumuj wyniki w tabelce, zapisując wynik pojedynczego eksperymentu w postaci: \"średnie testowe AUC $\\pm$ odchylenie standardowe\"\n",
    "\n",
    "Która transformacja działa najlepiej?"
   ]
  },
  {
   "cell_type": "code",
   "execution_count": 26,
   "id": "3e3ee1b1",
   "metadata": {
    "deletable": false,
    "nbgrader": {
     "cell_type": "code",
     "checksum": "29c5ced0a387171fb2db865bac41b577",
     "grade": true,
     "grade_id": "compare_edge_embedding_transformations",
     "locked": false,
     "points": 2,
     "schema_version": 3,
     "solution": true,
     "task": false
    }
   },
   "outputs": [
    {
     "name": "stdout",
     "output_type": "stream",
     "text": [
      "Liczba parametrów modelu: 346,624\n"
     ]
    },
    {
     "data": {
      "application/vnd.jupyter.widget-view+json": {
       "model_id": "dddd2a1127874adbb4a23dd11d1df83e",
       "version_major": 2,
       "version_minor": 0
      },
      "text/plain": [
       "Epochs:   0%|          | 0/50 [00:00<?, ?it/s]"
      ]
     },
     "metadata": {},
     "output_type": "display_data"
    },
    {
     "name": "stdout",
     "output_type": "stream",
     "text": [
      "Liczba parametrów modelu: 346,624\n"
     ]
    },
    {
     "data": {
      "application/vnd.jupyter.widget-view+json": {
       "model_id": "a872258abd5c4df8affd2675998eb096",
       "version_major": 2,
       "version_minor": 0
      },
      "text/plain": [
       "Epochs:   0%|          | 0/50 [00:00<?, ?it/s]"
      ]
     },
     "metadata": {},
     "output_type": "display_data"
    },
    {
     "name": "stdout",
     "output_type": "stream",
     "text": [
      "Liczba parametrów modelu: 346,624\n"
     ]
    },
    {
     "data": {
      "application/vnd.jupyter.widget-view+json": {
       "model_id": "1983334bfc4c42149f52de26e14a184f",
       "version_major": 2,
       "version_minor": 0
      },
      "text/plain": [
       "Epochs:   0%|          | 0/50 [00:00<?, ?it/s]"
      ]
     },
     "metadata": {},
     "output_type": "display_data"
    },
    {
     "name": "stdout",
     "output_type": "stream",
     "text": [
      "Liczba parametrów modelu: 346,624\n"
     ]
    },
    {
     "data": {
      "application/vnd.jupyter.widget-view+json": {
       "model_id": "335ea65704cb4b2e97d71509e2235930",
       "version_major": 2,
       "version_minor": 0
      },
      "text/plain": [
       "Epochs:   0%|          | 0/50 [00:00<?, ?it/s]"
      ]
     },
     "metadata": {},
     "output_type": "display_data"
    },
    {
     "name": "stdout",
     "output_type": "stream",
     "text": [
      "Liczba parametrów modelu: 346,624\n"
     ]
    },
    {
     "data": {
      "application/vnd.jupyter.widget-view+json": {
       "model_id": "752e1932e9694b9e922860a440bfa9f8",
       "version_major": 2,
       "version_minor": 0
      },
      "text/plain": [
       "Epochs:   0%|          | 0/50 [00:00<?, ?it/s]"
      ]
     },
     "metadata": {},
     "output_type": "display_data"
    },
    {
     "name": "stdout",
     "output_type": "stream",
     "text": [
      "Liczba parametrów modelu: 346,624\n"
     ]
    },
    {
     "data": {
      "application/vnd.jupyter.widget-view+json": {
       "model_id": "6948f859f2734c8cb509e0c759f26859",
       "version_major": 2,
       "version_minor": 0
      },
      "text/plain": [
       "Epochs:   0%|          | 0/50 [00:00<?, ?it/s]"
      ]
     },
     "metadata": {},
     "output_type": "display_data"
    },
    {
     "name": "stdout",
     "output_type": "stream",
     "text": [
      "Liczba parametrów modelu: 346,624\n"
     ]
    },
    {
     "data": {
      "application/vnd.jupyter.widget-view+json": {
       "model_id": "cb5d6cda469a498b952b42cbbce0c1db",
       "version_major": 2,
       "version_minor": 0
      },
      "text/plain": [
       "Epochs:   0%|          | 0/50 [00:00<?, ?it/s]"
      ]
     },
     "metadata": {},
     "output_type": "display_data"
    },
    {
     "name": "stdout",
     "output_type": "stream",
     "text": [
      "Liczba parametrów modelu: 346,624\n"
     ]
    },
    {
     "data": {
      "application/vnd.jupyter.widget-view+json": {
       "model_id": "3e7e809c946c4b34b2a96cad45379d6a",
       "version_major": 2,
       "version_minor": 0
      },
      "text/plain": [
       "Epochs:   0%|          | 0/50 [00:00<?, ?it/s]"
      ]
     },
     "metadata": {},
     "output_type": "display_data"
    },
    {
     "name": "stdout",
     "output_type": "stream",
     "text": [
      "Liczba parametrów modelu: 346,624\n"
     ]
    },
    {
     "data": {
      "application/vnd.jupyter.widget-view+json": {
       "model_id": "7d92bcd4167b40b598b216981e636017",
       "version_major": 2,
       "version_minor": 0
      },
      "text/plain": [
       "Epochs:   0%|          | 0/50 [00:00<?, ?it/s]"
      ]
     },
     "metadata": {},
     "output_type": "display_data"
    },
    {
     "name": "stdout",
     "output_type": "stream",
     "text": [
      "Liczba parametrów modelu: 346,624\n"
     ]
    },
    {
     "data": {
      "application/vnd.jupyter.widget-view+json": {
       "model_id": "bac016db393a4c879c750426db883592",
       "version_major": 2,
       "version_minor": 0
      },
      "text/plain": [
       "Epochs:   0%|          | 0/50 [00:00<?, ?it/s]"
      ]
     },
     "metadata": {},
     "output_type": "display_data"
    },
    {
     "name": "stdout",
     "output_type": "stream",
     "text": [
      "Liczba parametrów modelu: 346,624\n"
     ]
    },
    {
     "data": {
      "application/vnd.jupyter.widget-view+json": {
       "model_id": "c2edec2161164f6986f3674a00ddd238",
       "version_major": 2,
       "version_minor": 0
      },
      "text/plain": [
       "Epochs:   0%|          | 0/50 [00:00<?, ?it/s]"
      ]
     },
     "metadata": {},
     "output_type": "display_data"
    },
    {
     "name": "stdout",
     "output_type": "stream",
     "text": [
      "Liczba parametrów modelu: 346,624\n"
     ]
    },
    {
     "data": {
      "application/vnd.jupyter.widget-view+json": {
       "model_id": "864bb63384c1444ea78ce68ddbc7fa11",
       "version_major": 2,
       "version_minor": 0
      },
      "text/plain": [
       "Epochs:   0%|          | 0/50 [00:00<?, ?it/s]"
      ]
     },
     "metadata": {},
     "output_type": "display_data"
    },
    {
     "name": "stdout",
     "output_type": "stream",
     "text": [
      "For transform:hadamard : Mean AUC = 0.847 ± 0.001\n",
      "For transform:average : Mean AUC = 0.625 ± 0.002\n",
      "For transform:L1 : Mean AUC = 0.599 ± 0.009\n",
      "For transform:L2 : Mean AUC = 0.592 ± 0.003\n"
     ]
    }
   ],
   "source": [
    "trans_values = [\"average\", \"hadamard\", \"L1\", \"L2\"]\n",
    "num_repeats = 3\n",
    "\n",
    "if len(results) != len(q_values) * len(p_values) * num_repeats:\n",
    "    with open(file_path, \"r\") as json_file:\n",
    "        json_data = json_file.read()\n",
    "    results = json.loads(json_data)\n",
    "    sorted_results = sorted(results, key=lambda x: x['test_mean_auc'], reverse=True)\n",
    "\n",
    "q = sorted_results[0][\"q\"]\n",
    "p = sorted_results[0][\"p\"]\n",
    "\n",
    "results2 = []\n",
    "lp_dataset = prepare_train_test_sets(edge_index=data.edge_index)\n",
    "model, _ = train_random_walk_model(edge_index=lp_dataset[\"train_edges_pos\"], p=p, q=q, num_epochs=50)\n",
    "lp_z = get_representations(model)\n",
    "\n",
    "for trans in trans_values:\n",
    "    train_auc_scores = []\n",
    "    test_auc_scores = []\n",
    "    \n",
    "    for _ in range(num_repeats):\n",
    "        lp_metrics = evaluate_link_prediction(\n",
    "            train_edges=lp_dataset[\"train_edges\"],\n",
    "            y_train=lp_dataset[\"y_train\"],\n",
    "            test_edges=lp_dataset[\"test_edges\"],\n",
    "            y_test=lp_dataset[\"y_test\"],\n",
    "            transformation_name=trans,\n",
    "            z=lp_z,\n",
    "        )\n",
    "        train_auc_scores.append(lp_metrics['train_auc'])\n",
    "        test_auc_scores.append(lp_metrics['test_auc'])\n",
    "        \n",
    "    train_mean_auc = np.mean(train_auc_scores)\n",
    "    train_std_auc = np.std(train_auc_scores)\n",
    "    test_mean_auc = np.mean(test_auc_scores)\n",
    "    test_std_auc = np.std(test_auc_scores)\n",
    "    \n",
    "    results2.append({\n",
    "        \"transformation_name\": trans,\n",
    "        \"train_mean_auc\": train_mean_auc,\n",
    "        \"train_std_auc\": train_std_auc,\n",
    "        \"test_mean_auc\": test_mean_auc,\n",
    "        \"test_std_auc\": test_std_auc,\n",
    "    })\n",
    "    \n",
    "sorted_results2 = sorted(results2, key=lambda x: x['test_mean_auc'], reverse=True)\n",
    "\n",
    "for result in sorted_results2:\n",
    "    print(f\"For transform:{result['transformation_name']} : Mean AUC = {result['test_mean_auc']:.3f} ± {result['test_std_auc']:.3f}\")"
   ]
  },
  {
   "cell_type": "code",
   "execution_count": 28,
   "id": "678dede9",
   "metadata": {},
   "outputs": [
    {
     "name": "stdout",
     "output_type": "stream",
     "text": [
      "średnie testowe 0.847 ± 0.001\n",
      "średnie testowe 0.625 ± 0.002\n",
      "średnie testowe 0.599 ± 0.009\n",
      "średnie testowe 0.592 ± 0.003\n",
      "Najlepsza tranformacja: hadamard\n"
     ]
    }
   ],
   "source": [
    "for result in sorted_results2:\n",
    "    print(f\"średnie testowe {result['test_mean_auc']:.3f} ± {result['test_std_auc']:.3f}\")\n",
    "print(f\"Najlepsza tranformacja: {sorted_results2[0]['transformation_name']}\")"
   ]
  },
  {
   "attachments": {},
   "cell_type": "markdown",
   "id": "eb7f9929",
   "metadata": {},
   "source": [
    "### Zadanie 4.3. (1.5 pkt)\n",
    "Korzystając z wyznaczonych najlepszych parametrów dla Node2vec'a, porównaj jakość reprezentacji grafów otrzymywanych za pomocą różnych transformacji:\n",
    "- wykorzystaj zbiór ENZYMES (może być podzbiór wykorzystany w poprzednim zeszycie)\n",
    "- zbadaj 3 transformacje: \"average\", \"max_pooling\", \"min_pooling\"\n",
    "- każdy eksperyment powtórz kilkukrotnie (np. 5 razy)\n",
    "- podsumuj wyniki w tabelce, zapisując wynik pojedynczego eksperymentu w postaci: \"średnie testowe AUC $\\pm$ odchylenie standardowe\"\n",
    "\n",
    "Która transformacja działa najlepiej?"
   ]
  },
  {
   "cell_type": "code",
   "execution_count": null,
   "id": "6427acdb",
   "metadata": {
    "deletable": false,
    "nbgrader": {
     "cell_type": "code",
     "checksum": "f0a9fc4384497c2cb338e24edd06275b",
     "grade": true,
     "grade_id": "compare_graph_pooling_transformations",
     "locked": false,
     "points": 1.5,
     "schema_version": 3,
     "solution": true,
     "task": false
    }
   },
   "outputs": [],
   "source": [
    "import torch\n",
    "from tqdm.auto import tqdm\n",
    "from torch_geometric.datasets import TUDataset\n",
    "\n",
    "enzymes = TUDataset(root=\"./data\", name=\"ENZYMES\")\n",
    "\n",
    "num_repeats = 3\n",
    "results3 = []\n",
    "\n",
    "enzymes_subset, _ = train_test_split(\n",
    "    [e for e in enzymes], \n",
    "    train_size=0.1, \n",
    "    stratify=[e.y.item() for e in enzymes],\n",
    ")\n",
    "print(f\"Ograniczymy liczbę grafów do {len(enzymes_subset)}\")\n",
    "\n",
    "z3 = []\n",
    "\n",
    "for enzyme in tqdm(enzymes_subset, desc=\"Embedding graphs\"):\n",
    "    model, _ = train_random_walk_model(\n",
    "        edge_index=enzyme.edge_index,\n",
    "        p=p,\n",
    "        q=q,\n",
    "        num_epochs=10,\n",
    "        quiet=True,\n",
    "    )\n",
    "    \n",
    "    z3.append(get_representations(model))"
   ]
  },
  {
   "cell_type": "code",
   "execution_count": 39,
   "id": "85b39a77",
   "metadata": {},
   "outputs": [
    {
     "data": {
      "application/vnd.jupyter.widget-view+json": {
       "model_id": "1664b7dc87034b4a8dd04d8bb11f115d",
       "version_major": 2,
       "version_minor": 0
      },
      "text/plain": [
       "  0%|          | 0/3 [00:00<?, ?it/s]"
      ]
     },
     "metadata": {},
     "output_type": "display_data"
    },
    {
     "name": "stdout",
     "output_type": "stream",
     "text": [
      "średnie testowe 0.559 ± 0.000\n",
      "średnie testowe 0.488 ± 0.000\n",
      "średnie testowe 0.480 ± 0.000\n",
      "Najlepsza tranformacja: max_pooling\n"
     ]
    }
   ],
   "source": [
    "transformation_names = [\"average\", \"max_pooling\", \"min_pooling\"]\n",
    "y = torch.tensor([e.y for e in enzymes_subset])\n",
    "\n",
    "for transformation_name in tqdm(transformation_names):\n",
    "    train_auc_scores = []\n",
    "    test_auc_scores = []\n",
    "    \n",
    "    for _ in range(num_repeats):\n",
    "        gc_metrics = evaluate_graph_classification(z3, y, transformation_name=transformation_name)\n",
    "        train_auc_scores.append(gc_metrics['train_auc'])\n",
    "        test_auc_scores.append(gc_metrics['test_auc'])\n",
    "        \n",
    "    train_mean_auc = np.mean(train_auc_scores)\n",
    "    train_std_auc = np.std(train_auc_scores)\n",
    "    test_mean_auc = np.mean(test_auc_scores)\n",
    "    test_std_auc = np.std(test_auc_scores)\n",
    "    \n",
    "    results3.append({\n",
    "        \"transformation_name\": transformation_name,\n",
    "        \"train_mean_auc\": train_mean_auc,\n",
    "        \"train_std_auc\": train_std_auc,\n",
    "        \"test_mean_auc\": test_mean_auc,\n",
    "        \"test_std_auc\": test_std_auc,\n",
    "    })\n",
    "        \n",
    "sorted_results3 = sorted(results3, key=lambda x: x['test_mean_auc'], reverse=True)\n",
    "\n",
    "for result in sorted_results3:\n",
    "    print(f\"średnie testowe {result['test_mean_auc']:.3f} ± {result['test_std_auc']:.3f}\")\n",
    "print(f\"Najlepsza tranformacja: {sorted_results3[0]['transformation_name']}\")"
   ]
  }
 ],
 "metadata": {
  "kernelspec": {
   "display_name": "Python 3 (ipykernel)",
   "language": "python",
   "name": "python3"
  },
  "language_info": {
   "codemirror_mode": {
    "name": "ipython",
    "version": 3
   },
   "file_extension": ".py",
   "mimetype": "text/x-python",
   "name": "python",
   "nbconvert_exporter": "python",
   "pygments_lexer": "ipython3",
   "version": "3.11.3"
  }
 },
 "nbformat": 4,
 "nbformat_minor": 5
}
