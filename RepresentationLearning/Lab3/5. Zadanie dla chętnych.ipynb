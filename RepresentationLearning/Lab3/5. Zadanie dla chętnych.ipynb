{
 "cells": [
  {
   "cell_type": "markdown",
   "id": "d45260fa",
   "metadata": {},
   "source": [
    "Przed oddaniem zadania upewnij się, że wszystko działa poprawnie.\n",
    "**Uruchom ponownie kernel** (z paska menu: Kernel$\\rightarrow$Restart) a następnie\n",
    "**wykonaj wszystkie komórki** (z paska menu: Cell$\\rightarrow$Run All).\n",
    "\n",
    "Upewnij się, że wypełniłeś wszystkie pola `TU WPISZ KOD` lub `TU WPISZ ODPOWIEDŹ`, oraz\n",
    "że podałeś swoje imię i nazwisko poniżej:"
   ]
  },
  {
   "cell_type": "code",
   "execution_count": null,
   "id": "16a1d144",
   "metadata": {},
   "outputs": [],
   "source": [
    "NAME = \"\""
   ]
  },
  {
   "cell_type": "markdown",
   "id": "7a269259",
   "metadata": {},
   "source": [
    "---"
   ]
  },
  {
   "cell_type": "markdown",
   "id": "06d67c39",
   "metadata": {},
   "source": [
    "# 5. Zadanie dla chętnych (3 pkt.)"
   ]
  },
  {
   "cell_type": "markdown",
   "id": "a43d0765",
   "metadata": {},
   "source": [
    "Zauważyliśmy, że przedstawione metody DeepWalk oraz Node2vec są metodami **transduktywnymi**. W tym wypadku, wewnętrznie te metody są zaimplementowane jako optymalizacja pewnej macierzy $\\mathbf{Z} \\in \\mathbb{R}^{|\\mathcal{V}| \\times d}$. Każdy wiersz takiej macierzy to wektor reprezentacji pojedynczego wierzchołka. Wymusza to na nas, aby cały graf był obserwowany przez metodę.\n",
    "\n",
    "W rzeczywistych zastosowaniach grafy często mają charakter dynamiczny a nie statyczny, tzn. mogą pojawić się nowe krawędzie, **nowe wierzchołki**, inne mogą znikać itd. Używając metody typu Node2vec, jesteśmy zmuszeni wyuczyć model od zera za każdym razem jak struktura grafu się zmieni. Istnieją oczywiście metody, które pozwalają na inferencję wektorów reprezentacji dla nowych wierzchołków (tzw. grupa metod *induktywnych*, które poznamy na kolejnych zajęciach).\n",
    "\n",
    "\n",
    "**Zadanie:**\n",
    "Zaproponuj i zbadaj metodę, która pozwoli uzyskać wektor reprezentacji dla wierzchołków, które nie obserwowaliśmy w trakcie uczenia modelu DeepWalk/Node2vec (bez ponownego przeuczania modelu \"od zera\"). Powinniśmy rozważać dwie sytuacje:\n",
    "\n",
    "1. Pojawia się wierzchołek, który nie ma żadnej krawędzi.\n",
    "2. Pojawia się wierzchołek, który ma co najmniej jedną krawędź podłączoną do grafu, na którym model DeepWalk/Node2vec został wyuczony.\n",
    "\n",
    "W celu weryfikacji pomysłu możesz użyć istniejącego zbioru danych (np. Cora) i część wierzchołków (wraz z krawędziami) usunąć z grafu. Następnie wyuczyć model DeepWalk/Node2vec na pomniejszonym grafie. Każdy usunięty uprzednio wierzchołek należy dodawać do grafu, zaaplikować zaproponowaną przez siebie metodę i sprawdzić jakość otrzymanego wektora reprezentacji w zadaniu np. klasyfikacji wierzchołków.\n",
    "\n",
    "W razie wątpliwości czy potrzeby doprecyzowania szczegółów zadania, proszę o kontakt."
   ]
  }
 ],
 "metadata": {
  "kernelspec": {
   "display_name": "Python 3 (ipykernel)",
   "language": "python",
   "name": "python3"
  },
  "language_info": {
   "codemirror_mode": {
    "name": "ipython",
    "version": 3
   },
   "file_extension": ".py",
   "mimetype": "text/x-python",
   "name": "python",
   "nbconvert_exporter": "python",
   "pygments_lexer": "ipython3",
   "version": "3.10.11"
  }
 },
 "nbformat": 4,
 "nbformat_minor": 5
}
