{
  "cells": [
    {
      "attachments": {},
      "cell_type": "markdown",
      "metadata": {
        "id": "v7ohrpn4zljk"
      },
      "source": [
        "# Wstęp\n",
        "Zadanie 6 stanowi wprowadzenie w tematykę *data augmentation*. Ze względu na złożonośc modeli głębokich, zwykle wymagają one bardzo dużych zbiorów danych do dobrego wyuczenia. Jednym ze sposobów na skalowanie ilości dostępnych danych są metody tzw. augmentacji - przekształcenia na danych które mamy, aby utworzyć nowe przykłady o znanych etykietach. Pod koniec zadania wprowadzona jest również koncepcja *skip connections*, będących istotnym elementem współczesnych architektur konwolucyjnych i nie tylko."
      ]
    },
    {
      "attachments": {},
      "cell_type": "markdown",
      "metadata": {
        "id": "Db2J8maDszza"
      },
      "source": [
        "#Cel ćwiczenia\n",
        "\n",
        "Celem ćwiczenia jest zapoznanie się z\n",
        "\n",
        "*    koncepcją augmentacji danych\n",
        "*    implementacją metod augmentacji danych obrazowych w torch.transforms\n",
        "*    koncepcją augmentacji niezależnej od dziedziny\n",
        "*    modelami sieci głębokich ze skip connections"
      ]
    },
    {
      "attachments": {},
      "cell_type": "markdown",
      "metadata": {
        "id": "t4fhynJbFsoj"
      },
      "source": [
        "#Augmentacja danych obrazowych\n",
        "\n",
        "W pierwszej kolejności zapoznajmy się z funkcjonalnością augmentacji danych obrazowych. W pytorch funkcjonalność ta realizowana jest przez transformacje wykonywane na obrazach przez `torchvision.transforms`.\n",
        "\n",
        "Transformacje które typowo wykorzystuje się w augmentacji to standardowe przekształcenia afiniczne obrazu - rotacje, dobicia, skalowanie. Oczywiście, pownniśmy dobierać transformacje z takich, po których rzeczywiście oczekujemy inwariancji - przekształcony obraz będziemy podawać do sieci z tą samą etykietą. Przykładowo, na zbiorze odręcznie pisanych cyfr MNIST ograniczymy zakres obrotów czy wykorzystanie odbicia w osi poziomej, jako że niechcemy pomylić 5 z 2 czy 6 z 9.\n",
        "\n",
        "Zapoznaj się z dokumentacją transforms tutaj:\n",
        "\n",
        "https://pytorch.org/vision/stable/transforms.html\n",
        "\n",
        "Kod poniżej wczytuje CIFAR 10 i pokazuje wyniki przykładowej augmentacji - losowej rotacji o kąt -30 do 30 stopni."
      ]
    },
    {
      "cell_type": "code",
      "execution_count": 1,
      "metadata": {
        "colab": {
          "base_uri": "https://localhost:8080/",
          "height": 860
        },
        "id": "jVsqOyfLyf66",
        "outputId": "c4fcfa03-fe77-486c-bf8e-ef34024da05f"
      },
      "outputs": [],
      "source": [
        "import torch\n",
        "import torchvision\n",
        "import torchvision.transforms as transforms\n",
        "from matplotlib import pyplot as plt\n",
        "import ssl\n",
        "\n",
        "ssl._create_default_https_context = ssl._create_unverified_context\n",
        "\n",
        "transform = transforms.Compose([transforms.RandomRotation(30), transforms.ToTensor()])\n",
        "\n",
        "train_ds = torchvision.datasets.CIFAR10(\n",
        "    \"cifar_root\", transform=transform, download=True\n",
        ")\n",
        "img, label = train_ds[0]\n",
        "\n",
        "plt.imshow(img.permute(1, 2, 0))\n",
        "plt.show()\n",
        "\n",
        "img, label = train_ds[0]\n",
        "\n",
        "plt.imshow(img.permute(1, 2, 0))\n",
        "plt.show()"
      ]
    },
    {
      "attachments": {},
      "cell_type": "markdown",
      "metadata": {
        "id": "_PhVqir8Ewhc"
      },
      "source": [
        "Widzimy tutaj kolejny potencjalny problem z augmentacjami: ze względu na konieczność utrzymania stałego kształtu wejścia, augmentacje mogą wprowadzać artefakty takie jak czarne fragmenty na krawędziach obrazu czy aliasing wynikający z niskiej rozdzielczości.\n",
        "\n",
        "Poniżej kod pomocniczy z laboratorium 3, można zastąpić go własną implementacją pętli uczącej uwzględniającej ulepszenia wykonane na laboratoriach 4 i 5. W zadaniach poniżej wystarczy porównać końcowy wynik uczenia, nie jest wymagane wyrysowywanie pełnych krzywych w tensorboard niemniej mogą one pomóc w analizie otrzymanych wyników."
      ]
    },
    {
      "cell_type": "code",
      "execution_count": null,
      "metadata": {
        "colab": {
          "base_uri": "https://localhost:8080/"
        },
        "id": "ZJF5ojwhhIKI",
        "outputId": "e6f4821d-17cd-43d8-ffbf-fc7d1989870a"
      },
      "outputs": [
        {
          "name": "stdout",
          "output_type": "stream",
          "text": [
            "Files already downloaded and verified\n",
            "Files already downloaded and verified\n"
          ]
        }
      ],
      "source": [
        "import torchvision\n",
        "import torch.nn as nn\n",
        "import torch.optim as optim\n",
        "from torch.utils.data import DataLoader\n",
        "from typing import Tuple\n",
        "from tqdm import tqdm\n",
        "\n",
        "transform = torchvision.transforms.ToTensor()\n",
        "\n",
        "train_ds = torchvision.datasets.CIFAR10(\n",
        "    \"cifar_root\", transform=transform, download=True\n",
        ")\n",
        "test_ds = torchvision.datasets.CIFAR10(\n",
        "    \"cifar_root\", transform=transform, train=False, download=True\n",
        ")\n",
        "\n",
        "train_dl = DataLoader(train_ds, batch_size=32, shuffle=True, pin_memory=True)\n",
        "test_dl = DataLoader(test_ds, batch_size=32, pin_memory=True)\n",
        "\n",
        "\n",
        "def count_correct(y_pred: torch.Tensor, y_true: torch.Tensor) -> torch.Tensor:\n",
        "    preds = torch.argmax(y_pred, dim=1)\n",
        "    return (preds == y_true).float().sum()\n",
        "\n",
        "\n",
        "def validate(\n",
        "    model: nn.Module, loss_fn: torch.nn.CrossEntropyLoss, dataloader: DataLoader\n",
        ") -> Tuple[torch.Tensor, torch.Tensor]:\n",
        "    loss = 0\n",
        "    correct = 0\n",
        "    all = 0\n",
        "    for X_batch, y_batch in dataloader:\n",
        "        y_pred = model(X_batch.cuda())\n",
        "        all += len(y_pred)\n",
        "        loss += loss_fn(y_pred, y_batch.cuda()).sum()\n",
        "        correct += count_correct(y_pred, y_batch.cuda())\n",
        "    return loss / all, correct / all\n",
        "\n",
        "\n",
        "def fit(\n",
        "    model: nn.Module,\n",
        "    optimiser: optim.Optimizer,\n",
        "    loss_fn: torch.nn.CrossEntropyLoss,\n",
        "    train_dl: DataLoader,\n",
        "    val_dl: DataLoader,\n",
        "    epochs: int,\n",
        "    print_metrics: bool = True,\n",
        "):\n",
        "    train_losses = []\n",
        "    train_accs = []\n",
        "    val_losses = []\n",
        "    val_accs = []\n",
        "\n",
        "    last_loss = float(\"inf\")\n",
        "    no_improvement_count = 0\n",
        "\n",
        "    for epoch in range(epochs):\n",
        "        if no_improvement_count >= 5:\n",
        "            return (train_losses, train_accs, val_losses, val_accs)\n",
        "        for X_batch, y_batch in tqdm(train_dl):\n",
        "            y_pred = model(X_batch.cuda())\n",
        "            loss = loss_fn(y_pred, y_batch.cuda())\n",
        "\n",
        "            loss.backward()\n",
        "            optimiser.step()\n",
        "            optimiser.zero_grad()\n",
        "\n",
        "\n",
        "        model.eval()\n",
        "        with torch.no_grad():\n",
        "            train_loss, train_acc = validate(\n",
        "                model=model, loss_fn=loss_fn, dataloader=train_dl\n",
        "            )\n",
        "            val_loss, val_acc = validate(\n",
        "                model=model, loss_fn=loss_fn, dataloader=val_dl\n",
        "            )\n",
        "            train_losses.append(train_loss)\n",
        "            train_accs.append(train_acc)\n",
        "            val_losses.append(val_loss)\n",
        "            val_accs.append(val_acc)\n",
        "\n",
        "            if last_loss <= train_loss:\n",
        "                no_improvement_count += 1\n",
        "                continue\n",
        "\n",
        "            last_loss = train_loss\n",
        "            no_improvement_count = 1\n",
        "\n",
        "\n",
        "            if print_metrics:\n",
        "                print(\n",
        "                    f\"Epoch {epoch}: \"\n",
        "                    f\"train loss = {train_loss:.3f} (acc: {train_acc:.3f}), \"\n",
        "                    f\"validation loss = {val_loss:.3f} (acc: {val_acc:.3f})\"\n",
        "                )\n",
        "\n",
        "    return (train_losses, train_accs, val_losses, val_accs)"
      ]
    },
    {
      "attachments": {},
      "cell_type": "markdown",
      "metadata": {
        "id": "z79oc3U1vK5x"
      },
      "source": [
        "# Zadanie 1\n",
        "\n",
        "Wykorzystując klasę ThreeLayerCNN, spróbuj dobrać augmentacje danych tak aby poprawić wyniki względem jej braku na zbiorze CIFAR10."
      ]
    },
    {
      "cell_type": "code",
      "execution_count": null,
      "metadata": {
        "id": "sGaP3-h8gfq4"
      },
      "outputs": [],
      "source": [
        "class ThreeLayerCNN(torch.nn.Module):\n",
        "    def __init__(self, channels: int, labels: int):\n",
        "        super().__init__()\n",
        "        self.model = torch.nn.Sequential()\n",
        "        self.model.add_module(\"conv_1\", torch.nn.Conv2d(3, channels, 3, padding=1))\n",
        "        self.model.add_module(\"relu_1\", torch.nn.ReLU())\n",
        "        self.model.add_module(\"max_pool_1\", torch.nn.MaxPool2d(2))\n",
        "        self.model.add_module(\n",
        "            \"conv_2\", torch.nn.Conv2d(channels, channels, 3, padding=1)\n",
        "        )\n",
        "        self.model.add_module(\"relu_2\", torch.nn.ReLU())\n",
        "        self.model.add_module(\"max_pool_2\", torch.nn.MaxPool2d(2))\n",
        "        self.model.add_module(\n",
        "            \"conv3\", torch.nn.Conv2d(channels, channels, 3, padding=1)\n",
        "        )\n",
        "        self.model.add_module(\"flatten\", torch.nn.Flatten())\n",
        "        self.model.add_module(\"linear\", torch.nn.Linear(8 * 8 * channels, 10))\n",
        "\n",
        "    def forward(self, x):\n",
        "        return self.model(x)"
      ]
    },
    {
      "attachments": {},
      "cell_type": "markdown",
      "metadata": {
        "id": "TmcSjippSl5S"
      },
      "source": [
        "Zaprogramuj eksperyment tak, aby w pętli sprawdzać kolejne potencjalne wersje potoku przetwarzania (różniące się tutaj tylko augmentacją), a na końcu wybrać najlepszą - tak aby możliwe było powtórzenie całego eksperymentu uzasadniającego wybór! Transformacja z augmentacją ma być wywoływana tylko na danych treningowych.\n",
        "\n",
        "Spróbuj znaleźć również przykład augmentacji pogarszającej wynik w stosunku do bazowego otrzymanego bez augmentacji. Wykorzystaj uczenie na 50 epok i optymalizator Adam z domyślnymi parametrami, bez regularyzacji."
      ]
    },
    {
      "cell_type": "code",
      "execution_count": null,
      "metadata": {
        "id": "XX1kfmRGW_z1"
      },
      "outputs": [],
      "source": [
        "# zaprojektuj eksperyment sprawdzający kilka możliwych podejść do augmentacji, wybranych z dokumentacji torchvision.transforms\n",
        "import torchvision.transforms as transforms\n",
        "\n",
        "augmentation_strategies = [\n",
        "    (\"no_augmentation\", transforms.Compose([transforms.ToTensor()])),\n",
        "    (\n",
        "        \"random_horizontal_flip\",\n",
        "        transforms.Compose(\n",
        "            [transforms.RandomHorizontalFlip(), transforms.ToTensor()]\n",
        "        ),\n",
        "    ),\n",
        "    (\n",
        "        \"random_rotation\",\n",
        "        transforms.Compose(\n",
        "            [transforms.RandomRotation(20), transforms.ToTensor()]\n",
        "        ),\n",
        "    ),\n",
        "    (\n",
        "        \"random_crop\",\n",
        "        transforms.Compose(\n",
        "            [transforms.RandomCrop(32, padding=4), transforms.ToTensor()]\n",
        "        ),\n",
        "    ),\n",
        "    (\n",
        "        \"random_affine\",\n",
        "        transforms.Compose(\n",
        "            [transforms.RandomAffine(20, translate=(0.1, 0.1)), transforms.ToTensor()]\n",
        "        ),\n",
        "    ),\n",
        "]"
      ]
    },
    {
      "cell_type": "code",
      "execution_count": null,
      "metadata": {
        "colab": {
          "base_uri": "https://localhost:8080/"
        },
        "id": "d89R7GBMMnsN",
        "outputId": "a2367756-0113-4c8a-8dd2-20ad5884371e"
      },
      "outputs": [
        {
          "name": "stdout",
          "output_type": "stream",
          "text": [
            "Training model with no_augmentation augmentation...\n",
            "Files already downloaded and verified\n"
          ]
        },
        {
          "name": "stderr",
          "output_type": "stream",
          "text": [
            "100%|██████████| 1563/1563 [00:13<00:00, 116.14it/s]\n",
            "100%|██████████| 1563/1563 [00:10<00:00, 143.40it/s]\n",
            "100%|██████████| 1563/1563 [00:11<00:00, 141.33it/s]\n",
            "100%|██████████| 1563/1563 [00:11<00:00, 140.79it/s]\n",
            "100%|██████████| 1563/1563 [00:10<00:00, 145.57it/s]\n",
            "100%|██████████| 1563/1563 [00:11<00:00, 141.42it/s]\n",
            "100%|██████████| 1563/1563 [00:11<00:00, 140.07it/s]\n",
            "100%|██████████| 1563/1563 [00:10<00:00, 142.20it/s]\n",
            "100%|██████████| 1563/1563 [00:11<00:00, 141.27it/s]\n",
            "100%|██████████| 1563/1563 [00:10<00:00, 145.87it/s]\n",
            "100%|██████████| 1563/1563 [00:11<00:00, 141.45it/s]\n",
            "100%|██████████| 1563/1563 [00:10<00:00, 143.38it/s]\n",
            "100%|██████████| 1563/1563 [00:11<00:00, 139.41it/s]\n",
            "100%|██████████| 1563/1563 [00:11<00:00, 139.87it/s]\n",
            "100%|██████████| 1563/1563 [00:11<00:00, 141.56it/s]\n",
            "100%|██████████| 1563/1563 [00:11<00:00, 140.18it/s]\n",
            "100%|██████████| 1563/1563 [00:11<00:00, 138.17it/s]\n",
            "100%|██████████| 1563/1563 [00:11<00:00, 139.66it/s]\n",
            "100%|██████████| 1563/1563 [00:11<00:00, 138.55it/s]\n",
            "100%|██████████| 1563/1563 [00:10<00:00, 142.37it/s]\n",
            "100%|██████████| 1563/1563 [00:11<00:00, 139.33it/s]\n",
            "100%|██████████| 1563/1563 [00:11<00:00, 138.43it/s]\n",
            "100%|██████████| 1563/1563 [00:11<00:00, 139.58it/s]\n",
            "100%|██████████| 1563/1563 [00:11<00:00, 136.63it/s]\n",
            "100%|██████████| 1563/1563 [00:10<00:00, 143.23it/s]\n",
            "100%|██████████| 1563/1563 [00:11<00:00, 137.68it/s]\n",
            "100%|██████████| 1563/1563 [00:11<00:00, 137.79it/s]\n",
            "100%|██████████| 1563/1563 [00:11<00:00, 135.34it/s]\n",
            "100%|██████████| 1563/1563 [00:11<00:00, 138.79it/s]\n",
            "100%|██████████| 1563/1563 [00:11<00:00, 137.60it/s]\n",
            "100%|██████████| 1563/1563 [00:11<00:00, 141.46it/s]\n",
            "100%|██████████| 1563/1563 [00:11<00:00, 139.36it/s]\n",
            "100%|██████████| 1563/1563 [00:11<00:00, 135.38it/s]\n",
            "100%|██████████| 1563/1563 [00:11<00:00, 138.87it/s]\n",
            "100%|██████████| 1563/1563 [00:11<00:00, 140.17it/s]\n",
            "100%|██████████| 1563/1563 [00:11<00:00, 141.29it/s]\n",
            "100%|██████████| 1563/1563 [00:11<00:00, 139.87it/s]\n",
            "100%|██████████| 1563/1563 [00:11<00:00, 137.62it/s]\n",
            "100%|██████████| 1563/1563 [00:11<00:00, 137.06it/s]\n",
            "100%|██████████| 1563/1563 [00:11<00:00, 138.43it/s]\n",
            "100%|██████████| 1563/1563 [00:11<00:00, 137.12it/s]\n",
            "100%|██████████| 1563/1563 [00:11<00:00, 140.34it/s]\n"
          ]
        },
        {
          "name": "stdout",
          "output_type": "stream",
          "text": [
            "no_augmentation augmentation: validation accuracy = 0.673\n",
            "Training model with random_horizontal_flip augmentation...\n",
            "Files already downloaded and verified\n"
          ]
        },
        {
          "name": "stderr",
          "output_type": "stream",
          "text": [
            "100%|██████████| 1563/1563 [00:14<00:00, 110.96it/s]\n",
            "100%|██████████| 1563/1563 [00:13<00:00, 113.81it/s]\n",
            "100%|██████████| 1563/1563 [00:13<00:00, 115.51it/s]\n",
            "100%|██████████| 1563/1563 [00:13<00:00, 112.98it/s]\n",
            "100%|██████████| 1563/1563 [00:13<00:00, 112.31it/s]\n",
            "100%|██████████| 1563/1563 [00:13<00:00, 114.29it/s]\n",
            "100%|██████████| 1563/1563 [00:13<00:00, 115.41it/s]\n",
            "100%|██████████| 1563/1563 [00:13<00:00, 114.91it/s]\n",
            "100%|██████████| 1563/1563 [00:13<00:00, 113.95it/s]\n",
            "100%|██████████| 1563/1563 [00:13<00:00, 112.00it/s]\n",
            "100%|██████████| 1563/1563 [00:13<00:00, 112.99it/s]\n",
            "100%|██████████| 1563/1563 [00:13<00:00, 117.30it/s]\n",
            "100%|██████████| 1563/1563 [00:13<00:00, 114.91it/s]\n",
            "100%|██████████| 1563/1563 [00:13<00:00, 116.88it/s]\n",
            "100%|██████████| 1563/1563 [00:13<00:00, 112.84it/s]\n",
            "100%|██████████| 1563/1563 [00:13<00:00, 115.34it/s]\n",
            "100%|██████████| 1563/1563 [00:13<00:00, 115.70it/s]\n",
            "100%|██████████| 1563/1563 [00:13<00:00, 117.45it/s]\n",
            "100%|██████████| 1563/1563 [00:13<00:00, 117.01it/s]\n",
            "100%|██████████| 1563/1563 [00:13<00:00, 114.96it/s]\n",
            "100%|██████████| 1563/1563 [00:13<00:00, 115.57it/s]\n",
            "100%|██████████| 1563/1563 [00:13<00:00, 115.66it/s]\n",
            "100%|██████████| 1563/1563 [00:13<00:00, 117.04it/s]\n",
            "100%|██████████| 1563/1563 [00:13<00:00, 111.66it/s]\n",
            "100%|██████████| 1563/1563 [00:14<00:00, 108.07it/s]\n",
            "100%|██████████| 1563/1563 [00:13<00:00, 115.55it/s]\n"
          ]
        },
        {
          "name": "stdout",
          "output_type": "stream",
          "text": [
            "random_horizontal_flip augmentation: validation accuracy = 0.711\n",
            "Training model with random_rotation augmentation...\n",
            "Files already downloaded and verified\n"
          ]
        },
        {
          "name": "stderr",
          "output_type": "stream",
          "text": [
            "100%|██████████| 1563/1563 [00:15<00:00, 99.60it/s] \n",
            "100%|██████████| 1563/1563 [00:15<00:00, 98.44it/s] \n",
            "100%|██████████| 1563/1563 [00:16<00:00, 94.35it/s]\n",
            "100%|██████████| 1563/1563 [00:15<00:00, 98.56it/s] \n",
            "100%|██████████| 1563/1563 [00:16<00:00, 94.90it/s] \n",
            "100%|██████████| 1563/1563 [00:16<00:00, 94.38it/s]\n",
            "100%|██████████| 1563/1563 [00:16<00:00, 93.53it/s] \n",
            "100%|██████████| 1563/1563 [00:16<00:00, 92.90it/s]\n",
            "100%|██████████| 1563/1563 [00:15<00:00, 98.31it/s] \n",
            "100%|██████████| 1563/1563 [00:15<00:00, 97.96it/s] \n",
            "100%|██████████| 1563/1563 [00:16<00:00, 93.50it/s]\n",
            "100%|██████████| 1563/1563 [00:16<00:00, 96.64it/s] \n",
            "100%|██████████| 1563/1563 [00:16<00:00, 95.74it/s] \n",
            "100%|██████████| 1563/1563 [00:15<00:00, 97.75it/s]\n",
            "100%|██████████| 1563/1563 [00:15<00:00, 98.20it/s] \n",
            "100%|██████████| 1563/1563 [00:16<00:00, 93.67it/s] \n",
            "100%|██████████| 1563/1563 [00:16<00:00, 97.49it/s] \n",
            "100%|██████████| 1563/1563 [00:16<00:00, 97.46it/s] \n",
            "100%|██████████| 1563/1563 [00:16<00:00, 94.08it/s]\n",
            "100%|██████████| 1563/1563 [00:15<00:00, 100.04it/s]\n",
            "100%|██████████| 1563/1563 [00:16<00:00, 95.79it/s] \n",
            "100%|██████████| 1563/1563 [00:15<00:00, 97.82it/s] \n",
            "100%|██████████| 1563/1563 [00:15<00:00, 97.69it/s] \n",
            "100%|██████████| 1563/1563 [00:16<00:00, 94.52it/s]\n",
            "100%|██████████| 1563/1563 [00:16<00:00, 97.17it/s] \n",
            "100%|██████████| 1563/1563 [00:16<00:00, 96.36it/s] \n",
            "100%|██████████| 1563/1563 [00:15<00:00, 98.08it/s] \n",
            "100%|██████████| 1563/1563 [00:15<00:00, 98.48it/s]\n",
            "100%|██████████| 1563/1563 [00:16<00:00, 94.32it/s]\n",
            "100%|██████████| 1563/1563 [00:16<00:00, 97.50it/s]\n"
          ]
        },
        {
          "name": "stdout",
          "output_type": "stream",
          "text": [
            "random_rotation augmentation: validation accuracy = 0.711\n",
            "Training model with random_crop augmentation...\n",
            "Files already downloaded and verified\n"
          ]
        },
        {
          "name": "stderr",
          "output_type": "stream",
          "text": [
            "100%|██████████| 1563/1563 [00:16<00:00, 95.44it/s] \n",
            "100%|██████████| 1563/1563 [00:16<00:00, 92.47it/s] \n",
            "100%|██████████| 1563/1563 [00:16<00:00, 96.26it/s]\n",
            "100%|██████████| 1563/1563 [00:16<00:00, 97.14it/s] \n",
            "100%|██████████| 1563/1563 [00:16<00:00, 92.30it/s]\n",
            "100%|██████████| 1563/1563 [00:16<00:00, 95.00it/s]\n",
            "100%|██████████| 1563/1563 [00:16<00:00, 96.64it/s] \n",
            "100%|██████████| 1563/1563 [00:16<00:00, 92.44it/s]\n",
            "100%|██████████| 1563/1563 [00:16<00:00, 96.05it/s] \n",
            "100%|██████████| 1563/1563 [00:16<00:00, 93.89it/s]\n",
            "100%|██████████| 1563/1563 [00:16<00:00, 94.24it/s]\n",
            "100%|██████████| 1563/1563 [00:16<00:00, 95.14it/s] \n",
            "100%|██████████| 1563/1563 [00:16<00:00, 96.53it/s] \n",
            "100%|██████████| 1563/1563 [00:17<00:00, 91.67it/s]\n",
            "100%|██████████| 1563/1563 [00:16<00:00, 95.18it/s]\n",
            "100%|██████████| 1563/1563 [00:16<00:00, 95.77it/s] \n",
            "100%|██████████| 1563/1563 [00:16<00:00, 92.42it/s]\n",
            "100%|██████████| 1563/1563 [00:16<00:00, 97.30it/s] \n",
            "100%|██████████| 1563/1563 [00:16<00:00, 95.50it/s] \n",
            "100%|██████████| 1563/1563 [00:17<00:00, 91.84it/s]\n",
            "100%|██████████| 1563/1563 [00:16<00:00, 94.84it/s]\n",
            "100%|██████████| 1563/1563 [00:16<00:00, 94.26it/s]\n",
            "100%|██████████| 1563/1563 [00:17<00:00, 91.35it/s]\n",
            "100%|██████████| 1563/1563 [00:16<00:00, 96.63it/s] \n",
            "100%|██████████| 1563/1563 [00:16<00:00, 93.42it/s]\n",
            "100%|██████████| 1563/1563 [00:16<00:00, 92.91it/s]\n",
            "100%|██████████| 1563/1563 [00:16<00:00, 94.88it/s]\n",
            "100%|██████████| 1563/1563 [00:16<00:00, 96.93it/s]\n",
            "100%|██████████| 1563/1563 [00:17<00:00, 91.82it/s]\n",
            "100%|██████████| 1563/1563 [00:16<00:00, 96.94it/s]\n",
            "100%|██████████| 1563/1563 [00:16<00:00, 96.83it/s] \n",
            "100%|██████████| 1563/1563 [00:16<00:00, 92.74it/s]\n",
            "100%|██████████| 1563/1563 [00:15<00:00, 97.86it/s] \n"
          ]
        },
        {
          "name": "stdout",
          "output_type": "stream",
          "text": [
            "random_crop augmentation: validation accuracy = 0.727\n",
            "Training model with random_affine augmentation...\n",
            "Files already downloaded and verified\n"
          ]
        },
        {
          "name": "stderr",
          "output_type": "stream",
          "text": [
            "100%|██████████| 1563/1563 [00:16<00:00, 93.83it/s]\n",
            "100%|██████████| 1563/1563 [00:16<00:00, 92.68it/s]\n",
            "100%|██████████| 1563/1563 [00:17<00:00, 90.10it/s]\n",
            "100%|██████████| 1563/1563 [00:16<00:00, 93.11it/s]\n",
            "100%|██████████| 1563/1563 [00:16<00:00, 94.01it/s]\n",
            "100%|██████████| 1563/1563 [00:16<00:00, 94.21it/s] \n",
            "100%|██████████| 1563/1563 [00:17<00:00, 91.46it/s]\n",
            "100%|██████████| 1563/1563 [00:16<00:00, 95.42it/s]\n",
            "100%|██████████| 1563/1563 [00:16<00:00, 93.81it/s]\n",
            "100%|██████████| 1563/1563 [00:17<00:00, 91.28it/s]\n",
            "100%|██████████| 1563/1563 [00:16<00:00, 92.36it/s]\n",
            "100%|██████████| 1563/1563 [00:16<00:00, 93.95it/s]\n",
            "100%|██████████| 1563/1563 [00:16<00:00, 94.98it/s] \n",
            "100%|██████████| 1563/1563 [00:16<00:00, 93.91it/s] \n",
            "100%|██████████| 1563/1563 [00:17<00:00, 91.29it/s]\n",
            "100%|██████████| 1563/1563 [00:16<00:00, 92.68it/s]\n",
            "100%|██████████| 1563/1563 [00:16<00:00, 95.66it/s]\n",
            "100%|██████████| 1563/1563 [00:16<00:00, 94.11it/s]\n",
            "100%|██████████| 1563/1563 [00:17<00:00, 91.17it/s]\n",
            "100%|██████████| 1563/1563 [00:16<00:00, 95.54it/s]\n",
            "100%|██████████| 1563/1563 [00:16<00:00, 94.50it/s]\n",
            "100%|██████████| 1563/1563 [00:17<00:00, 91.24it/s]\n",
            "100%|██████████| 1563/1563 [00:17<00:00, 91.27it/s]\n",
            "100%|██████████| 1563/1563 [00:23<00:00, 66.95it/s] \n",
            "100%|██████████| 1563/1563 [00:20<00:00, 76.55it/s] \n",
            "100%|██████████| 1563/1563 [00:17<00:00, 91.13it/s]\n",
            "100%|██████████| 1563/1563 [00:18<00:00, 83.09it/s]\n",
            "100%|██████████| 1563/1563 [00:16<00:00, 93.43it/s]\n",
            "100%|██████████| 1563/1563 [00:16<00:00, 93.14it/s]\n"
          ]
        },
        {
          "name": "stdout",
          "output_type": "stream",
          "text": [
            "random_affine augmentation: validation accuracy = 0.704\n",
            "Best augmentation strategy: random_crop (accuracy: 0.727)\n",
            "Worst augmentation strategy: no_augmentation (accuracy: 0.673)\n"
          ]
        }
      ],
      "source": [
        "best_val_acc = -float(\"inf\")\n",
        "best_augmentation = \"\"\n",
        "\n",
        "worst_val_acc = float(\"inf\")\n",
        "worst_augmentation = \"\"\n",
        "\n",
        "results = []\n",
        "\n",
        "for name, augmentation in augmentation_strategies:\n",
        "    print(f\"Training model with {name} augmentation...\")\n",
        "    train_ds = torchvision.datasets.CIFAR10(\n",
        "        \"cifar_root\", transform=augmentation, download=True\n",
        "    )\n",
        "    train_dl = DataLoader(\n",
        "        train_ds, batch_size=32, shuffle=True, pin_memory=True\n",
        "    )\n",
        "\n",
        "    model = ThreeLayerCNN(32, 10).cuda()\n",
        "    optimiser = optim.Adam(model.parameters())\n",
        "    loss_fn = nn.CrossEntropyLoss()\n",
        "\n",
        "    train_losses, train_accs, val_losses, val_accs = fit(\n",
        "        model,\n",
        "        optimiser,\n",
        "        loss_fn,\n",
        "        train_dl,\n",
        "        test_dl,\n",
        "        epochs=50,\n",
        "        print_metrics=False,\n",
        "    )\n",
        "\n",
        "    model.eval()\n",
        "    with torch.no_grad():\n",
        "        _, val_acc = validate(model, loss_fn, test_dl)\n",
        "\n",
        "    print(f\"{name} augmentation: validation accuracy = {val_acc:.3f}\")\n",
        "\n",
        "    results.append((name, train_losses, train_accs, val_losses, val_accs))\n",
        "\n",
        "    if val_acc < worst_val_acc:\n",
        "        worst_val_acc = val_acc\n",
        "        worst_augmentation = name\n",
        "\n",
        "    if val_acc > best_val_acc:\n",
        "        best_val_acc = val_acc\n",
        "        best_augmentation = name\n",
        "\n",
        "print(f\"Best augmentation strategy: {best_augmentation} (accuracy: {best_val_acc:.3f})\")\n",
        "print(f\"Worst augmentation strategy: {worst_augmentation} (accuracy: {worst_val_acc:.3f})\")"
      ]
    },
    {
      "attachments": {},
      "cell_type": "markdown",
      "metadata": {
        "id": "aRMDOzslUAKW"
      },
      "source": [
        "# Mixup - augmentacja ogólna\n",
        "\n",
        "Augmentacja daje nam spore możliwości w sytuacji, gdy w dziedzinie danych jesteśmy w stanie wskazać przekształcenia na kóre nasz model powinien być **inwariantny** - dla obrazków niewielkie skalowanie czy przesunięcie nie powinno zmieniać wyniku, zaś dla tekstu, podstawianie synonimów może spełniać podobną rolę. Ale w augmentacji danych możliwe jest też podejście niezależne od typu danych, wynikające z obserwacji dotyczących dynamiki uczenia sieci głębokich w ogóle. Ciekawym przykładem jest tu augmentacja Mixup:\n",
        "\n",
        "https://arxiv.org/abs/1710.09412\n",
        "\n",
        "Zasada działania mixup jest niezwykle prosta - generujemy nowe przykłady jako **kombinacje liniowe** tych istniejących w zbiorze danych i oczekujemy, że ich etykiety również będą kombinacjami liniowymi etykiet. Innymi słowy, dla pary przykładów z etykietami: $(x_1, y_1)$, $(x_2, y_2)$, możemy wygenerować przykład $(x', y')$:\n",
        "\n",
        "$x' = \\lambda x_1 + (1-\\lambda) x_2$\n",
        "\n",
        "$y' = \\lambda y_1 + (1-\\lambda) y_2$\n",
        "\n",
        "Wartość $\\lambda$ jest tutaj losowana z rozkładu Beta - animacja podana na https://en.wikipedia.org/wiki/Beta_distribution#Definitions dobrze obrazuje, jak wygląda ten rozkład dla różnych parametryzacji."
      ]
    },
    {
      "attachments": {},
      "cell_type": "markdown",
      "metadata": {
        "id": "IRnbe1V6YfOY"
      },
      "source": [
        "# Zadanie 2\n",
        "\n",
        "Zmodyfikuj funkcję fit tak, aby uczyć zgodnie z podanym wyżej sformułowaniem augmentacji Mixup. Uwaga: będzie to wymagało modyfikacji funkcji kosztu!"
      ]
    },
    {
      "cell_type": "code",
      "execution_count": null,
      "metadata": {
        "id": "FBCXRaAsT_Xe"
      },
      "outputs": [],
      "source": [
        "import numpy as np\n",
        "from torch.distributions.beta import Beta\n",
        "from typing import Tuple\n",
        "\n",
        "def mixup_data(\n",
        "    x: torch.Tensor, \n",
        "    y: torch.Tensor, \n",
        "    alpha: float = 1.0\n",
        ") -> Tuple[torch.Tensor, torch.Tensor, torch.Tensor, float]:\n",
        "    if alpha > 0:\n",
        "        lam = Beta(alpha, alpha).sample().item()\n",
        "    else:\n",
        "        lam = 1\n",
        "    batch_size = x.size()[0]\n",
        "    index = torch.randperm(batch_size).cuda()\n",
        "    mixed_x = lam * x + (1 - lam) * x[index]\n",
        "    y_a, y_b = y, y[index]\n",
        "    return mixed_x, y_a, y_b, lam\n",
        "\n",
        "def mixup_criterion(\n",
        "    criterion: nn.Module, \n",
        "    pred: torch.Tensor, \n",
        "    y_a: torch.Tensor,\n",
        "    y_b: torch.Tensor, \n",
        "    lam: float\n",
        ") -> torch.Tensor:\n",
        "    return lam * criterion(pred, y_a) + (1 - lam) * criterion(pred, y_b)\n",
        "\n",
        "def fit(\n",
        "    model: nn.Module,\n",
        "    optimiser: optim.Optimizer,\n",
        "    loss_fn: torch.nn.CrossEntropyLoss,\n",
        "    train_dl: DataLoader,\n",
        "    val_dl: DataLoader,\n",
        "    epochs: int,\n",
        "    print_metrics: bool = True,\n",
        "    alpha: float = 0.4\n",
        "):\n",
        "    train_losses = []\n",
        "    train_accs = []\n",
        "    val_losses = []\n",
        "    val_accs = []\n",
        "\n",
        "    last_loss = float(\"inf\")\n",
        "    no_improvement_count = 0\n",
        "\n",
        "    for epoch in range(epochs):\n",
        "        if no_improvement_count >= 5:\n",
        "            return (train_losses, train_accs, val_losses, val_accs)\n",
        "        for X_batch, y_batch in tqdm(train_dl):\n",
        "            X_batch, y_batch = X_batch.cuda(), y_batch.cuda()\n",
        "            X_mix, y_a, y_b, lam = mixup_data(X_batch, y_batch, alpha)\n",
        "\n",
        "            y_pred = model(X_mix)\n",
        "            loss = mixup_criterion(loss_fn, y_pred, y_a, y_b, lam)\n",
        "\n",
        "\n",
        "            loss.backward()\n",
        "            optimiser.step()\n",
        "            optimiser.zero_grad()\n",
        "\n",
        "        model.eval()\n",
        "        with torch.no_grad():\n",
        "            train_loss, train_acc = validate(\n",
        "                model=model, loss_fn=loss_fn, dataloader=train_dl\n",
        "            )\n",
        "            val_loss, val_acc = validate(\n",
        "                model=model, loss_fn=loss_fn, dataloader=val_dl\n",
        "            )\n",
        "            train_losses.append(train_loss)\n",
        "            train_accs.append(train_acc)\n",
        "            val_losses.append(val_loss)\n",
        "            val_accs.append(val_acc)\n",
        "\n",
        "            if last_loss <= train_loss:\n",
        "                no_improvement_count += 1\n",
        "                continue\n",
        "\n",
        "            last_loss = train_loss\n",
        "            no_improvement_count = 1\n",
        "\n",
        "\n",
        "            if print_metrics:\n",
        "                print(\n",
        "                    f\"Epoch {epoch}: \"\n",
        "                    f\"train loss = {train_loss:.3f} (acc: {train_acc:.3f}), \"\n",
        "                    f\"validation loss = {val_loss:.3f} (acc: {val_acc:.3f})\"\n",
        "                )\n",
        "\n",
        "    return (train_losses, train_accs, val_losses, val_accs)"
      ]
    },
    {
      "attachments": {},
      "cell_type": "markdown",
      "metadata": {
        "id": "bId62ojPhzkU"
      },
      "source": [
        "Sprawdź, czy uzyskuje ona przewagę nad modelem trenowanym bez augmentacji. \n",
        "\n"
      ]
    },
    {
      "cell_type": "code",
      "execution_count": null,
      "metadata": {
        "colab": {
          "base_uri": "https://localhost:8080/"
        },
        "id": "727vLU-8h6EE",
        "outputId": "d614e3cb-d1b9-48ba-9cf8-dfd51968b67a"
      },
      "outputs": [
        {
          "name": "stdout",
          "output_type": "stream",
          "text": [
            "Files already downloaded and verified\n"
          ]
        },
        {
          "name": "stderr",
          "output_type": "stream",
          "text": [
            "100%|██████████| 1563/1563 [00:19<00:00, 80.10it/s] \n"
          ]
        },
        {
          "name": "stdout",
          "output_type": "stream",
          "text": [
            "Epoch 0: train loss = 0.040 (acc: 0.552), validation loss = 0.041 (acc: 0.551)\n"
          ]
        },
        {
          "name": "stderr",
          "output_type": "stream",
          "text": [
            "100%|██████████| 1563/1563 [00:13<00:00, 111.88it/s]\n"
          ]
        },
        {
          "name": "stdout",
          "output_type": "stream",
          "text": [
            "Epoch 1: train loss = 0.034 (acc: 0.635), validation loss = 0.035 (acc: 0.623)\n"
          ]
        },
        {
          "name": "stderr",
          "output_type": "stream",
          "text": [
            "100%|██████████| 1563/1563 [00:15<00:00, 100.06it/s]\n"
          ]
        },
        {
          "name": "stdout",
          "output_type": "stream",
          "text": [
            "Epoch 2: train loss = 0.033 (acc: 0.642), validation loss = 0.034 (acc: 0.625)\n"
          ]
        },
        {
          "name": "stderr",
          "output_type": "stream",
          "text": [
            "100%|██████████| 1563/1563 [00:12<00:00, 124.21it/s]\n"
          ]
        },
        {
          "name": "stdout",
          "output_type": "stream",
          "text": [
            "Epoch 3: train loss = 0.030 (acc: 0.665), validation loss = 0.032 (acc: 0.644)\n"
          ]
        },
        {
          "name": "stderr",
          "output_type": "stream",
          "text": [
            "100%|██████████| 1563/1563 [00:11<00:00, 130.96it/s]\n"
          ]
        },
        {
          "name": "stdout",
          "output_type": "stream",
          "text": [
            "Epoch 4: train loss = 0.028 (acc: 0.699), validation loss = 0.031 (acc: 0.672)\n"
          ]
        },
        {
          "name": "stderr",
          "output_type": "stream",
          "text": [
            "100%|██████████| 1563/1563 [00:11<00:00, 130.84it/s]\n"
          ]
        },
        {
          "name": "stdout",
          "output_type": "stream",
          "text": [
            "Epoch 5: train loss = 0.027 (acc: 0.712), validation loss = 0.030 (acc: 0.683)\n"
          ]
        },
        {
          "name": "stderr",
          "output_type": "stream",
          "text": [
            "100%|██████████| 1563/1563 [00:12<00:00, 129.89it/s]\n"
          ]
        },
        {
          "name": "stdout",
          "output_type": "stream",
          "text": [
            "Epoch 6: train loss = 0.026 (acc: 0.719), validation loss = 0.030 (acc: 0.681)\n"
          ]
        },
        {
          "name": "stderr",
          "output_type": "stream",
          "text": [
            "100%|██████████| 1563/1563 [00:12<00:00, 126.29it/s]\n",
            "100%|██████████| 1563/1563 [00:11<00:00, 131.89it/s]\n"
          ]
        },
        {
          "name": "stdout",
          "output_type": "stream",
          "text": [
            "Epoch 8: train loss = 0.025 (acc: 0.743), validation loss = 0.029 (acc: 0.696)\n"
          ]
        },
        {
          "name": "stderr",
          "output_type": "stream",
          "text": [
            "100%|██████████| 1563/1563 [00:12<00:00, 130.17it/s]\n",
            "100%|██████████| 1563/1563 [00:11<00:00, 131.32it/s]\n"
          ]
        },
        {
          "name": "stdout",
          "output_type": "stream",
          "text": [
            "Epoch 10: train loss = 0.025 (acc: 0.742), validation loss = 0.029 (acc: 0.689)\n"
          ]
        },
        {
          "name": "stderr",
          "output_type": "stream",
          "text": [
            "100%|██████████| 1563/1563 [00:11<00:00, 131.57it/s]\n"
          ]
        },
        {
          "name": "stdout",
          "output_type": "stream",
          "text": [
            "Epoch 11: train loss = 0.024 (acc: 0.753), validation loss = 0.028 (acc: 0.699)\n"
          ]
        },
        {
          "name": "stderr",
          "output_type": "stream",
          "text": [
            "100%|██████████| 1563/1563 [00:12<00:00, 129.18it/s]\n",
            "100%|██████████| 1563/1563 [00:11<00:00, 131.25it/s]\n"
          ]
        },
        {
          "name": "stdout",
          "output_type": "stream",
          "text": [
            "Epoch 13: train loss = 0.024 (acc: 0.752), validation loss = 0.029 (acc: 0.695)\n"
          ]
        },
        {
          "name": "stderr",
          "output_type": "stream",
          "text": [
            "100%|██████████| 1563/1563 [00:12<00:00, 129.92it/s]\n"
          ]
        },
        {
          "name": "stdout",
          "output_type": "stream",
          "text": [
            "Epoch 14: train loss = 0.023 (acc: 0.771), validation loss = 0.028 (acc: 0.707)\n"
          ]
        },
        {
          "name": "stderr",
          "output_type": "stream",
          "text": [
            "100%|██████████| 1563/1563 [00:11<00:00, 130.65it/s]\n",
            "100%|██████████| 1563/1563 [00:11<00:00, 132.88it/s]\n",
            "100%|██████████| 1563/1563 [00:12<00:00, 129.37it/s]\n"
          ]
        },
        {
          "name": "stdout",
          "output_type": "stream",
          "text": [
            "Epoch 17: train loss = 0.022 (acc: 0.769), validation loss = 0.028 (acc: 0.707)\n"
          ]
        },
        {
          "name": "stderr",
          "output_type": "stream",
          "text": [
            "100%|██████████| 1563/1563 [00:12<00:00, 129.40it/s]\n"
          ]
        },
        {
          "name": "stdout",
          "output_type": "stream",
          "text": [
            "Epoch 18: train loss = 0.022 (acc: 0.771), validation loss = 0.028 (acc: 0.699)\n"
          ]
        },
        {
          "name": "stderr",
          "output_type": "stream",
          "text": [
            "100%|██████████| 1563/1563 [00:11<00:00, 132.51it/s]\n",
            "100%|██████████| 1563/1563 [00:11<00:00, 130.38it/s]\n"
          ]
        },
        {
          "name": "stdout",
          "output_type": "stream",
          "text": [
            "Epoch 20: train loss = 0.022 (acc: 0.778), validation loss = 0.028 (acc: 0.702)\n"
          ]
        },
        {
          "name": "stderr",
          "output_type": "stream",
          "text": [
            "100%|██████████| 1563/1563 [00:11<00:00, 130.71it/s]\n",
            "100%|██████████| 1563/1563 [00:11<00:00, 132.69it/s]\n",
            "100%|██████████| 1563/1563 [00:11<00:00, 131.31it/s]\n",
            "100%|██████████| 1563/1563 [00:11<00:00, 132.70it/s]\n"
          ]
        },
        {
          "name": "stdout",
          "output_type": "stream",
          "text": [
            "Epoch 24: train loss = 0.021 (acc: 0.788), validation loss = 0.027 (acc: 0.708)\n"
          ]
        },
        {
          "name": "stderr",
          "output_type": "stream",
          "text": [
            "100%|██████████| 1563/1563 [00:11<00:00, 131.11it/s]\n",
            "100%|██████████| 1563/1563 [00:11<00:00, 131.86it/s]\n",
            "100%|██████████| 1563/1563 [00:11<00:00, 132.30it/s]\n",
            "100%|██████████| 1563/1563 [00:12<00:00, 128.07it/s]\n"
          ]
        }
      ],
      "source": [
        "train_ds = torchvision.datasets.CIFAR10(\n",
        "    \"cifar_root\", transform=transforms.Compose([transforms.ToTensor()]), download=True\n",
        ")\n",
        "train_dl = DataLoader(\n",
        "    train_ds, batch_size=32, shuffle=True, pin_memory=True\n",
        ")\n",
        "\n",
        "model = ThreeLayerCNN(32, 10).cuda()\n",
        "optimiser = optim.Adam(model.parameters())\n",
        "loss_fn = nn.CrossEntropyLoss()\n",
        "\n",
        "mixin_train_losses, mixin_train_accs, mixin_val_losses, mixin_val_accs = fit(\n",
        "    model,\n",
        "    optimiser,\n",
        "    loss_fn,\n",
        "    train_dl,\n",
        "    test_dl,\n",
        "    epochs=50,\n",
        "    print_metrics=True,\n",
        ")\n",
        "\n",
        "model.eval()\n",
        "with torch.no_grad():\n",
        "    _, val_acc = validate(model, loss_fn, test_dl)\n",
        "    mixin_stategy_acc = val_acc"
      ]
    },
    {
      "cell_type": "code",
      "execution_count": null,
      "metadata": {
        "colab": {
          "base_uri": "https://localhost:8080/"
        },
        "id": "arPd2Zx9JOzD",
        "outputId": "27c8b2bf-a510-4f39-a79e-51f2c21e42ea"
      },
      "outputs": [
        {
          "name": "stdout",
          "output_type": "stream",
          "text": [
            "Mixin strategy (accuracy: 0.700)\n"
          ]
        }
      ],
      "source": [
        "print(f\"Mixin strategy (accuracy: {mixin_stategy_acc:.3f})\")"
      ]
    },
    {
      "attachments": {},
      "cell_type": "markdown",
      "metadata": {
        "id": "D3QMNaOb9lvp"
      },
      "source": [
        "# Skrótowe połączenia\n",
        "\n",
        "W kontekście sieci konwolucyjnych warto zpoznać się jeszcze z jedną istotną koncepcją: połączenia omijające warstwy, poprzez konkatenacje ich wyniku z wynikami dalszych warstw lub dodawanie ich wyniku do wyjścia dalszej warstwy (w drugim przypadku mówimy też o połączeniach *rezydualnych*). Połączenia takie są potrzebne szczególnie przy trenowaniu sieci bardzo głębokich, zawierających dziesiątki czy nawet ponad 100 warstw, czego nie będziemy w stanie realistycznie zrealizować w czasie naszych laboratoriów. Niemniej warto zapoznać się zarówno z samą ideą, jak i ich implementacją, jako że przy pracy z architekturami *state of the art* będziemy często natykać się na takie konstrukcje.\n",
        "\n",
        "W konstrukcji sieci z połączeniamy pomijającymi warstwy i połączeniami rezydualnymi często będziemy spotykać się z powtarzalnymi *blokami* obejmującymi kilka warstw - dobrą praktyką implementacyjną jest wydzielanie takich bloków jako osobnych podklas `torch.nn.Module`. Warto też z góry zwrócić uwagę, że znane nam już `torch.nn.Sequential` nie uwzględnia połączeń innych niż sekwencyjne - czyli połączenia rezydualne i omijanie warstw nie wchodzi w grę, chyba że w obrębie wydzielonego bloku."
      ]
    },
    {
      "attachments": {},
      "cell_type": "markdown",
      "metadata": {
        "id": "JxUiBYYX_lcb"
      },
      "source": [
        "# Zadanie 3\n",
        "\n",
        "Uzupełnij kod klasy SkipBlock tak, aby implementowała blok o zadanej strukturze.\n",
        "\n",
        "Struktura SkipBlock:\n",
        "\n",
        "główna sekwencja warstw\n",
        "\n",
        "*   warstwa konwolucyjna, nie zmieniająca wymiarów szerokość/wysokość, `in_channels x out_channels`, filtr 3x3\n",
        "*   aktywacja ReLU\n",
        "*   warstwa konwolucyjna, wykonująca downsampling x2 w wymiarach szerokość/wysokość, filtr 3x3\n",
        "\n",
        "warstwa poboczna (na wejściu: wejście do całego bloku, wyjście dodawane jest do wyjścia sekwencji powyżej)\n",
        "\n",
        "*    warstwa konwolucyjna, filtr 2x2\n",
        "\n",
        "**Samodzielnie dobierz niesprecyzowane parametry** tak, aby wymiary odpowiednich wyjść się zgadzały. Wyjście bloku powinno mieć `out_channels` kanałów oraz dwukrotnie zmniejszoną wysokość i szerokość w stosunku do wejścia."
      ]
    },
    {
      "cell_type": "code",
      "execution_count": null,
      "metadata": {
        "id": "cVJ1cGOs9lSg"
      },
      "outputs": [],
      "source": [
        "from typing import List\n",
        "\n",
        "class SkipBlock(torch.nn.Module):\n",
        "    def __init__(self, in_channels: int, out_channels: int):\n",
        "        super().__init__()\n",
        "        self.main = torch.nn.Sequential(\n",
        "            torch.nn.Conv2d(in_channels, out_channels, kernel_size=3, padding=1),\n",
        "            torch.nn.ReLU(),\n",
        "            torch.nn.Conv2d(out_channels, out_channels, kernel_size=3, stride=2, padding=1)\n",
        "        )\n",
        "        self.shortcut = torch.nn.Conv2d(in_channels, out_channels, kernel_size=2, stride=2)\n",
        "\n",
        "    def forward(self, x):\n",
        "        main_out = self.main(x)\n",
        "        shortcut_out = self.shortcut(x)\n",
        "        return main_out + shortcut_out\n",
        "\n",
        "\n",
        "class SkipBlockCNN(torch.nn.Module):\n",
        "    def __init__(self, channels: List[int], labels: int):\n",
        "        super().__init__()\n",
        "        self.model = torch.nn.Sequential()\n",
        "        self.model.add_module(\"res_1\", SkipBlock(3, channels[0]))\n",
        "        self.model.add_module(\"relu_1\", torch.nn.ReLU())\n",
        "        self.model.add_module(\"res_2\", SkipBlock(channels[0], channels[1]))\n",
        "        self.model.add_module(\"relu_2\", torch.nn.ReLU())\n",
        "        self.model.add_module(\"res_3\", SkipBlock(channels[1], channels[2]))\n",
        "        self.model.add_module(\"relu_3\", torch.nn.ReLU())\n",
        "        self.model.add_module(\"flatten\", torch.nn.Flatten())\n",
        "        self.model.add_module(\"linear\", torch.nn.Linear(8 * 8 * channels[2], labels))\n",
        "\n",
        "    def forward(self, x):\n",
        "        return self.model(x)"
      ]
    },
    {
      "attachments": {},
      "cell_type": "markdown",
      "metadata": {
        "id": "YMZNBCOmmu8I"
      },
      "source": [
        " Wyucz sieć SkipBlockCNN i porównaj jej wyniki z wcześniej uzykanymi."
      ]
    },
    {
      "cell_type": "code",
      "execution_count": null,
      "metadata": {
        "colab": {
          "base_uri": "https://localhost:8080/"
        },
        "id": "q6r2bdnAmzob",
        "outputId": "ae8e5b90-4d0c-4d6b-a0a5-798ec51e78d8"
      },
      "outputs": [
        {
          "name": "stdout",
          "output_type": "stream",
          "text": [
            "Files already downloaded and verified\n"
          ]
        },
        {
          "name": "stderr",
          "output_type": "stream",
          "text": [
            "100%|██████████| 1563/1563 [00:11<00:00, 131.03it/s]\n"
          ]
        },
        {
          "name": "stdout",
          "output_type": "stream",
          "text": [
            "Epoch 0: train loss = 0.040 (acc: 0.550), validation loss = 0.041 (acc: 0.542)\n"
          ]
        },
        {
          "name": "stderr",
          "output_type": "stream",
          "text": [
            "100%|██████████| 1563/1563 [00:11<00:00, 131.72it/s]\n"
          ]
        },
        {
          "name": "stdout",
          "output_type": "stream",
          "text": [
            "Epoch 1: train loss = 0.035 (acc: 0.607), validation loss = 0.036 (acc: 0.595)\n"
          ]
        },
        {
          "name": "stderr",
          "output_type": "stream",
          "text": [
            "100%|██████████| 1563/1563 [00:12<00:00, 127.86it/s]\n"
          ]
        },
        {
          "name": "stdout",
          "output_type": "stream",
          "text": [
            "Epoch 2: train loss = 0.032 (acc: 0.657), validation loss = 0.033 (acc: 0.642)\n"
          ]
        },
        {
          "name": "stderr",
          "output_type": "stream",
          "text": [
            "100%|██████████| 1563/1563 [00:11<00:00, 130.28it/s]\n"
          ]
        },
        {
          "name": "stdout",
          "output_type": "stream",
          "text": [
            "Epoch 3: train loss = 0.030 (acc: 0.677), validation loss = 0.032 (acc: 0.658)\n"
          ]
        },
        {
          "name": "stderr",
          "output_type": "stream",
          "text": [
            "100%|██████████| 1563/1563 [00:12<00:00, 129.34it/s]\n",
            "100%|██████████| 1563/1563 [00:11<00:00, 130.97it/s]\n"
          ]
        },
        {
          "name": "stdout",
          "output_type": "stream",
          "text": [
            "Epoch 5: train loss = 0.028 (acc: 0.693), validation loss = 0.031 (acc: 0.664)\n"
          ]
        },
        {
          "name": "stderr",
          "output_type": "stream",
          "text": [
            "100%|██████████| 1563/1563 [00:12<00:00, 129.86it/s]\n",
            "100%|██████████| 1563/1563 [00:12<00:00, 128.00it/s]\n"
          ]
        },
        {
          "name": "stdout",
          "output_type": "stream",
          "text": [
            "Epoch 7: train loss = 0.027 (acc: 0.718), validation loss = 0.030 (acc: 0.676)\n"
          ]
        },
        {
          "name": "stderr",
          "output_type": "stream",
          "text": [
            "100%|██████████| 1563/1563 [00:12<00:00, 129.70it/s]\n"
          ]
        },
        {
          "name": "stdout",
          "output_type": "stream",
          "text": [
            "Epoch 8: train loss = 0.026 (acc: 0.731), validation loss = 0.029 (acc: 0.695)\n"
          ]
        },
        {
          "name": "stderr",
          "output_type": "stream",
          "text": [
            "100%|██████████| 1563/1563 [00:11<00:00, 130.63it/s]\n"
          ]
        },
        {
          "name": "stdout",
          "output_type": "stream",
          "text": [
            "Epoch 9: train loss = 0.026 (acc: 0.730), validation loss = 0.029 (acc: 0.690)\n"
          ]
        },
        {
          "name": "stderr",
          "output_type": "stream",
          "text": [
            "100%|██████████| 1563/1563 [00:12<00:00, 125.75it/s]\n"
          ]
        },
        {
          "name": "stdout",
          "output_type": "stream",
          "text": [
            "Epoch 10: train loss = 0.025 (acc: 0.735), validation loss = 0.029 (acc: 0.692)\n"
          ]
        },
        {
          "name": "stderr",
          "output_type": "stream",
          "text": [
            "100%|██████████| 1563/1563 [00:11<00:00, 130.65it/s]\n"
          ]
        },
        {
          "name": "stdout",
          "output_type": "stream",
          "text": [
            "Epoch 11: train loss = 0.025 (acc: 0.740), validation loss = 0.029 (acc: 0.689)\n"
          ]
        },
        {
          "name": "stderr",
          "output_type": "stream",
          "text": [
            "100%|██████████| 1563/1563 [00:12<00:00, 127.04it/s]\n",
            "100%|██████████| 1563/1563 [00:12<00:00, 129.93it/s]\n"
          ]
        },
        {
          "name": "stdout",
          "output_type": "stream",
          "text": [
            "Epoch 13: train loss = 0.024 (acc: 0.751), validation loss = 0.029 (acc: 0.695)\n"
          ]
        },
        {
          "name": "stderr",
          "output_type": "stream",
          "text": [
            "100%|██████████| 1563/1563 [00:11<00:00, 132.41it/s]\n"
          ]
        },
        {
          "name": "stdout",
          "output_type": "stream",
          "text": [
            "Epoch 14: train loss = 0.024 (acc: 0.748), validation loss = 0.028 (acc: 0.691)\n"
          ]
        },
        {
          "name": "stderr",
          "output_type": "stream",
          "text": [
            "100%|██████████| 1563/1563 [00:12<00:00, 128.87it/s]\n"
          ]
        },
        {
          "name": "stdout",
          "output_type": "stream",
          "text": [
            "Epoch 15: train loss = 0.024 (acc: 0.762), validation loss = 0.028 (acc: 0.703)\n"
          ]
        },
        {
          "name": "stderr",
          "output_type": "stream",
          "text": [
            "100%|██████████| 1563/1563 [00:12<00:00, 128.94it/s]\n"
          ]
        },
        {
          "name": "stdout",
          "output_type": "stream",
          "text": [
            "Epoch 16: train loss = 0.023 (acc: 0.758), validation loss = 0.028 (acc: 0.697)\n"
          ]
        },
        {
          "name": "stderr",
          "output_type": "stream",
          "text": [
            "100%|██████████| 1563/1563 [00:11<00:00, 130.83it/s]\n",
            "100%|██████████| 1563/1563 [00:11<00:00, 131.18it/s]\n"
          ]
        },
        {
          "name": "stdout",
          "output_type": "stream",
          "text": [
            "Epoch 18: train loss = 0.023 (acc: 0.763), validation loss = 0.028 (acc: 0.698)\n"
          ]
        },
        {
          "name": "stderr",
          "output_type": "stream",
          "text": [
            "100%|██████████| 1563/1563 [00:11<00:00, 132.96it/s]\n"
          ]
        },
        {
          "name": "stdout",
          "output_type": "stream",
          "text": [
            "Epoch 19: train loss = 0.022 (acc: 0.774), validation loss = 0.028 (acc: 0.701)\n"
          ]
        },
        {
          "name": "stderr",
          "output_type": "stream",
          "text": [
            "100%|██████████| 1563/1563 [00:12<00:00, 129.50it/s]\n"
          ]
        },
        {
          "name": "stdout",
          "output_type": "stream",
          "text": [
            "Epoch 20: train loss = 0.022 (acc: 0.773), validation loss = 0.027 (acc: 0.706)\n"
          ]
        },
        {
          "name": "stderr",
          "output_type": "stream",
          "text": [
            "100%|██████████| 1563/1563 [00:11<00:00, 132.45it/s]\n",
            "100%|██████████| 1563/1563 [00:11<00:00, 131.49it/s]\n",
            "100%|██████████| 1563/1563 [00:16<00:00, 97.19it/s] \n",
            "100%|██████████| 1563/1563 [00:14<00:00, 106.17it/s]\n"
          ]
        }
      ],
      "source": [
        "model = SkipBlockCNN([16, 32, 64], labels=10)\n",
        "\n",
        "train_ds = torchvision.datasets.CIFAR10(\n",
        "    \"cifar_root\", transform=transforms.Compose([transforms.ToTensor()]), download=True\n",
        ")\n",
        "train_dl = DataLoader(\n",
        "    train_ds, batch_size=32, shuffle=True, pin_memory=True\n",
        ")\n",
        "\n",
        "model = ThreeLayerCNN(32, 10).cuda()\n",
        "optimiser = optim.Adam(model.parameters())\n",
        "loss_fn = nn.CrossEntropyLoss()\n",
        "\n",
        "skip_train_losses, skip_train_accs, skip_val_losses, skip_val_accs = fit(\n",
        "    model,\n",
        "    optimiser,\n",
        "    loss_fn,\n",
        "    train_dl,\n",
        "    test_dl,\n",
        "    epochs=50,\n",
        "    print_metrics=True,\n",
        ")\n",
        "\n",
        "model.eval()\n",
        "with torch.no_grad():\n",
        "    _, val_acc = validate(model, loss_fn, test_dl)"
      ]
    },
    {
      "cell_type": "code",
      "execution_count": null,
      "metadata": {
        "colab": {
          "base_uri": "https://localhost:8080/"
        },
        "id": "pqxDLdstkpjB",
        "outputId": "35d79497-2a04-4e67-ce66-05a6a6a281c9"
      },
      "outputs": [
        {
          "name": "stdout",
          "output_type": "stream",
          "text": [
            "SkipBlock strategy (accuracy: 0.695)\n"
          ]
        }
      ],
      "source": [
        "print(f\"SkipBlock strategy (accuracy: {val_acc:.3f})\")"
      ]
    },
    {
      "cell_type": "code",
      "execution_count": 41,
      "metadata": {
        "id": "FvkLl_xe5KJf"
      },
      "outputs": [],
      "source": [
        "def plot_scores(scores_list: list[tuple[list[torch.Tensor], str]]):\n",
        "    plt.figure(figsize=(10, 6))\n",
        "    lines = []\n",
        "    for score, label in scores_list:\n",
        "        (line,) = plt.plot([tensor.cpu() for tensor in score], label=label)\n",
        "        lines.append(line)\n",
        "    plt.title(\"accuracy\")\n",
        "    plt.xlabel(\"Epoch\")\n",
        "    plt.ylabel(\"score\")\n",
        "    plt.legend(lines, [l.get_label() for l in lines], loc=\"best\")\n",
        "    plt.show()"
      ]
    },
    {
      "cell_type": "code",
      "execution_count": 42,
      "metadata": {
        "colab": {
          "base_uri": "https://localhost:8080/",
          "height": 564
        },
        "id": "EjhD_s_G3MJa",
        "outputId": "9a643512-5b73-451b-92f8-02edc226e103"
      },
      "outputs": [
        {
          "data": {
            "image/png": "[encoded data removed]",
            "text/plain": [
              "<Figure size 1000x600 with 1 Axes>"
            ]
          },
          "metadata": {},
          "output_type": "display_data"
        }
      ],
      "source": [
        "scores_final = [(results[0][4], results[0][0]), (results[1][4], results[1][0]),(results[2][4], results[2][0]),(results[3][4], results[3][0]),(results[4][4], results[4][0])]\n",
        "\n",
        "plot_scores(scores_final)"
      ]
    },
    {
      "cell_type": "code",
      "execution_count": 43,
      "metadata": {
        "colab": {
          "base_uri": "https://localhost:8080/",
          "height": 564
        },
        "id": "L53Bel7PnRNK",
        "outputId": "3a2330e9-77a4-4df4-bb0d-d4afc5fab4ae"
      },
      "outputs": [
        {
          "data": {
            "image/png": "[encoded data removed]",
            "text/plain": [
              "<Figure size 1000x600 with 1 Axes>"
            ]
          },
          "metadata": {},
          "output_type": "display_data"
        }
      ],
      "source": [
        "scores_final = [(mixin_val_accs, \"mixin\"), (skip_val_accs, \"SkipBlockCNN\"), (results[0][4], \"No augmentation\")]\n",
        "\n",
        "plot_scores(scores_final)"
      ]
    }
  ],
  "metadata": {
    "accelerator": "GPU",
    "colab": {
      "provenance": [],
      "toc_visible": true
    },
    "kernelspec": {
      "display_name": "Python 3",
      "name": "python3"
    },
    "language_info": {
      "codemirror_mode": {
        "name": "ipython",
        "version": 3
      },
      "file_extension": ".py",
      "mimetype": "text/x-python",
      "name": "python",
      "nbconvert_exporter": "python",
      "pygments_lexer": "ipython3",
      "version": "3.11.3"
    }
  },
  "nbformat": 4,
  "nbformat_minor": 0
}
