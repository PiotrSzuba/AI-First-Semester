{
 "cells": [
  {
   "cell_type": "markdown",
   "metadata": {
    "id": "l1koAEgYAJr-"
   },
   "source": [
    "# Wstęp\n",
    "\n",
    "Na poprzednich zajęciach nauczyłeś(aś) się jak skonstruować od zera podstawową komórkę sieci neuronowej - Perceptron. Na tych zajęciach przejdziemy już do wykorzystywania bardziej zaawansowanych funkcji PyTorcha, które przydają się na codzień do konstruowania sieci neuronowych.\n",
    "\n",
    "## Cel ćwiczenia\n",
    "\n",
    "Celem ćwiczenia jest zapoznanie z podstawowymi funkcjami biblioteki PyTorch do tworzenia i uczenia sieci neuronowych a w szczególności z:\n",
    "*   Automatycznym liczeniem gradientów i grafem obliczeniowym (autograd)\n",
    "*   Algorytmami off-line, on-line a także pojęciem mini-batch\n",
    "*   Algorytmami optymalizacji sieci neuronowych\n",
    "*   Liczeniem wartości fuknkcji straty\n",
    "*   Przekształceniami nieliniowymi\n",
    "*   Modułem `torch.nn`\n",
    "\n",
    "## Warunki zaliczenia\n",
    "\n",
    "W celu zaliczenia ćwiczeń należy uzupełnić wszystkie brakujące elementu kodu, wykonać wszystkie polecenia i wyuczyć model.\n"
   ]
  },
  {
   "cell_type": "code",
   "execution_count": 38,
   "metadata": {
    "colab": {
     "base_uri": "https://localhost:8080/"
    },
    "id": "kUJ1zQQXs7ip",
    "outputId": "44f47a42-876a-461d-b8f6-cfd043fde60c",
    "vscode": {
     "languageId": "python"
    }
   },
   "outputs": [
    {
     "data": {
      "text/plain": [
       "<torch._C.Generator at 0x7efed0602b90>"
      ]
     },
     "execution_count": 38,
     "metadata": {},
     "output_type": "execute_result"
    }
   ],
   "source": [
    "import math\n",
    "import warnings\n",
    "from typing import Tuple\n",
    "\n",
    "import torch\n",
    "import torch.nn.functional as F\n",
    "from sklearn.model_selection import train_test_split\n",
    "from sklearn.datasets import load_iris\n",
    "from torch import nn\n",
    "from torch import optim\n",
    "from torch.utils.data import TensorDataset, DataLoader, random_split\n",
    "\n",
    "assert torch.cuda.is_available(), \"Uruchom środowisko wykonawcze na GPU\"\n",
    "\n",
    "torch.manual_seed(123)"
   ]
  },
  {
   "cell_type": "markdown",
   "metadata": {
    "id": "er1hgYZsm5-6"
   },
   "source": [
    "# Autograd - automatyczne liczenie gradientów\n",
    "\n",
    "Na poprzednich laboratoriach implementowałeś(aś) funkcję wstecznej propagacji. W tym celu liczyłaś(eś) pochodne (gradienty). Przyjrzyjmy się najpierw funkcji\n",
    "$$f(x, y) = 3x^2 + y^3$$\n",
    "Możemy tę funkcję różniczkować po dwóch zmiennych: $x$ i $y$:\n",
    "$$\\frac{\\partial f}{\\partial x} = 6x$$\n",
    "\n",
    "$$\\frac{\\partial f}{\\partial y} = 3y^2$$\n",
    "\n",
    "Jeżeli funkcję $f(x,y)$ złożymy z funkcją $g(x) = x^2$ tworząc funkcję $h(x, y) = f(g(x), y)$ to z **reguły łańcuchowej** pochodna takiej funkcji wyniesie:\n",
    "\n",
    "$$\\frac{\\partial h}{\\partial x} = \\frac{\\partial f}{\\partial g} \\frac{\\partial g}{\\partial x} = (6 (x^2)) (2 x) = 12 x^3$$\n",
    "\n",
    "Tego typu obliczenia przy wielu warstwach sieci (a więc przy wielu złożeniach funkcji liniowych i nieliniowych) stają się mocno skomplikowane. Na szczęście PyToch dostarcza `torch.autograd` - silnik do zaumatyzowanego liczenia gradientów. Jak on działa? Najpierw zdefiniujmy wektory $\\mathbf x$ i $\\mathbf y$."
   ]
  },
  {
   "cell_type": "code",
   "execution_count": 3,
   "metadata": {
    "id": "SRkbe7sPm5dL",
    "vscode": {
     "languageId": "python"
    }
   },
   "outputs": [],
   "source": [
    "x = torch.tensor([0.0, 1.0, 5.0], requires_grad=True)\n",
    "y = torch.tensor([8.0, 2.0, 4.0], requires_grad=True)"
   ]
  },
  {
   "cell_type": "markdown",
   "metadata": {
    "id": "Z6L2Lx63vTOn"
   },
   "source": [
    "Zauważ, że tworząc tensor przekazaliśmy parametr `requires_grad=True`. Sprawia on, że wszystkie operacje dokonane na tym tensorze są śledzone i tensor wynikowy będzie \"pamiętał\" przy użyciu jakiej operacji powstał. Policzmy naszą funkcję $f( \\mathbf x, \\mathbf y)$ dla tych tensorów."
   ]
  },
  {
   "cell_type": "code",
   "execution_count": 4,
   "metadata": {
    "colab": {
     "base_uri": "https://localhost:8080/"
    },
    "id": "_FE9yAWMvR4Q",
    "outputId": "00c357fc-74ba-41c0-d818-d2e0be072964",
    "vscode": {
     "languageId": "python"
    }
   },
   "outputs": [
    {
     "data": {
      "text/plain": [
       "tensor([512.,  11., 139.], grad_fn=<AddBackward0>)"
      ]
     },
     "execution_count": 4,
     "metadata": {},
     "output_type": "execute_result"
    }
   ],
   "source": [
    "z = 3 * x**2 + y**3\n",
    "z"
   ]
  },
  {
   "cell_type": "markdown",
   "metadata": {
    "id": "C4aNNpt8xqpk"
   },
   "source": [
    "Jak widać uzyskany tensor ma także zapisany parametr `grad_fn=<AddBackward0>`, czyli że powstał z dodania dwóch tensorów - dodawanie jest ostatnią operacją, która zostałą wykonana, żeby otrzymać ten tensor. Dokonajmy propagacji wstecznej w celu policzenia gradientów.\n"
   ]
  },
  {
   "cell_type": "code",
   "execution_count": 5,
   "metadata": {
    "colab": {
     "base_uri": "https://localhost:8080/"
    },
    "id": "b1_vOt2yxqHb",
    "outputId": "c724928b-3fe9-4a02-ce8b-485c894019e7",
    "vscode": {
     "languageId": "python"
    }
   },
   "outputs": [
    {
     "name": "stdout",
     "output_type": "stream",
     "text": [
      "tensor([True, True, True])\n",
      "tensor([True, True, True])\n"
     ]
    }
   ],
   "source": [
    "grad_tensors = torch.tensor([1.0, 1.0, 1.0])\n",
    "z.backward(grad_tensors)\n",
    "print(x.grad == 6 * x)\n",
    "print(y.grad == 3 * y**2)"
   ]
  },
  {
   "cell_type": "markdown",
   "metadata": {
    "id": "kqqmScaJQoZ3"
   },
   "source": [
    "Na razie nie przejmuj się tym za co odpowiada `grad_tensors`. Policzmy wartość funkcji $h$.\n",
    "\n"
   ]
  },
  {
   "cell_type": "code",
   "execution_count": 6,
   "metadata": {
    "colab": {
     "base_uri": "https://localhost:8080/"
    },
    "id": "8OtdWj0Y7XGa",
    "outputId": "905640e4-ba6f-427e-b5ee-b2aa9600f4fd",
    "vscode": {
     "languageId": "python"
    }
   },
   "outputs": [
    {
     "name": "stdout",
     "output_type": "stream",
     "text": [
      "tensor([   0.,   18., 1530.])\n",
      "tensor([   0.,   12., 1500.], grad_fn=<MulBackward0>)\n",
      "tensor([ True, False, False])\n"
     ]
    }
   ],
   "source": [
    "a = 3 * (x**2) ** 2 + y**3\n",
    "a.backward(grad_tensors)\n",
    "print(x.grad)\n",
    "print(12 * (x**3))\n",
    "print(x.grad == 12 * (x**3))"
   ]
  },
  {
   "cell_type": "markdown",
   "metadata": {
    "id": "tgIDyhN4RanY"
   },
   "source": [
    "Nie zgadzają nam się wartości. Wynika to z kolejnej właśności pytorchowego autograda - gradienty w tensorach są **akumulowane**. Jak wykonasz powyższą komórkę wielekrotnie to zobaczysz że wartości `x.grad` rosną dokładnie o $12x_i^3$ po każdym wykonaniu. Akumulacja gradientów jest przydatna w niektórych architekturach sieci neuronowych. Dlatego też trzeba *explicite* wyzerować gradienty."
   ]
  },
  {
   "cell_type": "code",
   "execution_count": 7,
   "metadata": {
    "colab": {
     "base_uri": "https://localhost:8080/"
    },
    "id": "83kl2IWHO491",
    "outputId": "96ffbdde-9c4a-4ed2-8266-bc5da3f345bc",
    "vscode": {
     "languageId": "python"
    }
   },
   "outputs": [
    {
     "name": "stdout",
     "output_type": "stream",
     "text": [
      "tensor([   0.,   12., 1500.])\n",
      "tensor([   0.,   12., 1500.], grad_fn=<MulBackward0>)\n"
     ]
    }
   ],
   "source": [
    "x.grad.data.zero_()\n",
    "a = 3 * (x**2) ** 2 + y**3\n",
    "a.backward(grad_tensors)\n",
    "print(x.grad)\n",
    "print(12 * (x**3))\n",
    "assert (x.grad == 12 * (x**3)).all()"
   ]
  },
  {
   "cell_type": "markdown",
   "metadata": {
    "id": "nZ4DG0kmaTzl"
   },
   "source": [
    "Ok, powróćmy teraz do `grad_tensors` - co to jest? Otóż autograd jest silnikiem, który służy do wyliczania **macierzy Jacobiego**, tj. pochodnych pierwszego rzędu funkcji, których składowymi są funkcje rzeczywiste.\n",
    "\n",
    "$$f = (f_1, f_2, \\ldots, f_m)$$\n",
    "$$\\mathbf x = (x_1, x_2, \\ldots, x_n)$$\n",
    "\n",
    "$$\\mathbf J = \\begin{bmatrix}\n",
    " \\dfrac{\\partial f_1}{\\partial x_1} & \\cdots & \\dfrac{\\partial f_1}{\\partial x_n} \\\\\n",
    " \\vdots & \\ddots & \\vdots \\\\\n",
    " \\dfrac{\\partial f_m}{\\partial x_1} & \\cdots & \\dfrac{\\partial f_m}{\\partial x_n}\n",
    "\\end{bmatrix}$$\n",
    "\n",
    "Konkretnie patrząc na przykład z tensorem $a$ macierz Jacobiego wygląda tak:\n",
    "$$\\mathbf J_a = \\begin{bmatrix}\n",
    " \\dfrac{\\partial a_1}{\\partial x_1} & \\dfrac{\\partial a_1}{\\partial x_2} & \\dfrac{\\partial a_1}{\\partial x_3} \\\\\n",
    "  \\dfrac{\\partial a_2}{\\partial x_1} & \\dfrac{\\partial a_2}{\\partial x_2} & \\dfrac{\\partial a_2}{\\partial x_3} \\\\\n",
    "   \\dfrac{\\partial a_3}{\\partial x_1} & \\dfrac{\\partial a_3}{\\partial x_2} & \\dfrac{\\partial a_3}{\\partial x_3} \\\\\n",
    "\\end{bmatrix}$$\n",
    "\n",
    "Następnie `grad_tensors` ($\\mathbf z$) mnożymy przez transpozycję tej macierzy (ang. *Jacobian-vector product*).\n",
    "\n",
    "$$\\mathbf z \\mathbf{J}_a^T = \\begin{bmatrix} 1 & 1 & 1 \\end{bmatrix}\n",
    "\n",
    "\\begin{bmatrix}\n",
    " \\dfrac{\\partial a_1}{\\partial x_1} & \\dfrac{\\partial a_2}{\\partial x_1} & \\dfrac{\\partial a_3}{\\partial x_1} \\\\\n",
    "  \\dfrac{\\partial a_1}{\\partial x_2} & \\dfrac{\\partial a_2}{\\partial x_2} & \\dfrac{\\partial a_3}{\\partial x_2} \\\\\n",
    "   \\dfrac{\\partial a_1}{\\partial x_3} & \\dfrac{\\partial a_2}{\\partial x_3} & \\dfrac{\\partial a_3}{\\partial x_3} \\\\\n",
    "\\end{bmatrix}\n",
    "\n",
    "= \\begin{bmatrix} 1\\dfrac{\\partial a_1}{\\partial x_1} + 1\\dfrac{\\partial a_1}{\\partial x_2} + 1\\dfrac{\\partial a_1}{\\partial x_3} & 1\\dfrac{\\partial a_2}{\\partial x_1} + 1\\dfrac{\\partial a_2}{\\partial x_2} + 1\\dfrac{\\partial a_2}{\\partial x_3} & 1\\dfrac{\\partial a_3}{\\partial x_1} + 1\\dfrac{\\partial a_3}{\\partial x_2} + 1\\dfrac{\\partial a_3}{\\partial x_3} \\end{bmatrix}\n",
    "\n",
    "= \\begin{bmatrix} 12(0)^3 + 0 + 0 & 0 + 12(1)^3 + 0 & 0 + 0 + 12(5)^3 \\end{bmatrix} =  \\begin{bmatrix} 0 & 12 & 1500 \\end{bmatrix}$$\n",
    "\n",
    "Uzyskujemy te same gradienty co policzyliśmy dla wektora $\\mathbf x$. Zamiast przekazywać wektor jedynek do `backward()`, można najpierw policzyć sumę wektora $\\mathbf a$ a potem wykonać propagację wsteczną."
   ]
  },
  {
   "cell_type": "code",
   "execution_count": 8,
   "metadata": {
    "colab": {
     "base_uri": "https://localhost:8080/"
    },
    "id": "PVcNdrQKo0d0",
    "outputId": "07e03d27-6602-493b-bee9-7176f7ec6334",
    "vscode": {
     "languageId": "python"
    }
   },
   "outputs": [
    {
     "name": "stdout",
     "output_type": "stream",
     "text": [
      "tensor([   0.,   12., 1500.])\n",
      "tensor([   0.,   12., 1500.], grad_fn=<MulBackward0>)\n"
     ]
    }
   ],
   "source": [
    "x.grad.data.zero_()\n",
    "a = 3 * (x**2) ** 2 + y**3\n",
    "a.sum().backward()\n",
    "print(x.grad)\n",
    "print(12 * (x**3))\n",
    "assert (x.grad == 12 * (x**3)).all()"
   ]
  },
  {
   "cell_type": "markdown",
   "metadata": {
    "id": "ZpK5aW-CrKxP"
   },
   "source": [
    "Wtedy pamiętając o tym, że pochodna sumy to suma pochodnych ($(f(x) + g(x))' = f'(x) + g'(x)$):\n",
    "\n",
    "$$\\begin{bmatrix}\n",
    " \\dfrac{\\partial a}{\\partial x_1} & \\dfrac{\\partial a}{\\partial x_2} & \\dfrac{\\partial a}{\\partial x_3}\n",
    "\\end{bmatrix} = \\begin{bmatrix} \\dfrac{\\partial (a_1 + a_2 + a_3)}{\\partial x_1} & \\dfrac{\\partial (a_1 + a_2 + a_3)}{\\partial x_2} & \\dfrac{\\partial (a_1 + a_2 + a_3)}{\\partial x_3} \\end{bmatrix} = \\begin{bmatrix} \\dfrac{\\partial a_1}{\\partial x_1} + \\dfrac{\\partial a_2}{\\partial x_1} + \\dfrac{\\partial a_3}{\\partial x_1} & \\dfrac{\\partial a_1}{\\partial x_2} + \\dfrac{\\partial a_2}{\\partial x_2} + \\dfrac{\\partial a_3}{\\partial x_2} & \\dfrac{\\partial a_1}{\\partial x_3} + \\dfrac{\\partial a_2}{\\partial x_3} + \\dfrac{\\partial a_3}{\\partial x_3} \\end{bmatrix} = \\begin{bmatrix} \\dfrac{\\partial a_1}{\\partial x_1} & \\dfrac{\\partial a_2}{\\partial x_2} & \\dfrac{\\partial a_3}{\\partial x_3} \\end{bmatrix} =  \\begin{bmatrix} 0 & 12 & 1500 \\end{bmatrix} $$\n",
    "\n",
    "Zatem po co w ogóle ten wektor? Otóż służy on do przekazywania wektora gradientu funkcji straty ($\\dfrac{\\partial \\mathbf{loss}}{\\partial \\mathbf w}$). Dzięki temu możemy mieć wpływ na to jaką poprawkę trzeba wykonać na danym wektorze (np. z parametrami modelu) względem tego jak bardzo mocno model pomylił się na danych uczących."
   ]
  },
  {
   "cell_type": "code",
   "execution_count": 9,
   "metadata": {
    "colab": {
     "base_uri": "https://localhost:8080/"
    },
    "id": "jPnhVtQ2wIpy",
    "outputId": "91a69ba8-99f2-4e8e-d74f-0ccf8ce628bf",
    "vscode": {
     "languageId": "python"
    }
   },
   "outputs": [
    {
     "name": "stdout",
     "output_type": "stream",
     "text": [
      "tensor([   0.0000,    3.6000, -600.0001])\n",
      "tensor([   0.,   12., 1500.], grad_fn=<MulBackward0>)\n"
     ]
    }
   ],
   "source": [
    "x.grad.data.zero_()\n",
    "a = 3 * (x**2) ** 2 + y**3\n",
    "a.backward(torch.tensor([0.0, 0.3, -0.4]))\n",
    "print(x.grad)\n",
    "print(12 * (x**3))"
   ]
  },
  {
   "cell_type": "markdown",
   "metadata": {
    "id": "2nRcH7fZx-m9"
   },
   "source": [
    "## Graf obliczeniowy\n",
    "\n",
    "To wszystko jest możliwe dzięki temu, że autograd tworzy **acykliczny skierowany graf obilczeniowy**. Gdzie go przechowuje? Spójrzmy jeszcze raz na nasz wektor $\\mathbf a$."
   ]
  },
  {
   "cell_type": "code",
   "execution_count": 10,
   "metadata": {
    "colab": {
     "base_uri": "https://localhost:8080/"
    },
    "id": "req-qWXFx-Po",
    "outputId": "189bf81a-e8d5-41d4-a7ac-6ab4f88b69ed",
    "vscode": {
     "languageId": "python"
    }
   },
   "outputs": [
    {
     "name": "stdout",
     "output_type": "stream",
     "text": [
      "tensor([ 512.,   11., 1939.], grad_fn=<AddBackward0>)\n",
      "((<MulBackward0 object at 0x7efeea0fe880>, 0), (<PowBackward0 object at 0x7efeea0fe760>, 0))\n"
     ]
    }
   ],
   "source": [
    "print(a)\n",
    "print(a.grad_fn.next_functions)"
   ]
  },
  {
   "cell_type": "markdown",
   "metadata": {
    "id": "vWUeVJI4tC0y"
   },
   "source": [
    "Obiekt a ma pole `grad_fn` a ono ma pole `next_functions`. Widzimy, że $\\mathbf a$ powstało z przemnożenia dwóch tensorów, gdzie pierwszy tensor był wynikiem mnożenia a drugi - potęgowania. A więc na razie wiemy, że `a = (_*_) + (_**_)`. I kolejno przechodząc po tym grafie możemy dalej odkrywać jego strukturę i jaka droga skonstruowania $\\mathbf a$ się za nim kryje."
   ]
  },
  {
   "cell_type": "code",
   "execution_count": 11,
   "metadata": {
    "colab": {
     "base_uri": "https://localhost:8080/"
    },
    "id": "iG7ewXOpuBg9",
    "outputId": "c21b06b7-493d-49f3-b56f-dbfbbbec99c0",
    "vscode": {
     "languageId": "python"
    }
   },
   "outputs": [
    {
     "name": "stdout",
     "output_type": "stream",
     "text": [
      "((<PowBackward0 object at 0x7efe46970e20>, 0), (None, 0))\n",
      "((<PowBackward0 object at 0x7efe46970820>, 0),)\n",
      "((<AccumulateGrad object at 0x7efe46970e20>, 0),)\n",
      "\n",
      "((<AccumulateGrad object at 0x7efeea1527f0>, 0),)\n"
     ]
    }
   ],
   "source": [
    "print(a.grad_fn.next_functions[0][0].next_functions)  # a = ((_**_))*_) + (_**_)\n",
    "print(\n",
    "    a.grad_fn.next_functions[0][0].next_functions[0][0].next_functions\n",
    ")  # a = (((_**_))**_))*_) + (_**_)\n",
    "print(\n",
    "    a.grad_fn.next_functions[0][0]\n",
    "    .next_functions[0][0]\n",
    "    .next_functions[0][0]\n",
    "    .next_functions\n",
    ")  # a = (((x**_))**_))*_) + (_**_)\n",
    "print()\n",
    "print(a.grad_fn.next_functions[1][0].next_functions)  # a = (((x**_))**_))*_) + (y**_)"
   ]
  },
  {
   "cell_type": "markdown",
   "metadata": {
    "id": "O9AcjeSWwe2C"
   },
   "source": [
    "Po chwilii analizy można dostrzec że ta strutura odpowiada obliczeniu tensora $a$ ze wzoru $3(\\mathbf x^2)^2 + \\mathbf y^3$.\n",
    "\n",
    "Jeszcze warto wspomnieć o tym, że PyTorch śledzi to dla których tensorów trzeba tworzyć ten graf a dla których nie. Dlatego też jeżeli w operacjach użyjemy tensora, który \"wymaga gradientu\" (`requires_grad=True`) to uzyskamy tensor \"wymagający gradientu\":"
   ]
  },
  {
   "cell_type": "code",
   "execution_count": 12,
   "metadata": {
    "colab": {
     "base_uri": "https://localhost:8080/"
    },
    "id": "OsVXVIt0xgmH",
    "outputId": "f06c3e6b-aa2e-4803-ee7c-581c0f68b2ef",
    "vscode": {
     "languageId": "python"
    }
   },
   "outputs": [
    {
     "name": "stdout",
     "output_type": "stream",
     "text": [
      "False\n",
      "True\n"
     ]
    }
   ],
   "source": [
    "x = torch.tensor([1.0, 2.0, 3.0])\n",
    "y = torch.tensor([6.0, 7.0, 8.0])\n",
    "z = torch.tensor([9.0, 7.0, 8.0], requires_grad=True)\n",
    "print((2 * x + 3**y).requires_grad)\n",
    "print((2 * x + 3**y + z).requires_grad)"
   ]
  },
  {
   "cell_type": "markdown",
   "metadata": {
    "id": "F31LTMdi2ZTe"
   },
   "source": [
    "# Refatoring kodu z laboratorium 2\n",
    "\n",
    "W tej części laboratorium dokonasz refaktoringu kodu z laboratorium drugiego z wykorzystaniem gotowych rozwiązań w bibliotece `torch` a w szczególności w `torch.nn`. Najpierw zacznijmy od załadowania zbioru danych i podzielenia go na zbiór uczący i testowy."
   ]
  },
  {
   "cell_type": "code",
   "execution_count": 13,
   "metadata": {
    "colab": {
     "base_uri": "https://localhost:8080/"
    },
    "id": "U9wlFq0z2y-R",
    "outputId": "44486186-0d75-4ceb-b7d7-9c685fb3f4bf",
    "vscode": {
     "languageId": "python"
    }
   },
   "outputs": [
    {
     "data": {
      "text/plain": [
       "tensor([0, 2, 0, 1, 2, 1, 1, 2, 2, 0, 2, 0, 2, 2, 1, 1, 2, 1, 2, 1, 0, 0, 2, 0,\n",
       "        1, 1, 2, 0, 2, 0, 0, 1, 1, 2, 2, 0, 0, 0, 0, 2, 1, 2, 0, 0, 2, 2, 1, 0,\n",
       "        0, 1, 2, 1, 1, 1, 2, 1, 0, 0, 1, 1], device='cuda:0')"
      ]
     },
     "execution_count": 13,
     "metadata": {},
     "output_type": "execute_result"
    }
   ],
   "source": [
    "X, y = load_iris(return_X_y=True)\n",
    "\n",
    "X_train, X_test, y_train, y_test = train_test_split(\n",
    "    X, y, test_size=0.4, random_state=1, stratify=y\n",
    ")\n",
    "\n",
    "X_train = torch.tensor(X_train).float().cuda()\n",
    "X_test = torch.tensor(X_test).float().cuda()\n",
    "y_train = torch.tensor(y_train).cuda()\n",
    "y_test = torch.tensor(y_test).cuda()\n",
    "\n",
    "y_test"
   ]
  },
  {
   "cell_type": "markdown",
   "metadata": {
    "id": "I7l1l8oi5xIM"
   },
   "source": [
    "## `nn.Module` oraz `CrossEntropyLoss`\n",
    "\n",
    "Na poprzednich laboratoriach w tym miejscu implementowaliśmy funkcję sigmoid, inicjalizację parametrów oraz propagację w przód i wsteczną. Tym razem nie będzie trzeba tego robić, jednakże zdefiniujesz architekturę sieci przy użyciu modułu `torch.nn`.\n",
    "\n",
    "***Zaimplementuj*** klasę Perceptron - klasę dziedziczącą po `nn.Module` z jedną warstwą transformacji liniowej (Perceptrona, [`torch.nn.Linear`](https://pytorch.org/docs/stable/generated/torch.nn.Linear.html)). Na razie ***pomiń*** transformację nieliniową (np. sigmoid). \n",
    "\n"
   ]
  },
  {
   "cell_type": "code",
   "execution_count": 14,
   "metadata": {
    "id": "x3puwuoU_pt_",
    "vscode": {
     "languageId": "python"
    }
   },
   "outputs": [],
   "source": [
    "class Perceptron(nn.Module):\n",
    "    def __init__(self, input_size, output_size):\n",
    "        super().__init__()\n",
    "        self.net = nn.Linear(input_size, output_size)\n",
    "\n",
    "    def forward(self, x: torch.Tensor):\n",
    "        return self.net(x)"
   ]
  },
  {
   "cell_type": "markdown",
   "metadata": {
    "id": "rY0OAVWM8DF6"
   },
   "source": [
    "Wspominmy tylko, że można nadal używać `torch.nn` i nie wykorzystywać gotowych warstw sieci tylko samemu implementować operacje na tensorach:\n",
    "\n",
    "```\n",
    "class Perceptron(nn.Module):\n",
    "    def __init__(self, in_dim: int, out_dim: int):\n",
    "        super().__init__()\n",
    "        self.weights = nn.Parameter(\n",
    "          torch.randn(in_dim, out_dim) / math.sqrt(in_dim)\n",
    "        )\n",
    "        self.bias = nn.Parameter(torch.zeros(out_dim))\n",
    "\n",
    "    def forward(self, xb: torch.Tensor):\n",
    "        return xb @ self.weights + self.bias\n",
    "```\n",
    "***Przetestuj*** poprawność swojej implementacji."
   ]
  },
  {
   "cell_type": "code",
   "execution_count": 15,
   "metadata": {
    "colab": {
     "base_uri": "https://localhost:8080/"
    },
    "id": "g3OrIHg-82v5",
    "outputId": "65e1e4bd-b19d-41db-cff6-81c84f96d1e7",
    "vscode": {
     "languageId": "python"
    }
   },
   "outputs": [
    {
     "name": "stdout",
     "output_type": "stream",
     "text": [
      "tensor([-1.1048, -2.5201, -4.1726], device='cuda:0', grad_fn=<AddBackward0>)\n"
     ]
    }
   ],
   "source": [
    "input_size = X_train.shape[1]\n",
    "output_size = len(torch.unique(y_train))\n",
    "\n",
    "model = Perceptron(input_size, output_size).cuda()\n",
    "y_pred_0 = model(X_train[0])\n",
    "print(y_pred_0)\n",
    "\n",
    "assert isinstance(y_pred_0, torch.cuda.FloatTensor)\n",
    "assert len(y_pred_0) == 3"
   ]
  },
  {
   "cell_type": "markdown",
   "metadata": {
    "id": "sdodFGsV_EMR"
   },
   "source": [
    "Wykorzystanie `nn.Linear` nie tylko odciążyło nas z implementacji operacji na tensorasch, ale także z inicjalizacji paprametrów modelu - inicjalizacja parametrów jest domyślnie implementowana przez daną wartstwę. Jeżeli uruchomisz powyższy kod wielokrotnie to zauważysz, że za każdym razem otrzymujesz inny tensor wyjściowy. Wynika to z tego, że początkowe parametry modelu są domyślnie **losowane**. Oznacza to, że proces uczenia będzie **niedeterministryczny** - każde uruchomienie da inny wynik parametrów, które model się nauczy.\n",
    "\n",
    "Pozostało jeszcze dodanie nieliniowej transformacji do sieci, ale nie będziemy tego robić. Dodatkowo zamiast tworzyć osobny klasifikator na klasę, zastosujemy jeden klasyfikator. W tym celu zmieniemy funkcję kosztu. Do klasyfikacji wieloklasowej wykorzystamy funkcję **straty krzyżowej entropii**.\n",
    "\n",
    "$\\text{loss} = -\\frac{1}{N}\\sum_{i}^{N}\\log(\\text{softmax}(x_{i}){y_{i}}) $, gdzie $N$ oznacza liczbę przypadków, $x_{i}$ wyjście z ostatniej warstwy $i$-tej instancji, $y_{i}$ klasę $i$-tej instancji.\n",
    "\n",
    "**Softmax** jest przekstałceniem nielinowym powszechnie używanym jako ostatnia warstwa sieci neuronowej służącej do klasyfikacji. Jej mocną stroną jest to, że suma wszystkich elementów tensora będących na jej wyjściu wynosi $1$. Dzięki temu możemy wyjście sieci interpretować jako przypisanie pseudoprawdopodbieństwa dla klasyfikacji dla danej próbki.\n",
    "\n",
    "Dla danego wektora $\\mathbf x = (x_1, x_2, \\ldots, x_i, \\ldots, x_C)$ funkcja Softmax jest zdefiniowana jako:\n",
    "$\\text{Softmax}(x_{i}) = \\frac{\\exp(x_{i})}{\\sum_{j}^{C} \\exp(x_{j})}$, gdzie $C$ oznacza liczbę klas.\n",
    "\n",
    "W tym zadaniu nie będziemy implementować tych funkcji samemu tylko wykorzystamy gotową implementację w bibliotece torch. Implementację znajdziemy w [`torch.nn.CrossEntropyLoss`](https://pytorch.org/docs/stable/generated/torch.nn.CrossEntropyLoss.html). Przyjmuje ona \"surowe\" wartości, dlatego że oblicza również funkcję **LogSoftmax**. Alternatywnie możemy nałożyć funkcję aktywacji LogSoftmax z modułu [`torch.nn.LogSoftmax`](https://pytorch.org/docs/stable/generated/torch.nn.LogSoftmax.html) i obliczyć negatywny logarytm funkcji wiarygodności (ang. *negative log likelihood*) [`torch.nn.NLLLoss`](https://pytorch.org/docs/stable/generated/torch.nn.NLLLoss.html#torch.nn.NLLLoss). `torch.nn.NLLLoss` nie wykonuje operacji logarytmowania tylko oczekuje zlogarytmowanego wejścia.\n",
    "\n",
    "**LogSoftmax** wykorzystany jest tutaj nieprzypadkowo. Funkcja softmax w oryginalnej postaci nie jest odparna na wystąpienie niestabilności numerycznych. W przypadku liczenia entropii krzyżowej możemy wykorzystać skalę logarytmiczną do przeprowadzenia operacji. Dzięki przenesieniu obliczania logarytmu do funkcji Softmax możemy zastąpić dzielenie na różnicę logarytmów. czyli zamiast powyższej definicji funkcja LogSoftmax przyjmuję następującą postać:\n",
    "\n",
    "$\\text{LogSoftmax}(x_{i}) = x_{i} - log \\bigg({\\sum_{j}^{C} \\exp(x_{j})}\\bigg)$\n",
    "\n",
    "Dodatkowo stosowany jest także trik polegający na zastąpieniu operacji $log \\bigg({\\sum_{j}^{C} \\exp(x_{j})}\\bigg)$ operacją **LogSumExp**, zdefiniowaną jako\n",
    "\n",
    "$\\text{LogSumExp}(\\mathbf x) = \\max(\\mathbf x) + log \\bigg({\\sum_{j}^{C} \\exp(x_{j} - \\max(\\mathbf x))}\\bigg)$.\n",
    "\n",
    "Pozwala to pozbyć się dużych wartości $x_{j}$ podczas obliczania $\\exp$.\n",
    "\n"
   ]
  },
  {
   "cell_type": "markdown",
   "metadata": {
    "id": "S5hwoYUOMCE7"
   },
   "source": [
    "## Algorytmy online i offline (`DataLoader`)\n",
    "\n",
    "Na poprzednich zajęciach zaimplementowałaś(eś) **algorytm offline** (alternatywnie batchowy lub deterministyczny, ang. *offline*, *batch*, *deterministic*) tzn. taki, który przetwarza od razu wszystkie dane. Jednakże implementując sieci neuronowe tworzymy często algorytmy **online** (alternatywnie stochastyczne, ang. *online*, *stochastic*), które przetwarzają dane w \"kawałkach\" lub wręcz mogą dostawać je \"na bieżąco\" bez konieczności posiadania wszystkcih danych przed uruchomieniem algorytmu. Są różne powody, dla których tak się robi, ale najczęstrzy jest taki, że przy głębszych architektrurach i bardziej złożonych obiektach (np. obrazach) byłoby fizycznie nie możliwe pomieścić te wszystkie dane w pamięci RAM lub VRAM (RAM na GPU) wraz z parametrami modelu.\n",
    "\n",
    "Liczbę próbek w algorytmach stochastycznych w sieciach neuronowych określa się jako **minibatch size** lub po prostu **batch size**. Przy czym określenie *batch size* nie odnosi się tutaj do algorytmów batchowych (operujących na całym zbiorze danych), tylko do algorytmów online/minibatch. Po prostu *batch size* jest określeniem krótszym (ale mniej poprawnym) niż *minibatch size*, stąd też powszechnie używa się tego pierwszego. Z tego też powodu czasami niektórzy używają określenia *batch* na *minibatch* - warto mieć to na uwadze przy komunikowaniu się z innymi osobami.\n",
    "\n",
    "Do zaimplementowania minibatchy wykorzystamy [`torch.utils.data.DataLoader`](https://pytorch.org/docs/stable/data.html#torch.utils.data.DataLoader). ***Zaimplementuj*** funkcję `to_dataloader`, która `X_train` i `y_train` oraz `X_test` i `y_test` umieści w dwóch osobnych instancjach klasy `DataLoader` z wielkością minibatacha równą `batch_size`"
   ]
  },
  {
   "cell_type": "code",
   "execution_count": 16,
   "metadata": {
    "id": "ni_A2b6nQHTX",
    "vscode": {
     "languageId": "python"
    }
   },
   "outputs": [],
   "source": [
    "def to_dataloader(\n",
    "    X_train: torch.Tensor,\n",
    "    y_train: torch.Tensor,\n",
    "    X_test: torch.Tensor,\n",
    "    y_test: torch.Tensor,\n",
    "    batch_size: int = 32,\n",
    ") -> Tuple[DataLoader, DataLoader]:\n",
    "    train_ds = TensorDataset(X_train, y_train)\n",
    "    train_dl = DataLoader(train_ds, batch_size=batch_size, shuffle=True)\n",
    "\n",
    "    test_ds = TensorDataset(X_test, y_test)\n",
    "    test_dl = DataLoader(test_ds, batch_size=batch_size)\n",
    "\n",
    "    return train_dl, test_dl"
   ]
  },
  {
   "cell_type": "markdown",
   "metadata": {
    "id": "LaPQq3iKXPJ-"
   },
   "source": [
    "***Przetestuj*** implementację"
   ]
  },
  {
   "cell_type": "code",
   "execution_count": 17,
   "metadata": {
    "colab": {
     "base_uri": "https://localhost:8080/"
    },
    "id": "m6LRNS6sWWA2",
    "outputId": "5c81016e-4b84-42e3-d390-d8bd581970f2",
    "vscode": {
     "languageId": "python"
    }
   },
   "outputs": [
    {
     "name": "stdout",
     "output_type": "stream",
     "text": [
      "[tensor([[5.1000, 3.8000, 1.9000, 0.4000],\n",
      "        [7.4000, 2.8000, 6.1000, 1.9000],\n",
      "        [4.6000, 3.2000, 1.4000, 0.2000],\n",
      "        [6.4000, 2.9000, 4.3000, 1.3000],\n",
      "        [7.3000, 2.9000, 6.3000, 1.8000],\n",
      "        [7.0000, 3.2000, 4.7000, 1.4000],\n",
      "        [5.1000, 2.5000, 3.0000, 1.1000],\n",
      "        [7.2000, 3.2000, 6.0000, 1.8000],\n",
      "        [6.7000, 2.5000, 5.8000, 1.8000],\n",
      "        [5.0000, 3.4000, 1.5000, 0.2000],\n",
      "        [6.1000, 3.0000, 4.9000, 1.8000],\n",
      "        [5.1000, 3.5000, 1.4000, 0.2000],\n",
      "        [6.9000, 3.2000, 5.7000, 2.3000],\n",
      "        [6.2000, 3.4000, 5.4000, 2.3000],\n",
      "        [6.0000, 3.4000, 4.5000, 1.6000],\n",
      "        [6.1000, 3.0000, 4.6000, 1.4000],\n",
      "        [6.8000, 3.0000, 5.5000, 2.1000],\n",
      "        [6.8000, 2.8000, 4.8000, 1.4000],\n",
      "        [5.7000, 2.5000, 5.0000, 2.0000],\n",
      "        [6.2000, 2.2000, 4.5000, 1.5000],\n",
      "        [5.7000, 4.4000, 1.5000, 0.4000],\n",
      "        [5.0000, 3.5000, 1.6000, 0.6000],\n",
      "        [6.7000, 3.3000, 5.7000, 2.5000],\n",
      "        [4.4000, 2.9000, 1.4000, 0.2000],\n",
      "        [5.6000, 2.7000, 4.2000, 1.3000],\n",
      "        [6.6000, 3.0000, 4.4000, 1.4000],\n",
      "        [5.9000, 3.0000, 5.1000, 1.8000],\n",
      "        [5.4000, 3.9000, 1.7000, 0.4000],\n",
      "        [6.7000, 3.1000, 5.6000, 2.4000],\n",
      "        [4.9000, 3.0000, 1.4000, 0.2000],\n",
      "        [4.6000, 3.4000, 1.4000, 0.3000],\n",
      "        [5.7000, 2.8000, 4.1000, 1.3000]], device='cuda:0'), tensor([0, 2, 0, 1, 2, 1, 1, 2, 2, 0, 2, 0, 2, 2, 1, 1, 2, 1, 2, 1, 0, 0, 2, 0,\n",
      "        1, 1, 2, 0, 2, 0, 0, 1], device='cuda:0')]\n",
      "[tensor([[6.7000, 3.1000, 4.4000, 1.4000],\n",
      "        [6.5000, 3.0000, 5.5000, 1.8000],\n",
      "        [6.4000, 2.7000, 5.3000, 1.9000],\n",
      "        [4.8000, 3.4000, 1.6000, 0.2000],\n",
      "        [5.2000, 3.4000, 1.4000, 0.2000],\n",
      "        [5.4000, 3.4000, 1.7000, 0.2000],\n",
      "        [4.8000, 3.0000, 1.4000, 0.1000],\n",
      "        [6.5000, 3.0000, 5.2000, 2.0000],\n",
      "        [6.5000, 2.8000, 4.6000, 1.5000],\n",
      "        [7.1000, 3.0000, 5.9000, 2.1000],\n",
      "        [4.9000, 3.1000, 1.5000, 0.2000],\n",
      "        [5.4000, 3.9000, 1.3000, 0.4000],\n",
      "        [6.5000, 3.0000, 5.8000, 2.2000],\n",
      "        [4.9000, 2.5000, 4.5000, 1.7000],\n",
      "        [6.1000, 2.8000, 4.7000, 1.2000],\n",
      "        [4.9000, 3.1000, 1.5000, 0.1000],\n",
      "        [5.0000, 3.0000, 1.6000, 0.2000],\n",
      "        [4.9000, 2.4000, 3.3000, 1.0000],\n",
      "        [6.9000, 3.1000, 5.1000, 2.3000],\n",
      "        [5.5000, 2.3000, 4.0000, 1.3000],\n",
      "        [5.6000, 3.0000, 4.5000, 1.5000],\n",
      "        [6.3000, 3.3000, 4.7000, 1.6000],\n",
      "        [5.6000, 2.8000, 4.9000, 2.0000],\n",
      "        [5.4000, 3.0000, 4.5000, 1.5000],\n",
      "        [5.7000, 3.8000, 1.7000, 0.3000],\n",
      "        [4.9000, 3.6000, 1.4000, 0.1000],\n",
      "        [6.0000, 2.2000, 4.0000, 1.0000],\n",
      "        [6.1000, 2.8000, 4.0000, 1.3000]], device='cuda:0'), tensor([1, 2, 2, 0, 0, 0, 0, 2, 1, 2, 0, 0, 2, 2, 1, 0, 0, 1, 2, 1, 1, 1, 2, 1,\n",
      "        0, 0, 1, 1], device='cuda:0')]\n"
     ]
    }
   ],
   "source": [
    "train_loader, test_loader = to_dataloader(\n",
    "    X_train=X_train, y_train=y_train, X_test=X_test, y_test=y_test, batch_size=32\n",
    ")\n",
    "\n",
    "for sample in test_loader:\n",
    "    print(sample)"
   ]
  },
  {
   "cell_type": "markdown",
   "metadata": {
    "id": "B7yYkPUtxcaJ"
   },
   "source": [
    "## Ewaluacja modelu - metryki\n",
    "\n",
    "***Zaimplementuj*** funkcję `validate`, które dla danego modelu, funkcji straty i loadera zwróci średnią wartość funkcji straty oraz dokładność (ang. *accuracy*) dla danych z `dataloader`."
   ]
  },
  {
   "cell_type": "code",
   "execution_count": 18,
   "metadata": {
    "id": "5iCngT3Ctn-e",
    "vscode": {
     "languageId": "python"
    }
   },
   "outputs": [],
   "source": [
    "def count_correct(y_pred: torch.Tensor, y_true: torch.Tensor) -> torch.Tensor:\n",
    "    preds = torch.argmax(y_pred, dim=1)\n",
    "    return (preds == y_true).float().sum()\n",
    "\n",
    "\n",
    "def validate(\n",
    "    model: nn.Module, loss_fn: torch.nn.CrossEntropyLoss, dataloader: DataLoader\n",
    ") -> Tuple[torch.Tensor, torch.Tensor]:\n",
    "    loss = 0\n",
    "    correct = 0\n",
    "    all = 0\n",
    "    for X_batch, y_batch in dataloader:\n",
    "        y_pred = model(X_batch)\n",
    "        all += len(y_pred)\n",
    "        loss += loss_fn(y_pred, y_batch).sum()\n",
    "        correct += count_correct(y_pred, y_batch)\n",
    "    return loss / all, correct / all"
   ]
  },
  {
   "cell_type": "markdown",
   "metadata": {
    "id": "sZgBH3lxF2l5"
   },
   "source": [
    "***Przetestuj*** swoją implementację"
   ]
  },
  {
   "cell_type": "code",
   "execution_count": 19,
   "metadata": {
    "colab": {
     "base_uri": "https://localhost:8080/"
    },
    "id": "X0W8GaaNvoFC",
    "outputId": "228c1b85-061e-40e4-c93a-258fe3087874",
    "vscode": {
     "languageId": "python"
    }
   },
   "outputs": [
    {
     "name": "stdout",
     "output_type": "stream",
     "text": [
      "tensor(0.0638, device='cuda:0', grad_fn=<DivBackward0>) tensor(0.3333, device='cuda:0')\n"
     ]
    }
   ],
   "source": [
    "loss_fn = torch.nn.CrossEntropyLoss()\n",
    "val_train, acc_train = validate(model, loss_fn, test_loader)\n",
    "print(val_train, acc_train)"
   ]
  },
  {
   "cell_type": "markdown",
   "metadata": {
    "id": "l6Me2ep7HFC-"
   },
   "source": [
    "## Uczenie\n",
    "\n",
    "Przed uzupełnieniem poniżej implementacji została nam jeszcze jedna istotna kwestia do poruszenia. Otóż dot tej pory aktualizację parametrów dokonywaliśmy wg prostej formuły - mnożyliśmy gradienty przez współczynnik uczenia (ang. *learning rate*) i odejmowalismy od parametrów. Jednakże do uczenia sieci neuronowych sotsujemy często optymalizatory (ang. *optimiser*), które mogą implementować różne podejścia do uakualiniania parameterów modelu. Wykorzystamy tutaj algorytm **Adam** (ang. *adaptive moment estimation*), który dostosowuje współczynnik uczenia do poszczególnych parametrów i jest często optimizatorem pierwszego wyboru.\n",
    "\n",
    "***Uzupełnij i przetestuj*** poniższą implementację uczenia modelu. Porównaj jej skuteczność z tą, którą zaimplementowałeś(aś) na laboratorium 2."
   ]
  },
  {
   "cell_type": "code",
   "execution_count": 54,
   "metadata": {
    "colab": {
     "base_uri": "https://localhost:8080/"
    },
    "id": "Enlx7Cr33frK",
    "outputId": "eeb421fd-fd37-49b1-d57e-0b03ba5a970e",
    "vscode": {
     "languageId": "python"
    }
   },
   "outputs": [
    {
     "name": "stdout",
     "output_type": "stream",
     "text": [
      "Epoch 0: train loss = 1.172 (acc: 0.333), validation loss = 1.165 (acc: 0.333)\n",
      "Epoch 0: train loss = 1.165 (acc: 0.333), validation loss = 1.158 (acc: 0.333)\n",
      "Epoch 0: train loss = 1.158 (acc: 0.333), validation loss = 1.151 (acc: 0.333)\n",
      "Epoch 1: train loss = 1.151 (acc: 0.344), validation loss = 1.144 (acc: 0.333)\n",
      "Epoch 1: train loss = 1.144 (acc: 0.344), validation loss = 1.137 (acc: 0.333)\n",
      "Epoch 1: train loss = 1.137 (acc: 0.356), validation loss = 1.131 (acc: 0.333)\n",
      "Epoch 2: train loss = 1.131 (acc: 0.356), validation loss = 1.124 (acc: 0.333)\n",
      "Epoch 2: train loss = 1.124 (acc: 0.367), validation loss = 1.118 (acc: 0.333)\n",
      "Epoch 2: train loss = 1.118 (acc: 0.367), validation loss = 1.112 (acc: 0.350)\n",
      "Epoch 3: train loss = 1.112 (acc: 0.367), validation loss = 1.106 (acc: 0.350)\n",
      "Epoch 3: train loss = 1.106 (acc: 0.367), validation loss = 1.100 (acc: 0.383)\n",
      "Epoch 3: train loss = 1.100 (acc: 0.367), validation loss = 1.094 (acc: 0.400)\n",
      "Epoch 4: train loss = 1.094 (acc: 0.367), validation loss = 1.089 (acc: 0.400)\n",
      "Epoch 4: train loss = 1.089 (acc: 0.389), validation loss = 1.083 (acc: 0.450)\n",
      "Epoch 4: train loss = 1.083 (acc: 0.411), validation loss = 1.078 (acc: 0.450)\n",
      "Epoch 5: train loss = 1.078 (acc: 0.433), validation loss = 1.073 (acc: 0.450)\n",
      "Epoch 5: train loss = 1.073 (acc: 0.444), validation loss = 1.068 (acc: 0.450)\n",
      "Epoch 5: train loss = 1.068 (acc: 0.456), validation loss = 1.063 (acc: 0.483)\n",
      "Epoch 6: train loss = 1.063 (acc: 0.456), validation loss = 1.059 (acc: 0.483)\n",
      "Epoch 6: train loss = 1.059 (acc: 0.467), validation loss = 1.054 (acc: 0.483)\n",
      "Epoch 6: train loss = 1.055 (acc: 0.478), validation loss = 1.050 (acc: 0.483)\n",
      "Epoch 7: train loss = 1.051 (acc: 0.500), validation loss = 1.047 (acc: 0.467)\n",
      "Epoch 7: train loss = 1.047 (acc: 0.522), validation loss = 1.043 (acc: 0.500)\n",
      "Epoch 7: train loss = 1.043 (acc: 0.522), validation loss = 1.039 (acc: 0.583)\n",
      "Epoch 8: train loss = 1.040 (acc: 0.544), validation loss = 1.036 (acc: 0.583)\n",
      "Epoch 8: train loss = 1.036 (acc: 0.533), validation loss = 1.033 (acc: 0.567)\n",
      "Epoch 8: train loss = 1.033 (acc: 0.544), validation loss = 1.030 (acc: 0.567)\n",
      "Epoch 9: train loss = 1.030 (acc: 0.578), validation loss = 1.026 (acc: 0.583)\n",
      "Epoch 9: train loss = 1.027 (acc: 0.600), validation loss = 1.023 (acc: 0.567)\n",
      "Epoch 9: train loss = 1.024 (acc: 0.611), validation loss = 1.021 (acc: 0.583)\n",
      "Epoch 10: train loss = 1.021 (acc: 0.600), validation loss = 1.018 (acc: 0.600)\n",
      "Epoch 10: train loss = 1.018 (acc: 0.600), validation loss = 1.015 (acc: 0.600)\n",
      "Epoch 10: train loss = 1.015 (acc: 0.600), validation loss = 1.013 (acc: 0.617)\n",
      "Epoch 11: train loss = 1.013 (acc: 0.611), validation loss = 1.010 (acc: 0.600)\n",
      "Epoch 11: train loss = 1.010 (acc: 0.622), validation loss = 1.008 (acc: 0.600)\n",
      "Epoch 11: train loss = 1.008 (acc: 0.600), validation loss = 1.005 (acc: 0.600)\n",
      "Epoch 12: train loss = 1.005 (acc: 0.600), validation loss = 1.003 (acc: 0.600)\n",
      "Epoch 12: train loss = 1.003 (acc: 0.578), validation loss = 1.001 (acc: 0.600)\n",
      "Epoch 12: train loss = 1.001 (acc: 0.544), validation loss = 0.999 (acc: 0.600)\n",
      "Epoch 13: train loss = 0.999 (acc: 0.544), validation loss = 0.997 (acc: 0.567)\n",
      "Epoch 13: train loss = 0.997 (acc: 0.533), validation loss = 0.995 (acc: 0.567)\n",
      "Epoch 13: train loss = 0.995 (acc: 0.533), validation loss = 0.993 (acc: 0.567)\n",
      "Epoch 14: train loss = 0.993 (acc: 0.533), validation loss = 0.991 (acc: 0.567)\n",
      "Epoch 14: train loss = 0.991 (acc: 0.522), validation loss = 0.989 (acc: 0.567)\n",
      "Epoch 14: train loss = 0.989 (acc: 0.511), validation loss = 0.987 (acc: 0.550)\n",
      "Epoch 15: train loss = 0.987 (acc: 0.500), validation loss = 0.986 (acc: 0.550)\n",
      "Epoch 15: train loss = 0.985 (acc: 0.500), validation loss = 0.984 (acc: 0.550)\n",
      "Epoch 15: train loss = 0.984 (acc: 0.500), validation loss = 0.982 (acc: 0.533)\n",
      "Epoch 16: train loss = 0.982 (acc: 0.500), validation loss = 0.981 (acc: 0.533)\n",
      "Epoch 16: train loss = 0.980 (acc: 0.500), validation loss = 0.979 (acc: 0.533)\n",
      "Epoch 16: train loss = 0.979 (acc: 0.500), validation loss = 0.977 (acc: 0.533)\n",
      "Epoch 17: train loss = 0.977 (acc: 0.500), validation loss = 0.976 (acc: 0.517)\n",
      "Epoch 17: train loss = 0.975 (acc: 0.500), validation loss = 0.974 (acc: 0.517)\n",
      "Epoch 17: train loss = 0.973 (acc: 0.500), validation loss = 0.972 (acc: 0.483)\n",
      "Epoch 18: train loss = 0.972 (acc: 0.489), validation loss = 0.971 (acc: 0.483)\n",
      "Epoch 18: train loss = 0.970 (acc: 0.489), validation loss = 0.969 (acc: 0.483)\n",
      "Epoch 18: train loss = 0.969 (acc: 0.489), validation loss = 0.968 (acc: 0.483)\n",
      "Epoch 19: train loss = 0.967 (acc: 0.478), validation loss = 0.966 (acc: 0.483)\n",
      "Epoch 19: train loss = 0.965 (acc: 0.467), validation loss = 0.964 (acc: 0.483)\n",
      "Epoch 19: train loss = 0.964 (acc: 0.467), validation loss = 0.963 (acc: 0.483)\n",
      "Epoch 20: train loss = 0.962 (acc: 0.467), validation loss = 0.961 (acc: 0.483)\n",
      "Epoch 20: train loss = 0.961 (acc: 0.467), validation loss = 0.960 (acc: 0.483)\n",
      "Epoch 20: train loss = 0.959 (acc: 0.467), validation loss = 0.958 (acc: 0.483)\n",
      "Epoch 21: train loss = 0.958 (acc: 0.467), validation loss = 0.957 (acc: 0.483)\n",
      "Epoch 21: train loss = 0.956 (acc: 0.467), validation loss = 0.955 (acc: 0.483)\n",
      "Epoch 21: train loss = 0.955 (acc: 0.467), validation loss = 0.954 (acc: 0.483)\n",
      "Epoch 22: train loss = 0.953 (acc: 0.467), validation loss = 0.952 (acc: 0.483)\n",
      "Epoch 22: train loss = 0.951 (acc: 0.467), validation loss = 0.951 (acc: 0.483)\n",
      "Epoch 22: train loss = 0.950 (acc: 0.467), validation loss = 0.949 (acc: 0.483)\n",
      "Epoch 23: train loss = 0.948 (acc: 0.467), validation loss = 0.948 (acc: 0.483)\n",
      "Epoch 23: train loss = 0.947 (acc: 0.467), validation loss = 0.946 (acc: 0.483)\n",
      "Epoch 23: train loss = 0.945 (acc: 0.456), validation loss = 0.945 (acc: 0.483)\n",
      "Epoch 24: train loss = 0.944 (acc: 0.456), validation loss = 0.944 (acc: 0.483)\n",
      "Epoch 24: train loss = 0.942 (acc: 0.456), validation loss = 0.942 (acc: 0.483)\n",
      "Epoch 24: train loss = 0.941 (acc: 0.456), validation loss = 0.941 (acc: 0.483)\n",
      "Epoch 25: train loss = 0.939 (acc: 0.456), validation loss = 0.939 (acc: 0.483)\n",
      "Epoch 25: train loss = 0.938 (acc: 0.456), validation loss = 0.938 (acc: 0.483)\n",
      "Epoch 25: train loss = 0.936 (acc: 0.456), validation loss = 0.936 (acc: 0.483)\n",
      "Epoch 26: train loss = 0.935 (acc: 0.456), validation loss = 0.935 (acc: 0.483)\n",
      "Epoch 26: train loss = 0.933 (acc: 0.456), validation loss = 0.933 (acc: 0.483)\n",
      "Epoch 26: train loss = 0.932 (acc: 0.456), validation loss = 0.932 (acc: 0.483)\n",
      "Epoch 27: train loss = 0.931 (acc: 0.456), validation loss = 0.930 (acc: 0.483)\n",
      "Epoch 27: train loss = 0.929 (acc: 0.456), validation loss = 0.929 (acc: 0.483)\n",
      "Epoch 27: train loss = 0.928 (acc: 0.456), validation loss = 0.927 (acc: 0.483)\n",
      "Epoch 28: train loss = 0.926 (acc: 0.456), validation loss = 0.926 (acc: 0.483)\n",
      "Epoch 28: train loss = 0.925 (acc: 0.467), validation loss = 0.925 (acc: 0.483)\n",
      "Epoch 28: train loss = 0.923 (acc: 0.456), validation loss = 0.923 (acc: 0.483)\n",
      "Epoch 29: train loss = 0.922 (acc: 0.456), validation loss = 0.922 (acc: 0.483)\n",
      "Epoch 29: train loss = 0.920 (acc: 0.456), validation loss = 0.920 (acc: 0.483)\n",
      "Epoch 29: train loss = 0.919 (acc: 0.456), validation loss = 0.919 (acc: 0.483)\n",
      "Epoch 30: train loss = 0.918 (acc: 0.456), validation loss = 0.917 (acc: 0.483)\n",
      "Epoch 30: train loss = 0.916 (acc: 0.456), validation loss = 0.916 (acc: 0.483)\n",
      "Epoch 30: train loss = 0.915 (acc: 0.456), validation loss = 0.915 (acc: 0.483)\n",
      "Epoch 31: train loss = 0.913 (acc: 0.456), validation loss = 0.913 (acc: 0.483)\n",
      "Epoch 31: train loss = 0.912 (acc: 0.456), validation loss = 0.912 (acc: 0.483)\n",
      "Epoch 31: train loss = 0.910 (acc: 0.456), validation loss = 0.911 (acc: 0.483)\n",
      "Epoch 32: train loss = 0.909 (acc: 0.456), validation loss = 0.909 (acc: 0.483)\n",
      "Epoch 32: train loss = 0.908 (acc: 0.456), validation loss = 0.908 (acc: 0.483)\n",
      "Epoch 32: train loss = 0.906 (acc: 0.456), validation loss = 0.906 (acc: 0.483)\n",
      "Epoch 33: train loss = 0.905 (acc: 0.467), validation loss = 0.905 (acc: 0.483)\n",
      "Epoch 33: train loss = 0.903 (acc: 0.467), validation loss = 0.904 (acc: 0.483)\n",
      "Epoch 33: train loss = 0.902 (acc: 0.467), validation loss = 0.902 (acc: 0.483)\n",
      "Epoch 34: train loss = 0.901 (acc: 0.467), validation loss = 0.901 (acc: 0.483)\n",
      "Epoch 34: train loss = 0.899 (acc: 0.467), validation loss = 0.899 (acc: 0.483)\n",
      "Epoch 34: train loss = 0.898 (acc: 0.467), validation loss = 0.898 (acc: 0.483)\n",
      "Epoch 35: train loss = 0.897 (acc: 0.467), validation loss = 0.897 (acc: 0.483)\n",
      "Epoch 35: train loss = 0.895 (acc: 0.467), validation loss = 0.895 (acc: 0.483)\n",
      "Epoch 35: train loss = 0.894 (acc: 0.467), validation loss = 0.894 (acc: 0.483)\n",
      "Epoch 36: train loss = 0.892 (acc: 0.467), validation loss = 0.893 (acc: 0.483)\n",
      "Epoch 36: train loss = 0.891 (acc: 0.467), validation loss = 0.891 (acc: 0.483)\n",
      "Epoch 36: train loss = 0.890 (acc: 0.467), validation loss = 0.890 (acc: 0.483)\n",
      "Epoch 37: train loss = 0.888 (acc: 0.467), validation loss = 0.889 (acc: 0.483)\n",
      "Epoch 37: train loss = 0.887 (acc: 0.467), validation loss = 0.887 (acc: 0.483)\n",
      "Epoch 37: train loss = 0.886 (acc: 0.467), validation loss = 0.886 (acc: 0.483)\n",
      "Epoch 38: train loss = 0.884 (acc: 0.467), validation loss = 0.885 (acc: 0.483)\n",
      "Epoch 38: train loss = 0.883 (acc: 0.467), validation loss = 0.883 (acc: 0.483)\n",
      "Epoch 38: train loss = 0.882 (acc: 0.467), validation loss = 0.882 (acc: 0.483)\n",
      "Epoch 39: train loss = 0.880 (acc: 0.467), validation loss = 0.881 (acc: 0.483)\n",
      "Epoch 39: train loss = 0.879 (acc: 0.467), validation loss = 0.879 (acc: 0.483)\n",
      "Epoch 39: train loss = 0.878 (acc: 0.467), validation loss = 0.878 (acc: 0.483)\n",
      "Epoch 40: train loss = 0.876 (acc: 0.467), validation loss = 0.877 (acc: 0.483)\n",
      "Epoch 40: train loss = 0.875 (acc: 0.467), validation loss = 0.876 (acc: 0.483)\n",
      "Epoch 40: train loss = 0.874 (acc: 0.467), validation loss = 0.874 (acc: 0.483)\n",
      "Epoch 41: train loss = 0.872 (acc: 0.478), validation loss = 0.873 (acc: 0.483)\n",
      "Epoch 41: train loss = 0.871 (acc: 0.478), validation loss = 0.872 (acc: 0.483)\n",
      "Epoch 41: train loss = 0.870 (acc: 0.478), validation loss = 0.870 (acc: 0.483)\n",
      "Epoch 42: train loss = 0.869 (acc: 0.478), validation loss = 0.869 (acc: 0.483)\n",
      "Epoch 42: train loss = 0.867 (acc: 0.478), validation loss = 0.868 (acc: 0.483)\n",
      "Epoch 42: train loss = 0.866 (acc: 0.478), validation loss = 0.866 (acc: 0.483)\n",
      "Epoch 43: train loss = 0.865 (acc: 0.478), validation loss = 0.865 (acc: 0.483)\n",
      "Epoch 43: train loss = 0.863 (acc: 0.478), validation loss = 0.864 (acc: 0.483)\n",
      "Epoch 43: train loss = 0.862 (acc: 0.478), validation loss = 0.863 (acc: 0.483)\n",
      "Epoch 44: train loss = 0.861 (acc: 0.478), validation loss = 0.861 (acc: 0.483)\n",
      "Epoch 44: train loss = 0.860 (acc: 0.478), validation loss = 0.860 (acc: 0.483)\n",
      "Epoch 44: train loss = 0.858 (acc: 0.478), validation loss = 0.859 (acc: 0.483)\n",
      "Epoch 45: train loss = 0.857 (acc: 0.478), validation loss = 0.858 (acc: 0.483)\n",
      "Epoch 45: train loss = 0.856 (acc: 0.478), validation loss = 0.857 (acc: 0.483)\n",
      "Epoch 45: train loss = 0.855 (acc: 0.478), validation loss = 0.855 (acc: 0.483)\n",
      "Epoch 46: train loss = 0.853 (acc: 0.478), validation loss = 0.854 (acc: 0.483)\n",
      "Epoch 46: train loss = 0.852 (acc: 0.478), validation loss = 0.853 (acc: 0.483)\n",
      "Epoch 46: train loss = 0.851 (acc: 0.478), validation loss = 0.852 (acc: 0.483)\n",
      "Epoch 47: train loss = 0.850 (acc: 0.478), validation loss = 0.850 (acc: 0.483)\n",
      "Epoch 47: train loss = 0.848 (acc: 0.478), validation loss = 0.849 (acc: 0.483)\n",
      "Epoch 47: train loss = 0.847 (acc: 0.478), validation loss = 0.848 (acc: 0.483)\n",
      "Epoch 48: train loss = 0.846 (acc: 0.478), validation loss = 0.847 (acc: 0.483)\n",
      "Epoch 48: train loss = 0.845 (acc: 0.478), validation loss = 0.846 (acc: 0.483)\n",
      "Epoch 48: train loss = 0.844 (acc: 0.489), validation loss = 0.844 (acc: 0.483)\n",
      "Epoch 49: train loss = 0.842 (acc: 0.500), validation loss = 0.843 (acc: 0.483)\n",
      "Epoch 49: train loss = 0.841 (acc: 0.511), validation loss = 0.842 (acc: 0.483)\n",
      "Epoch 49: train loss = 0.840 (acc: 0.522), validation loss = 0.841 (acc: 0.483)\n"
     ]
    }
   ],
   "source": [
    "def fit(\n",
    "    model: nn.Module,\n",
    "    optimiser: optim.Optimizer,\n",
    "    loss_fn: torch.nn.CrossEntropyLoss,\n",
    "    train_dl: DataLoader,\n",
    "    val_dl: DataLoader,\n",
    "    epochs: int,\n",
    "    print_metrics: bool = True,\n",
    "):\n",
    "    train_losses = []\n",
    "    train_accs = []\n",
    "    val_losses = []\n",
    "    val_accs = []\n",
    "    test_losses = []\n",
    "    test_accs = []\n",
    "    for epoch in range(epochs):\n",
    "        for X_batch, y_batch in train_dl:\n",
    "            y_pred = model(\n",
    "                X_batch\n",
    "            )  # Uzyskanie pseudoprawdopodobieństw dla próbek z minibatcha\n",
    "            loss = loss_fn(y_pred, y_batch)  # Policzenie funkcji straty\n",
    "\n",
    "            loss.backward()  # Wsteczna propagacja z wyniku funkcji straty - policzenie gradientów i zapisanie ich w tensorach (parametrach)\n",
    "            optimiser.step()  # Aktualizacja parametrów modelu przez optymalizator na podstawie gradientów zapisanych w tensorach (parametrach) oraz lr\n",
    "            optimiser.zero_grad()  # Wyzerowanie gradientów w modelu, alternatywnie można wywołać perceptron.zero_grad()\n",
    "\n",
    "            model.eval()  # Przełączenie na tryb ewaluacji modelu - istotne dla takich warstw jak Dropout czy BatchNorm\n",
    "            with torch.no_grad():  # Wstrzymujemy przeliczanie i śledzenie gradientów dla tensorów - w procesie ewaluacji modelu nie chcemy zmian w gradientach\n",
    "                train_loss, train_acc = validate(model, loss_fn, train_dl)\n",
    "                val_loss, val_acc = validate(model, loss_fn, val_dl)\n",
    "                test_loss, test_acc = validate(model, loss_fn, test_dl)\n",
    "\n",
    "                train_losses.append(train_loss)\n",
    "                train_accs.append(train_acc)\n",
    "                val_losses.append(val_loss)\n",
    "                val_accs.append(val_acc)\n",
    "                test_losses.append(test_loss)\n",
    "                test_accs.append(test_acc)\n",
    "\n",
    "                if print_metrics:\n",
    "                    print(\n",
    "                        f\"Epoch {epoch}: \"\n",
    "                        f\"train loss = {train_loss:.3f} (acc: {train_acc:.3f}), \"\n",
    "                        f\"validation loss = {val_loss:.3f} (acc: {val_acc:.3f})\"\n",
    "                    )\n",
    "\n",
    "    model.eval()  # Przełączenie na tryb ewaluacji modelu - istotne dla takich warstw jak Dropout czy BatchNorm\n",
    "    return train_losses, train_accs, val_losses, val_accs, test_losses, test_accs\n",
    "\n",
    "\n",
    "train_dl, test_dl = to_dataloader(\n",
    "    X_train=X_train, y_train=y_train, X_test=X_test, y_test=y_test, batch_size=32\n",
    ")\n",
    "perceptron = Perceptron(input_size, output_size).cuda()\n",
    "optimiser = optim.Adam(perceptron.parameters(), lr=0.001)\n",
    "loss_fn = torch.nn.CrossEntropyLoss()\n",
    "train_losses, train_accs, val_losses, val_accs, test_losses, test_accs = fit(\n",
    "    model=perceptron,\n",
    "    optimiser=optimiser,\n",
    "    loss_fn=loss_fn,\n",
    "    train_dl=train_dl,\n",
    "    val_dl=test_dl,\n",
    "    epochs=50,\n",
    ")"
   ]
  },
  {
   "cell_type": "markdown",
   "metadata": {
    "id": "hVkTsruIBaBa"
   },
   "source": [
    "***Uzupełnij*** funkcję `fit`, aby ta mogła logować metryki (*loss*, *accuracy*) per epokę. Po zebraniu historii uczenia ***przedstaw*** następujące wykresy:\n",
    "- Wykres wartości funkcji kosztu w zależności od epoki uczenia dla zbioru uczącego i testowego\n",
    "- Wykres wartości metryki *accuracy* w zależności od epoki uczenia dla zbioru uczącego i testowego \n",
    "\n",
    "Metryki dla obu zbiorów przedstaw na jednym wykresie jako serie. ***Uzupełnij*** etykiety osi i tytuły wykresów."
   ]
  },
  {
   "cell_type": "code",
   "execution_count": 55,
   "metadata": {
    "colab": {
     "base_uri": "https://localhost:8080/",
     "height": 573
    },
    "id": "Z36Lfy8oGPlG",
    "outputId": "6d21490a-87f4-479a-9cc7-5209e1447b1e",
    "vscode": {
     "languageId": "python"
    }
   },
   "outputs": [
    {
     "data": {
      "image/png": "[encoded data removed]",
      "text/plain": [
       "<Figure size 432x288 with 1 Axes>"
      ]
     },
     "metadata": {
      "needs_background": "light"
     },
     "output_type": "display_data"
    },
    {
     "data": {
      "image/png": "[encoded data removed]",
      "text/plain": [
       "<Figure size 432x288 with 1 Axes>"
      ]
     },
     "metadata": {
      "needs_background": "light"
     },
     "output_type": "display_data"
    }
   ],
   "source": [
    "import matplotlib.pyplot as plt\n",
    "\n",
    "plt.plot(train_losses, label=\"Train\")\n",
    "plt.plot(test_losses, label=\"Test\")\n",
    "plt.xlabel(\"Epoch\")\n",
    "plt.ylabel(\"Loss\")\n",
    "plt.title(\"Loss vs Epoch\")\n",
    "plt.legend()\n",
    "plt.show()\n",
    "\n",
    "plt.plot(train_accs, label=\"Train\")\n",
    "plt.plot(test_accs, label=\"Test\")\n",
    "plt.xlabel(\"Epoch\")\n",
    "plt.ylabel(\"Accuracy\")\n",
    "plt.title(\"Accuracy vs Epoch\")\n",
    "plt.legend()\n",
    "plt.show()\n",
    "\n",
    "plt.show()"
   ]
  },
  {
   "cell_type": "markdown",
   "metadata": {
    "id": "E_eBwlwF6siY"
   },
   "source": [
    "***Popraw*** model, tak aby otrzymać dokładność na zbiorze testowym wynoszącą co najmniej 90%. W tym celu dobierz odpowiedni współczynnik uczenia i liczbę epok. \n",
    "Do porównania badanych hiperparametrów użyj zbioru walidacyjnego. Podziel zbiór testowy na dwie równe części, jeden który będzie służyć do walidacji hiperparametrów, a drugi, który będzie służył do ewaluacji znalezionej najlepszej pary hiperparametrów. W tym celu możesz wykorzystać funkcję `torch.utils.data.random_split` z ustawionym parametrem `generator=torch.Generator().manual_seed(1)`. Przedstaw równiez wykresy o których mowa punkcie powyżej tym razem z uwzględniem trzech zbiorów (uczącego, walidacyjnego i testowego)"
   ]
  },
  {
   "cell_type": "code",
   "execution_count": 61,
   "metadata": {
    "colab": {
     "base_uri": "https://localhost:8080/"
    },
    "id": "9gzdPLCAZMtd",
    "outputId": "753007d0-d7f7-43a9-b299-b5953b62d554",
    "vscode": {
     "languageId": "python"
    }
   },
   "outputs": [
    {
     "name": "stdout",
     "output_type": "stream",
     "text": [
      "Best hyperparameters: learning rate = 0.01, epochs = 50\n",
      "Test accuracy: 0.900\n"
     ]
    }
   ],
   "source": [
    "def to_dataloader2(\n",
    "    X_train: torch.Tensor,\n",
    "    y_train: torch.Tensor,\n",
    "    X_test: torch.Tensor,\n",
    "    y_test: torch.Tensor,\n",
    "    batch_size: int = 32,\n",
    ") -> Tuple[DataLoader, DataLoader, DataLoader]:\n",
    "    train_ds = TensorDataset(X_train, y_train)\n",
    "    train_dl = DataLoader(train_ds, batch_size=batch_size, shuffle=True)\n",
    "\n",
    "    test_ds = TensorDataset(X_test, y_test)\n",
    "    test_dl = DataLoader(test_ds, batch_size=batch_size)\n",
    "\n",
    "    val_size = len(test_ds) // 2\n",
    "    test_size = len(test_ds) - val_size\n",
    "    val_ds, test_ds = random_split(\n",
    "        test_ds, [val_size, test_size], generator=torch.Generator().manual_seed(1)\n",
    "    )\n",
    "\n",
    "    val_dl = DataLoader(val_ds, batch_size=batch_size)\n",
    "    test_dl = DataLoader(test_ds, batch_size=batch_size)\n",
    "\n",
    "    return train_dl, val_dl, test_dl\n",
    "\n",
    "\n",
    "train_dl, val_dl, test_dl = to_dataloader2(\n",
    "    X_train=X_train, y_train=y_train, X_test=X_test, y_test=y_test, batch_size=32\n",
    ")\n",
    "\n",
    "learning_rates = [0.001, 0.01, 0.1]\n",
    "epochs_list = [50, 100, 200]\n",
    "\n",
    "best_val_acc = 0\n",
    "best_hyperparams = None\n",
    "for lr in learning_rates:\n",
    "    for epochs in epochs_list:\n",
    "        perceptron = Perceptron(input_size, output_size).cuda()\n",
    "        optimiser = optim.Adam(perceptron.parameters(), lr=lr)\n",
    "        _, _, _, val_accs, _, _ = fit(\n",
    "            model=perceptron,\n",
    "            optimiser=optimiser,\n",
    "            loss_fn=loss_fn,\n",
    "            train_dl=train_dl,\n",
    "            val_dl=val_dl,\n",
    "            epochs=epochs,\n",
    "            print_metrics=False,\n",
    "        )\n",
    "        if max(val_accs) > best_val_acc:\n",
    "            best_val_acc = max(val_accs)\n",
    "            best_hyperparams = (lr, epochs)\n",
    "\n",
    "perceptron = Perceptron(input_size, output_size).cuda()\n",
    "optimiser = optim.Adam(perceptron.parameters(), lr=best_hyperparams[0])\n",
    "\n",
    "train_losses, train_accs, val_losses, val_accs, test_losses, test_accs = fit(\n",
    "    model=perceptron,\n",
    "    optimiser=optimiser,\n",
    "    loss_fn=loss_fn,\n",
    "    train_dl=train_dl,\n",
    "    val_dl=test_dl,\n",
    "    epochs=best_hyperparams[1],\n",
    "    print_metrics=False,\n",
    ")\n",
    "\n",
    "print(\n",
    "    f\"Best hyperparameters: learning rate = {best_hyperparams[0]}, epochs = {best_hyperparams[1]}\"\n",
    ")\n",
    "print(f\"Test accuracy: {max(test_accs):.3f}\")"
   ]
  },
  {
   "cell_type": "code",
   "execution_count": 62,
   "metadata": {
    "colab": {
     "base_uri": "https://localhost:8080/",
     "height": 683
    },
    "id": "icXy5GmN6qlk",
    "outputId": "6f66fe13-f347-410c-8b58-80d3ab6c9549",
    "vscode": {
     "languageId": "python"
    }
   },
   "outputs": [
    {
     "data": {
      "image/png": "[encoded data removed]",
      "text/plain": [
       "<Figure size 720x360 with 1 Axes>"
      ]
     },
     "metadata": {
      "needs_background": "light"
     },
     "output_type": "display_data"
    },
    {
     "data": {
      "image/png": "[encoded data removed]",
      "text/plain": [
       "<Figure size 720x360 with 1 Axes>"
      ]
     },
     "metadata": {
      "needs_background": "light"
     },
     "output_type": "display_data"
    }
   ],
   "source": [
    "import matplotlib.pyplot as plt\n",
    "\n",
    "\n",
    "def plot_losses(train_losses, val_losses, test_losses):\n",
    "    plt.figure(figsize=(10, 5))\n",
    "    plt.plot(train_losses, label=\"Train Loss\")\n",
    "    plt.plot(val_losses, label=\"Validation Loss\")\n",
    "    plt.plot(test_losses, label=\"Test Loss\")\n",
    "    plt.xlabel(\"Epoch\")\n",
    "    plt.ylabel(\"Loss\")\n",
    "    plt.legend()\n",
    "    plt.title(\"Loss vs. Epoch\")\n",
    "    plt.show()\n",
    "\n",
    "\n",
    "def plot_accuracies(train_accs, val_accs, test_accs):\n",
    "    plt.figure(figsize=(10, 5))\n",
    "    plt.plot(train_accs, label=\"Train Accuracy\")\n",
    "    plt.plot(val_accs, label=\"Validation Accuracy\")\n",
    "    plt.plot(test_accs, label=\"Test Accuracy\")\n",
    "    plt.xlabel(\"Epoch\")\n",
    "    plt.ylabel(\"Accuracy\")\n",
    "    plt.legend()\n",
    "    plt.title(\"Accuracy vs. Epoch\")\n",
    "    plt.show()\n",
    "\n",
    "\n",
    "plot_losses(train_losses, val_losses, test_losses)\n",
    "plot_accuracies(train_accs, val_accs, test_accs)"
   ]
  }
 ],
 "metadata": {
  "accelerator": "GPU",
  "colab": {
   "provenance": [],
   "toc_visible": true
  },
  "gpuClass": "standard",
  "kernelspec": {
   "display_name": "Python 3",
   "name": "python3"
  }
 },
 "nbformat": 4,
 "nbformat_minor": 0
}
