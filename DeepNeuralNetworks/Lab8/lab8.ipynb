{
  "cells": [
    {
      "attachments": {},
      "cell_type": "markdown",
      "metadata": {
        "id": "60IzlMsuY2w4"
      },
      "source": [
        "# Wstęp\n",
        "Zadanie 8 obejmuje zagadnienie segmentacji obrazów i wprowadza konwolucyjne modele o architekturze enkoder-dekoder. Modele takie wykorzystują konwolucje i downsampling aby uzyskać mapę cech o mniejszej rozdzielczości (enkoder), a następnie \"dekodują\" otrzymaną ją z powrotem do większej rozdzielczości aby wydobyć w rozdzielczości oryginalnego obrazka interesujące nas informacje semantyczne - np. segmentację obrazka na poszczególne obiekty. Architektury tego typu mają również zastosowania w modelach generatywnych, w zadaniach które ogólnie określamy jako *image to image translation*."
      ]
    },
    {
      "attachments": {},
      "cell_type": "markdown",
      "metadata": {
        "id": "dWre4lMJesof"
      },
      "source": [
        "# Cel ćwiczenia\n",
        "\n",
        "Celem ćwiczenia jest poznanie\n",
        "\n",
        "\n",
        "\n",
        "*   metod upsamplingu w sieciach konwolucyjnych\n",
        "*   architektur konwolucyjnych o strukturze enkoder-dekoder\n",
        "*   wykorzystania sieci głębokich w segmentacji danych obrazowych\n",
        "\n",
        "\n",
        "\n"
      ]
    },
    {
      "attachments": {},
      "cell_type": "markdown",
      "metadata": {
        "id": "RR_sgwz9lWmi"
      },
      "source": [
        "# Upsampling w sieciach konwolucyjnych\n",
        "\n",
        "Na laboratorium 5 dowiedzieliśmy się już, że do zmniejszania rozdzielczości mapy cech możemy wykorzystać dwa podejścia - pooling lub warstwę konwolucyjną z odpowiednim parametrem `stride`. Podobnie jest ze zwiększaniem rozdzielczości.\n",
        "\n",
        "Wersja prostsza, odwrotność poolingu, to `torch.nn.Upsample`. Jest to pozbawiona uczących się parametrów klasa dająca wybór trybu interpolacji."
      ]
    },
    {
      "cell_type": "code",
      "execution_count": 1,
      "metadata": {
        "colab": {
          "base_uri": "https://localhost:8080/"
        },
        "id": "SDwfWomRl8wL",
        "outputId": "da577011-ad79-43f5-adf5-38b92abb54ea"
      },
      "outputs": [
        {
          "data": {
            "text/plain": [
              "torch.Size([3, 3, 64, 64])"
            ]
          },
          "execution_count": 1,
          "metadata": {},
          "output_type": "execute_result"
        }
      ],
      "source": [
        "import torch\n",
        "\n",
        "upsampler = torch.nn.Upsample(scale_factor=2)\n",
        "\n",
        "dummy_input = torch.zeros((3,3,32,32))\n",
        "upsampler(dummy_input).shape"
      ]
    },
    {
      "attachments": {},
      "cell_type": "markdown",
      "metadata": {
        "id": "utxlxvxcl8ar"
      },
      "source": [
        "Klasa `torch.nn.ConvTranspose2d` to natomiast ucząca się operacja \"odwracania\" konwolucji. Jej relacja wymiarów wejście-wyjście powinna być taka, jak wyjście do wejścia dla warstwy `torch.nn.Conv2d` o analogicznych parametrach konstruktora. Innymi słowy, jeśli tensor przepuścimy przez konwolucję, a następnie konwolucję transponowaną, oczekujemy powrotu do początkowej szerokości i wysokości - o ile oczywiście parametry tych dwóch warstw będą się ze sobą zgadzać.\n",
        "\n",
        "Konwolucja transponowana wprowadza dodatkowy parametr `output_padding`. Jest on potrzebny dlatego, że ze względu na zaokrąglanie wymiarów dla zwyczajnej konwolucji wykorzystującej `stride>1`, na podstawie wymiaru jej wyjścia nie da się jednoznacznie określić wymiaru jej wejścia. Aby spełnić założenie że warstwa `torch.nn.ConvTranspose2d` odwraca zmianę wymiarów której dokonuje `torch.nn.Conv2d`, potrzebny jest więc dodatkowy parametr pozwalający doprecyzować oczekiwany rozmiar. W razie problemów z uzyskaniem właściwego rozmiaru, dokumentacja torcha podaje konkrenty wzór na zależność między parametrami warstwy a szeokością i wysokością jej wyniku.\n",
        "\n",
        "https://pytorch.org/docs/stable/generated/torch.nn.ConvTranspose2d.html"
      ]
    },
    {
      "cell_type": "code",
      "execution_count": 2,
      "metadata": {
        "colab": {
          "base_uri": "https://localhost:8080/"
        },
        "id": "W_3YLljknltt",
        "outputId": "67e55031-b6c9-46de-a9e5-300b88ad1f0d"
      },
      "outputs": [
        {
          "name": "stdout",
          "output_type": "stream",
          "text": [
            "kształt po upsamplingu: torch.Size([3, 3, 64, 64])\n",
            "kształt po konwolucji: torch.Size([3, 3, 16, 16])\n",
            "kształt po konwolucji i konw. transponowanej: torch.Size([3, 3, 31, 31])\n",
            "j.w., ale z output_padding: torch.Size([3, 3, 32, 32])\n"
          ]
        }
      ],
      "source": [
        "upsampler = torch.nn.ConvTranspose2d(3,3,2, stride=2)\n",
        "\n",
        "dummy_input = torch.zeros((3,3,32,32))\n",
        "\n",
        "print(f\"kształt po upsamplingu: {upsampler(dummy_input).shape}\")\n",
        "\n",
        "conv = torch.nn.Conv2d(3,3,3, stride=2, padding=1)\n",
        "deconv = torch.nn.ConvTranspose2d(3,3,3, stride=2, padding=1)\n",
        "fixed_deconv = torch.nn.ConvTranspose2d(3,3,3, stride=2, padding=1, output_padding=1)\n",
        "\n",
        "print(f\"kształt po konwolucji: {conv(dummy_input).shape}\")\n",
        "print(f\"kształt po konwolucji i konw. transponowanej: {deconv(conv(dummy_input)).shape}\")\n",
        "print(f\"j.w., ale z output_padding: {fixed_deconv(conv(dummy_input)).shape}\")"
      ]
    },
    {
      "attachments": {},
      "cell_type": "markdown",
      "metadata": {
        "id": "n1A6SuJZqgBg"
      },
      "source": [
        "# Segmentacja obrazu\n",
        "\n",
        "Model enkoder-dekoder testować będziemy w zadaniu nadzorowanej segmentacji. Oznacza to, że dla obrazu wejściowego musimy znaleźć etykiety ze z góry wyznaczonego zbioru, przewidujemy je jednak nie dla całego obrazu, a na poziomie każdego piksela. Skorzystamy z dostępnego w `torchvision.datasets` zbioru VOC. Najpierw jednak musimy zdefiniować transformację danych, kóra będzie nieco bardziej skomplikowana niż do tej pory.\n",
        "\n",
        "Ponieważ etykiety są podane również jako obraz, trzeba pamiętać, że augmentacje losowe muszą zgadzać się pomiędzy obrazkiem a etykietą. Niestety, każde wywołanie funkcji w standardowym przepływie danych z wykorzystaniem `transforms` losuje augmentację na nowo. Aby uzyskać identyczną augmentację, konieczne będzie wykorzystanie funkcji z `torchvision.transforms.functional`.\n",
        "\n",
        "Druga istotna zmiana to konwersja do tensora. Aby zachować `target` jako tensor całkowitoliczbowy, musimy zastosować własną alternatywę dla ToTensor(), jako że `ToTensor` zawsze przekształca obrazy do tensora zmiennmoprzecinkowego w zakresie [0,1]."
      ]
    },
    {
      "attachments": {},
      "cell_type": "markdown",
      "metadata": {
        "id": "DZiK62OuxsoB"
      },
      "source": [
        "# Zadanie 1\n",
        "\n",
        "Zdefiniuj transformację, która dla pary wejściowej `image, target` zwraca zaugmentowane w identyczny sposób obraz i etykiety. Transformacja powinna obejmować:\n",
        "\n",
        "*   dowolną augmentację na danych wejściowych\n",
        "*   padding to stałego rozmiaru (w przypadku etykiet, padować trzeba wartością 255)\n",
        "*   konwersję do tensora - zmiennoprzecinkowego dla obrazu, całkowitoliczbowego dla etykiety\n",
        "\n",
        "Zdefiniuj również odpowiednią transformację dla zbioru testowego, pamiętając że dane testowe nie powinny byc augmentowane.\n",
        "\n"
      ]
    },
    {
      "cell_type": "code",
      "execution_count": 3,
      "metadata": {
        "id": "Kd2R0l8aajz6"
      },
      "outputs": [],
      "source": [
        "import torchvision.datasets as datasets\n",
        "import torchvision.transforms as transforms\n",
        "import torchvision.transforms.functional as TF\n",
        "import numpy as np\n",
        "import random\n",
        "import PIL\n",
        "\n",
        "def random_augmentation(image, target):\n",
        "    if random.random() > 0.5:\n",
        "        image, target = TF.hflip(image), TF.hflip(target)\n",
        "\n",
        "    if random.random() > 0.5:\n",
        "        angle = random.uniform(-10, 10)\n",
        "        image, target = TF.rotate(image, angle), TF.rotate(target, angle)\n",
        "\n",
        "    return image, target\n",
        "\n",
        "def pad_to_constant_size(image, target, desired_size=(256, 256), padding_value=255):\n",
        "    width, height = image.size\n",
        "    pad_width = desired_size[0] - width\n",
        "    pad_height = desired_size[1] - height\n",
        "\n",
        "    padding = (0, 0, pad_width, pad_height)\n",
        "    image = TF.pad(image, padding)\n",
        "    target = TF.pad(target, padding, fill=padding_value)\n",
        "\n",
        "    return image, target\n",
        "\n",
        "def pair_transforms(image, target):\n",
        "  resize = transforms.Resize((image.size[1]//4,image.size[0]//4), PIL.Image.NEAREST)\n",
        "  image = resize(image)\n",
        "  target = resize(target)\n",
        "\n",
        "  image, target = random_augmentation(image, target)\n",
        "  image, target = pad_to_constant_size(image, target)\n",
        "  \n",
        "  out_image = TF.to_tensor(image)\n",
        "  out_target = TF.to_tensor(target).squeeze().long()\n",
        "\n",
        "  out_target = torch.where(torch.logical_or(out_target==0, out_target==255),out_target,1)\n",
        "  \n",
        "  return out_image, out_target\n",
        "\n",
        "\n",
        "def test_pair_transforms(image, target):\n",
        "  resize = transforms.Resize((image.size[1]//4,image.size[0]//4), PIL.Image.NEAREST)\n",
        "  image = resize(image)\n",
        "  target = resize(target)\n",
        "\n",
        "  image, target = pad_to_constant_size(image, target)\n",
        "\n",
        "  out_image = TF.to_tensor(image)\n",
        "  out_target = TF.to_tensor(target).squeeze().long()\n",
        "\n",
        "  out_target = torch.where(torch.logical_or(out_target==0, out_target==255),out_target,1)\n",
        "  \n",
        "  return out_image, out_target"
      ]
    },
    {
      "attachments": {},
      "cell_type": "markdown",
      "metadata": {
        "id": "61YHGov9q1mv"
      },
      "source": [
        "Załaduj zbiór danych ze zeefiniowaną transformacją, a następnie zweryfikuj, że augmentacja zgadza się pomiędzy obrazem a etykietą. "
      ]
    },
    {
      "cell_type": "code",
      "execution_count": 4,
      "metadata": {
        "colab": {
          "base_uri": "https://localhost:8080/"
        },
        "id": "JwTjN_rvh1HY",
        "outputId": "22f0acad-7dbc-42c8-e745-aab1c1a1793e"
      },
      "outputs": [
        {
          "name": "stdout",
          "output_type": "stream",
          "text": [
            "Downloading http://host.robots.ox.ac.uk/pascal/VOC/voc2012/VOCtrainval_11-May-2012.tar to root/VOCtrainval_11-May-2012.tar\n"
          ]
        },
        {
          "name": "stderr",
          "output_type": "stream",
          "text": [
            "100%|██████████| 1999639040/1999639040 [02:57<00:00, 11261259.71it/s]\n"
          ]
        },
        {
          "name": "stdout",
          "output_type": "stream",
          "text": [
            "Extracting root/VOCtrainval_11-May-2012.tar to root\n"
          ]
        }
      ],
      "source": [
        "data = datasets.VOCSegmentation(\"root\", download=True, transforms=pair_transforms)"
      ]
    },
    {
      "cell_type": "code",
      "execution_count": 5,
      "metadata": {
        "colab": {
          "base_uri": "https://localhost:8080/"
        },
        "id": "OAaJ5hl9fFWi",
        "outputId": "71868bb3-686b-497a-ded1-14ed638b4fb2"
      },
      "outputs": [
        {
          "name": "stdout",
          "output_type": "stream",
          "text": [
            "Using downloaded and verified file: root/VOCtrainval_11-May-2012.tar\n",
            "Extracting root/VOCtrainval_11-May-2012.tar to root\n"
          ]
        }
      ],
      "source": [
        "test_data = datasets.VOCSegmentation(\"root\", download=True, image_set=\"val\", transforms=test_pair_transforms)"
      ]
    },
    {
      "cell_type": "code",
      "execution_count": 6,
      "metadata": {
        "colab": {
          "base_uri": "https://localhost:8080/",
          "height": 975
        },
        "id": "ZjsiQptQcMCS",
        "outputId": "a37f53d6-1297-42e5-c1f7-ed6fea6cd87d"
      },
      "outputs": [
        {
          "data": {
            "image/png": "[encoded data removed]",
            "text/plain": [
              "<Figure size 640x480 with 1 Axes>"
            ]
          },
          "metadata": {},
          "output_type": "display_data"
        },
        {
          "data": {
            "image/png": "[encoded data removed]",
            "text/plain": [
              "<Figure size 640x480 with 1 Axes>"
            ]
          },
          "metadata": {},
          "output_type": "display_data"
        },
        {
          "name": "stdout",
          "output_type": "stream",
          "text": [
            "tensor([[0, 0, 0,  ..., 1, 1, 1],\n",
            "        [0, 0, 0,  ..., 1, 1, 1],\n",
            "        [0, 0, 0,  ..., 1, 1, 1],\n",
            "        ...,\n",
            "        [1, 1, 1,  ..., 1, 1, 1],\n",
            "        [1, 1, 1,  ..., 1, 1, 1],\n",
            "        [1, 1, 1,  ..., 1, 1, 1]])\n"
          ]
        }
      ],
      "source": [
        "from matplotlib import pyplot as plt\n",
        "\n",
        "image, label = data[0]\n",
        "plt.imshow(image.permute(1,2,0))\n",
        "plt.show()\n",
        "plt.imshow(label)\n",
        "plt.show()\n",
        "print(label)"
      ]
    },
    {
      "attachments": {},
      "cell_type": "markdown",
      "metadata": {
        "id": "NlFMUusBsaxN"
      },
      "source": [
        "Zauważ, że wartością 255 oznaczone są \"krawędzie\" pomiędzy właściwymi etykietami. Etykieta 255 nie powinna być brana pod uwagę przy wyliczaniu kosztu i metryk jakości segmentacji."
      ]
    },
    {
      "attachments": {},
      "cell_type": "markdown",
      "metadata": {
        "id": "Yd_Crryr3BAs"
      },
      "source": [
        "# Architektura enkoder-dekoder\n",
        "\n",
        "\n",
        "Możemy przejść do zdefiniowania architektury enkoder-dekoder. Achitektura ta powinna przetworzyć obraz do niższej rozdzielczości, a następnie zwiększyć jego wymiar z powrotem do oryginalnego. Podobnie jak w standardowych sieciach konwolucyjnych do klasyfikacji, przydatne jest zwiększanie liczby kanałów wraz ze zmniejszaniem rozdzielczości. Pozwala to na zachowanie informacji po downsamplingu, oraz daje możliwość wyuczenia najbardziej złożonych zależności tam gdzie jest to najbardziej istotne, czyli w warstwach operujących na najniższej rozdzielczości gdzie pole recepcyjne filtra obejmuje największy fragment obrazu. Przy upsamplingu, liczba kanałów typowo będzie się zmniejszać. Dodatkowo, skrótowe połączenia według schematu: pierwsza warstwa do ostatniej, druga do przedostaniej etc. są typowym elementem takich architektur."
      ]
    },
    {
      "attachments": {},
      "cell_type": "markdown",
      "metadata": {
        "id": "0_QcHzmmqSwG"
      },
      "source": [
        "# Zadanie 2\n",
        "\n",
        "Zmodyfikuj funkcję forward klasy SimpleEncoderDecoder tak, aby dodać połączenia skrótowe między warstwami o tej samej rozdzielczości.."
      ]
    },
    {
      "cell_type": "code",
      "execution_count": 7,
      "metadata": {
        "id": "MmNTBPI-wJLN"
      },
      "outputs": [],
      "source": [
        "from typing import List\n",
        "\n",
        "class SimpleEncoderDecoder(torch.nn.Module):\n",
        "  def __init__(self, channels, out_labels):\n",
        "    super().__init__()\n",
        "    self.conv_1 = torch.nn.Conv2d(3, channels[0], 3, padding=1)\n",
        "    self.conv_2 = torch.nn.Conv2d(channels[0], channels[1], 3, padding=1)\n",
        "    self.conv_3 = torch.nn.Conv2d(channels[1], channels[2], 3, padding=1)\n",
        "    self.conv_4 = torch.nn.Conv2d(channels[2], channels[2], 3, padding=1)\n",
        "    self.up_conv1 = torch.nn.ConvTranspose2d(channels[2], channels[1], 2, stride=2)\n",
        "    self.up_conv2 = torch.nn.ConvTranspose2d(channels[1] + channels[2], channels[0], 2, stride=2)\n",
        "    self.up_conv3 = torch.nn.ConvTranspose2d(channels[0] + channels[1], out_labels, 2, stride=2)\n",
        "    self.pool = torch.nn.MaxPool2d(2)\n",
        "    self.act = torch.nn.ReLU()\n",
        "    self.bnorm = torch.nn.BatchNorm2d(channels[2])\n",
        "  \n",
        "\n",
        "  def forward(self, x):\n",
        "      x1 = self.act(self.conv_1(x))\n",
        "      x2 = self.act(self.conv_2(self.pool(x1)))\n",
        "      x3 = self.act(self.conv_3(self.pool(x2)))\n",
        "      x = self.bnorm(self.pool(x3))\n",
        "      x = self.act(self.conv_4(x))\n",
        "      x = self.act(self.up_conv1(x))\n",
        "      x = torch.cat((x, x3), dim=1)\n",
        "      x = self.act(self.up_conv2(x))\n",
        "      x = torch.cat((x, x2), dim=1)\n",
        "      x = self.act(self.up_conv3(x))\n",
        "      return x\n"
      ]
    },
    {
      "attachments": {},
      "cell_type": "markdown",
      "metadata": {
        "id": "6hKbugh8_iH6"
      },
      "source": [
        "Zweryfikuj działanie sieci:"
      ]
    },
    {
      "cell_type": "code",
      "execution_count": 8,
      "metadata": {
        "id": "sgs1IXSA_mLy"
      },
      "outputs": [],
      "source": [
        "model = SimpleEncoderDecoder([32,64,128], 21).cuda()\n",
        "\n",
        "dummy_data = torch.zeros((32,3,64,64)).cuda()\n",
        "\n",
        "assert(model(dummy_data).shape==(32,21,64,64))"
      ]
    },
    {
      "attachments": {},
      "cell_type": "markdown",
      "metadata": {
        "id": "ZN00sFAb74QO"
      },
      "source": [
        "Zdefinujmy kod pomocniczy - jak zwykle można zastąpić własnym, uwzględniającym ulepszenia z poprzednich laboratoriów. Zauważ, że ze funkcja entropii krzyżowej nie wymaga adaptacji do zadania. Natomiast implementacja `count_correct` została zmieniona tak, aby nie zliczać pikseli oznaczonych wartością 255."
      ]
    },
    {
      "cell_type": "code",
      "execution_count": 9,
      "metadata": {
        "id": "Q1W7wDlh5se4"
      },
      "outputs": [],
      "source": [
        "import torchvision\n",
        "import torchvision.transforms as transforms\n",
        "import torch.nn as nn\n",
        "import torch.optim as optim\n",
        "from torch.utils.data import DataLoader\n",
        "from typing import Tuple\n",
        "from tqdm import tqdm\n",
        "\n",
        "def count_correct(\n",
        "    y_pred: torch.Tensor, y_true: torch.Tensor\n",
        ") -> torch.Tensor:\n",
        "    preds = torch.argmax(y_pred, dim=1)\n",
        "    not_bg = (y_true != 255).float()\n",
        "    return ((preds == y_true).float() * not_bg).sum() / not_bg.sum()\n",
        "\n",
        "def validate(\n",
        "    model: nn.Module, \n",
        "    loss_fn: torch.nn.CrossEntropyLoss, \n",
        "    dataloader: DataLoader\n",
        ") -> Tuple[torch.Tensor, torch.Tensor]:\n",
        "    loss = 0\n",
        "    correct = 0\n",
        "    all = 0\n",
        "    for X_batch, y_batch in dataloader:\n",
        "        y_pred = model(X_batch.cuda())\n",
        "        all += 1\n",
        "        loss += loss_fn(y_pred, y_batch.cuda()).sum()\n",
        "        correct += count_correct(y_pred, y_batch.cuda())\n",
        "    return loss / all, correct / all\n",
        "\n",
        "def fit(\n",
        "    model: nn.Module, optimiser: optim.Optimizer, \n",
        "    loss_fn: torch.nn.CrossEntropyLoss, train_dl: DataLoader, \n",
        "    val_dl: DataLoader, epochs: int, \n",
        "    print_metrics: bool = True\n",
        "):\n",
        "    val_losses = []\n",
        "    val_accs = []\n",
        "    for epoch in range(epochs):\n",
        "        for X_batch, y_batch in train_dl:\n",
        "            y_pred = model(X_batch.cuda())\n",
        "            loss = loss_fn(y_pred, y_batch.cuda())\n",
        "            loss.backward()\n",
        "            optimiser.step()\n",
        "            optimiser.zero_grad()\n",
        "\n",
        "        if print_metrics: \n",
        "            model.eval()\n",
        "            with torch.no_grad():\n",
        "                train_loss, train_acc = validate(\n",
        "                    model=model, loss_fn=loss_fn, dataloader=train_dl\n",
        "                ) \n",
        "                val_loss, val_acc = validate(\n",
        "                    model=model, loss_fn=loss_fn, dataloader=val_dl\n",
        "                )\n",
        "                val_accs.append(val_acc)\n",
        "                val_losses.append(val_loss)\n",
        "                print(\n",
        "                    f\"Epoch {epoch}: \"\n",
        "                    f\"train loss = {train_loss:.3f} (acc: {train_acc:.3f}), \"\n",
        "                    f\"validation loss = {val_loss:.3f} (acc: {val_acc:.3f})\"\n",
        "                )\n",
        "    return val_losses, val_accs"
      ]
    },
    {
      "attachments": {},
      "cell_type": "markdown",
      "metadata": {
        "id": "XPh6_3GN8qbz"
      },
      "source": [
        "Wyucz sieć na danych z VOCSegmentation.\n",
        "\n",
        "Uwaga: VOCSegmentation to dość trudny zbiór, nie trzeba tu osiągać wyjątkowo dobrych wyników.\n",
        "\n"
      ]
    },
    {
      "cell_type": "code",
      "execution_count": 24,
      "metadata": {
        "colab": {
          "base_uri": "https://localhost:8080/"
        },
        "id": "GdpVDFUt8uc6",
        "outputId": "e6c7d336-7eb1-472e-b12b-3369112f4fa8"
      },
      "outputs": [
        {
          "name": "stdout",
          "output_type": "stream",
          "text": [
            "Epoch 0: train loss = 0.503 (acc: 0.404), validation loss = 0.502 (acc: 0.404)\n",
            "Epoch 1: train loss = 0.279 (acc: 0.677), validation loss = 0.278 (acc: 0.677)\n",
            "Epoch 2: train loss = 0.241 (acc: 0.729), validation loss = 0.241 (acc: 0.729)\n",
            "Epoch 3: train loss = 0.240 (acc: 0.729), validation loss = 0.239 (acc: 0.730)\n",
            "Epoch 4: train loss = 0.239 (acc: 0.730), validation loss = 0.239 (acc: 0.730)\n",
            "Epoch 5: train loss = 0.239 (acc: 0.730), validation loss = 0.238 (acc: 0.730)\n",
            "Epoch 6: train loss = 0.239 (acc: 0.730), validation loss = 0.238 (acc: 0.730)\n",
            "Epoch 7: train loss = 0.238 (acc: 0.730), validation loss = 0.238 (acc: 0.730)\n",
            "Epoch 8: train loss = 0.240 (acc: 0.730), validation loss = 0.240 (acc: 0.730)\n",
            "Epoch 9: train loss = 0.238 (acc: 0.730), validation loss = 0.238 (acc: 0.730)\n",
            "Epoch 10: train loss = 0.128 (acc: 0.898), validation loss = 0.128 (acc: 0.898)\n",
            "Epoch 11: train loss = 0.076 (acc: 0.937), validation loss = 0.075 (acc: 0.937)\n",
            "Epoch 12: train loss = 0.074 (acc: 0.937), validation loss = 0.073 (acc: 0.938)\n",
            "Epoch 13: train loss = 0.074 (acc: 0.937), validation loss = 0.074 (acc: 0.937)\n",
            "Epoch 14: train loss = 0.039 (acc: 0.989), validation loss = 0.039 (acc: 0.989)\n",
            "Epoch 15: train loss = 0.037 (acc: 0.989), validation loss = 0.037 (acc: 0.990)\n",
            "Epoch 16: train loss = 0.037 (acc: 0.989), validation loss = 0.036 (acc: 0.990)\n",
            "Epoch 17: train loss = 0.037 (acc: 0.989), validation loss = 0.037 (acc: 0.989)\n",
            "Epoch 18: train loss = 0.037 (acc: 0.990), validation loss = 0.036 (acc: 0.990)\n",
            "Epoch 19: train loss = 0.036 (acc: 0.990), validation loss = 0.036 (acc: 0.990)\n"
          ]
        }
      ],
      "source": [
        "model = SimpleEncoderDecoder([32,64,128], 2).cuda()\n",
        "\n",
        "loss = torch.nn.CrossEntropyLoss(ignore_index=255)\n",
        "train_dl = DataLoader(data, batch_size=32, shuffle=True)\n",
        "test_dl = DataLoader(test_data, batch_size=32)\n",
        "optimizer = optim.Adam(model.parameters())\n",
        "\n",
        "val_losses_Simple, val_accs_Simple = fit(model, optimizer, loss, train_dl, test_dl, 20, True)"
      ]
    },
    {
      "attachments": {},
      "cell_type": "markdown",
      "metadata": {
        "id": "tr8S8FTfvWuD"
      },
      "source": [
        "# Zadanie 3\n",
        "\n",
        "Zdefiniuj parametryzowalną klasę EncoderDecoder, umożliwiającą wybór liczby warstw i liczby kanałów w poszczególnych warstwach. Klasa powinna dodawać połączenia skrótowe pomiędzy warstwami w początkowej a końcowej części architektury o tej samej rozdzielczości. Połączenia skrótowe powinny działać przez konkatenację.\n",
        "\n",
        "Klasa powinna umożlwiać wybór pomiędzy upsamplingiem z wykorzsytaniem `ConvTranspose2D` a `torch.nn.Upsample`. Sprawdź wyniki tej drugiej opcji z parametrami analogicznymi do testów `SimpleEncoderDecoder` na segmentacji VOC.\n",
        "\n"
      ]
    },
    {
      "cell_type": "code",
      "execution_count": 18,
      "metadata": {
        "id": "giFyVcpXZvN3"
      },
      "outputs": [],
      "source": [
        "class EncoderDecoder(torch.nn.Module):\n",
        "  def __init__(self, channels, out_labels, use_transpose: bool):\n",
        "    super().__init__()\n",
        "    assert len(channels) >= 2, \"The length of the channels list should be at least 2.\"\n",
        "    self.channels_count = len(channels)\n",
        "    self.encoder = self._add_encoder(channels)\n",
        "    self.decoder = self._add_decoder(channels, out_labels, use_transpose)\n",
        "    \n",
        "    self.start_layer = torch.nn.Conv2d(self.channels_count, channels[0], 3, padding=1)\n",
        "    self.final_down = torch.nn.Conv2d(channels[-1], channels[-1], 3, padding=1)\n",
        "    \n",
        "    self.start_upsampler = self._get_upsampler(channels[-1], channels[-2], use_transpose)\n",
        "    \n",
        "    self.pool = torch.nn.MaxPool2d(2)\n",
        "    self.act = torch.nn.ReLU()\n",
        "    self.bnorm = torch.nn.BatchNorm2d(channels[-1])\n",
        "  \n",
        "\n",
        "  def forward(self, x):\n",
        "      x = self.act(self.start_layer(x))\n",
        "      x, encode_layers = self._encode(x)\n",
        "      \n",
        "      x = self.bnorm(self.pool(x))\n",
        "      x = self.act(self.final_down(x))\n",
        "      \n",
        "      x = self.act(self.start_upsampler(x))\n",
        "      x = self._decode(x, encode_layers)\n",
        "      return x\n",
        "    \n",
        "  def _get_upsampler(self, in_channels: int, out_channels: int, use_transpose: bool):\n",
        "    if use_transpose:\n",
        "      return torch.nn.ConvTranspose2d(in_channels, out_channels, 2, stride=2)\n",
        "    else:\n",
        "      return torch.nn.Sequential(\n",
        "        torch.nn.Upsample(scale_factor=2, mode='nearest'),\n",
        "        torch.nn.Conv2d(in_channels, out_channels, kernel_size=3, stride=1, padding=1)\n",
        "      )\n",
        "     \n",
        "  def _add_encoder(self, channels):\n",
        "    return nn.ModuleList([\n",
        "      torch.nn.Conv2d(channels[i], channels[i + 1], 3, padding=1) \n",
        "      for i in range(self.channels_count - 1)\n",
        "    ])\n",
        "  \n",
        "  def _add_decoder(self, channels, out_labels, use_transpose: bool):\n",
        "    return nn.ModuleList([\n",
        "      self._get_upsampler(channels[i] + channels[i - 1], out_labels if i == 1 else channels[i - 2], use_transpose)\n",
        "      for i in reversed(range(1, self.channels_count))\n",
        "    ])  \n",
        "  \n",
        "  def _encode(self, x):\n",
        "    layers = []\n",
        "    for enc in self.encoder:\n",
        "      x = self.act(enc(self.pool(x)))\n",
        "      layers.append(x)\n",
        "    return x, layers\n",
        "      \n",
        "  def _decode(self, x, encode_layers):\n",
        "    assert len(encode_layers) >= len(self.decoder), \"Up latyers and down layers are mismatched\"\n",
        "    i = len(encode_layers) - 1\n",
        "    for dec in self.decoder:\n",
        "      x = torch.cat((x, encode_layers[i]), dim=1)\n",
        "      x = self.act(dec(x))\n",
        "      i -= 1\n",
        "    return x"
      ]
    },
    {
      "cell_type": "code",
      "execution_count": 15,
      "metadata": {
        "colab": {
          "base_uri": "https://localhost:8080/"
        },
        "id": "l50v4hZCiCDA",
        "outputId": "1b410da9-32ea-49ee-ffef-35fabfef3966"
      },
      "outputs": [
        {
          "name": "stdout",
          "output_type": "stream",
          "text": [
            "CUDA is available: True\n",
            "Number of CUDA devices: 1\n",
            "Current device: 0\n"
          ]
        }
      ],
      "source": [
        "print(\"CUDA is available:\", torch.cuda.is_available())\n",
        "print(\"Number of CUDA devices:\", torch.cuda.device_count())\n",
        "print(\"Current device:\", torch.cuda.current_device())"
      ]
    },
    {
      "cell_type": "code",
      "execution_count": 25,
      "metadata": {
        "id": "ax8edvo4gNjk"
      },
      "outputs": [],
      "source": [
        "for use_transpose in range(0, 2):\n",
        "    for channel_size in range(2, 7):  \n",
        "        channel = [32 * (2 ** i) for i in range(channel_size)]\n",
        "        model = EncoderDecoder(channel, 21, bool(use_transpose)).cuda()\n",
        "\n",
        "        dummy_data = torch.zeros((32,len(channel),64,64)).cuda()\n",
        "\n",
        "        assert(model(dummy_data).shape==(32,21,64,64))"
      ]
    },
    {
      "cell_type": "code",
      "execution_count": 26,
      "metadata": {
        "colab": {
          "base_uri": "https://localhost:8080/"
        },
        "id": "z6gep1KPgNjk",
        "outputId": "66a36d81-b061-4609-ec20-81b6848714a1"
      },
      "outputs": [
        {
          "name": "stdout",
          "output_type": "stream",
          "text": [
            "Epoch 0: train loss = 0.359 (acc: 0.622), validation loss = 0.357 (acc: 0.623)\n",
            "Epoch 1: train loss = 0.190 (acc: 0.780), validation loss = 0.189 (acc: 0.780)\n",
            "Epoch 2: train loss = 0.188 (acc: 0.780), validation loss = 0.188 (acc: 0.780)\n",
            "Epoch 3: train loss = 0.184 (acc: 0.781), validation loss = 0.183 (acc: 0.781)\n",
            "Epoch 4: train loss = 0.184 (acc: 0.781), validation loss = 0.183 (acc: 0.781)\n",
            "Epoch 5: train loss = 0.184 (acc: 0.781), validation loss = 0.183 (acc: 0.782)\n",
            "Epoch 6: train loss = 0.188 (acc: 0.780), validation loss = 0.188 (acc: 0.780)\n",
            "Epoch 7: train loss = 0.184 (acc: 0.781), validation loss = 0.183 (acc: 0.781)\n",
            "Epoch 8: train loss = 0.182 (acc: 0.781), validation loss = 0.182 (acc: 0.781)\n",
            "Epoch 9: train loss = 0.182 (acc: 0.781), validation loss = 0.182 (acc: 0.781)\n",
            "Epoch 10: train loss = 0.182 (acc: 0.781), validation loss = 0.181 (acc: 0.782)\n",
            "Epoch 11: train loss = 0.182 (acc: 0.781), validation loss = 0.181 (acc: 0.782)\n",
            "Epoch 12: train loss = 0.182 (acc: 0.781), validation loss = 0.181 (acc: 0.782)\n",
            "Epoch 13: train loss = 0.182 (acc: 0.781), validation loss = 0.182 (acc: 0.781)\n",
            "Epoch 14: train loss = 0.181 (acc: 0.781), validation loss = 0.180 (acc: 0.782)\n",
            "Epoch 15: train loss = 0.182 (acc: 0.781), validation loss = 0.181 (acc: 0.782)\n",
            "Epoch 16: train loss = 0.181 (acc: 0.781), validation loss = 0.181 (acc: 0.781)\n",
            "Epoch 17: train loss = 0.180 (acc: 0.781), validation loss = 0.180 (acc: 0.782)\n",
            "Epoch 18: train loss = 0.180 (acc: 0.782), validation loss = 0.180 (acc: 0.782)\n",
            "Epoch 19: train loss = 0.180 (acc: 0.782), validation loss = 0.179 (acc: 0.782)\n"
          ]
        }
      ],
      "source": [
        "model = EncoderDecoder([32,64,128], 2, True).cuda()\n",
        "\n",
        "loss = torch.nn.CrossEntropyLoss(ignore_index=255)\n",
        "train_dl = DataLoader(data, batch_size=32, shuffle=True)\n",
        "test_dl = DataLoader(test_data, batch_size=32)\n",
        "optimizer = optim.Adam(model.parameters())\n",
        "\n",
        "val_losses_transpose, val_accs_transpose = fit(model, optimizer, loss, train_dl, test_dl, 20, True)"
      ]
    },
    {
      "cell_type": "code",
      "execution_count": 27,
      "metadata": {
        "colab": {
          "base_uri": "https://localhost:8080/"
        },
        "id": "8Ug9-KvbgNjk",
        "outputId": "64eb4b69-228e-414c-8a3e-151ff83ce20e"
      },
      "outputs": [
        {
          "name": "stdout",
          "output_type": "stream",
          "text": [
            "Epoch 0: train loss = 0.617 (acc: 0.161), validation loss = 0.617 (acc: 0.160)\n",
            "Epoch 1: train loss = 0.612 (acc: 0.161), validation loss = 0.612 (acc: 0.160)\n",
            "Epoch 2: train loss = 0.618 (acc: 0.161), validation loss = 0.618 (acc: 0.160)\n",
            "Epoch 3: train loss = 0.614 (acc: 0.161), validation loss = 0.614 (acc: 0.160)\n",
            "Epoch 4: train loss = 0.612 (acc: 0.161), validation loss = 0.611 (acc: 0.160)\n",
            "Epoch 5: train loss = 0.611 (acc: 0.161), validation loss = 0.610 (acc: 0.160)\n",
            "Epoch 6: train loss = 0.610 (acc: 0.161), validation loss = 0.610 (acc: 0.160)\n",
            "Epoch 7: train loss = 0.611 (acc: 0.161), validation loss = 0.611 (acc: 0.160)\n",
            "Epoch 8: train loss = 0.610 (acc: 0.161), validation loss = 0.611 (acc: 0.160)\n",
            "Epoch 9: train loss = 0.610 (acc: 0.161), validation loss = 0.610 (acc: 0.160)\n",
            "Epoch 10: train loss = 0.609 (acc: 0.161), validation loss = 0.609 (acc: 0.160)\n",
            "Epoch 11: train loss = 0.609 (acc: 0.161), validation loss = 0.609 (acc: 0.160)\n",
            "Epoch 12: train loss = 0.609 (acc: 0.161), validation loss = 0.609 (acc: 0.160)\n",
            "Epoch 13: train loss = 0.609 (acc: 0.161), validation loss = 0.609 (acc: 0.160)\n",
            "Epoch 14: train loss = 0.609 (acc: 0.161), validation loss = 0.609 (acc: 0.160)\n",
            "Epoch 15: train loss = 0.610 (acc: 0.161), validation loss = 0.609 (acc: 0.160)\n",
            "Epoch 16: train loss = 0.609 (acc: 0.161), validation loss = 0.609 (acc: 0.160)\n",
            "Epoch 17: train loss = 0.610 (acc: 0.161), validation loss = 0.610 (acc: 0.160)\n",
            "Epoch 18: train loss = 0.608 (acc: 0.161), validation loss = 0.609 (acc: 0.160)\n",
            "Epoch 19: train loss = 0.608 (acc: 0.161), validation loss = 0.608 (acc: 0.160)\n"
          ]
        }
      ],
      "source": [
        "model = EncoderDecoder([32,64,128], 2, False).cuda()\n",
        "\n",
        "loss = torch.nn.CrossEntropyLoss(ignore_index=255)\n",
        "train_dl = DataLoader(data, batch_size=32, shuffle=True)\n",
        "test_dl = DataLoader(test_data, batch_size=32)\n",
        "optimizer = optim.Adam(model.parameters())\n",
        "\n",
        "val_losses_no_transpose, val_accs_no_transpose = fit(model, optimizer, loss, train_dl, test_dl, 20, True)"
      ]
    },
    {
      "cell_type": "code",
      "execution_count": 32,
      "metadata": {
        "id": "DzLYERZEgfvH"
      },
      "outputs": [],
      "source": [
        "\n",
        "def plot_multiple_val_metrics(val_losses_list, val_accs_list, labels):\n",
        "    assert len(val_losses_list) == len(val_accs_list) == len(labels), \"The lengths of the input lists should be the same.\"\n",
        "    \n",
        "    epochs = range(1, len(val_losses_list[0]) + 1)\n",
        "\n",
        "    plt.figure()\n",
        "    for i, val_losses in enumerate(val_losses_list):\n",
        "        plt.plot(epochs, [tensor.cpu() for tensor in val_losses], label=labels[i])\n",
        "    plt.title('Validation Losses')\n",
        "    plt.xlabel('Epochs')\n",
        "    plt.ylabel('Loss')\n",
        "    plt.legend()\n",
        "    plt.show()\n",
        "\n",
        "    plt.figure()\n",
        "    for i, val_accs in enumerate(val_accs_list):\n",
        "        plt.plot(epochs, [tensor.cpu() for tensor in val_accs], label=labels[i])\n",
        "    plt.title('Validation Accuracies')\n",
        "    plt.xlabel('Epochs')\n",
        "    plt.ylabel('Accuracy')\n",
        "    plt.legend()\n",
        "    plt.show()"
      ]
    },
    {
      "cell_type": "code",
      "execution_count": 33,
      "metadata": {
        "colab": {
          "base_uri": "https://localhost:8080/",
          "height": 927
        },
        "id": "nQ5Rhd9Jk4X3",
        "outputId": "c8657323-c137-414c-de77-48a30c0bc38a"
      },
      "outputs": [
        {
          "data": {
            "image/png": "[encoded data removed]",
            "text/plain": [
              "<Figure size 640x480 with 1 Axes>"
            ]
          },
          "metadata": {},
          "output_type": "display_data"
        },
        {
          "data": {
            "image/png": "[encoded data removed]",
            "text/plain": [
              "<Figure size 640x480 with 1 Axes>"
            ]
          },
          "metadata": {},
          "output_type": "display_data"
        }
      ],
      "source": [
        "val_losses_list = [val_losses_Simple, val_losses_transpose, val_losses_no_transpose]\n",
        "val_accs_list = [val_accs_Simple, val_accs_transpose, val_accs_no_transpose]\n",
        "labels = [\"Simple\", \"transpose\", \"no transpose\"]\n",
        "\n",
        "plot_multiple_val_metrics(val_losses_list, val_accs_list, labels)"
      ]
    }
  ],
  "metadata": {
    "accelerator": "GPU",
    "colab": {
      "provenance": [],
      "toc_visible": true
    },
    "kernelspec": {
      "display_name": "Python 3",
      "name": "python3"
    },
    "language_info": {
      "codemirror_mode": {
        "name": "ipython",
        "version": 3
      },
      "file_extension": ".py",
      "mimetype": "text/x-python",
      "name": "python",
      "nbconvert_exporter": "python",
      "pygments_lexer": "ipython3",
      "version": "3.8.7"
    }
  },
  "nbformat": 4,
  "nbformat_minor": 0
}
